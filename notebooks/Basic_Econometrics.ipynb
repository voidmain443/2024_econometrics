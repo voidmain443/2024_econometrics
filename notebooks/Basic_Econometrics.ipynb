{
 "cells": [
  {
   "metadata": {},
   "cell_type": "markdown",
   "source": [
    "# 계량경제학 1주차 수업 \n",
    "-------------------------\n",
    "계량경제학의 1주차 수업을 시작합니다. \n",
    "처음 오신분들은 파이썬의 기초 문법을 알고 오시는것으로 알고 현재 수업은 진행됩니다. 현재 모듈은 해결적과정 2에 해당합니다. \n",
    "\n",
    "목차는 readme문서를 참고해주시기 바랍니다. \n",
    "\n"
   ],
   "id": "b86032b206869609"
  },
  {
   "metadata": {},
   "cell_type": "markdown",
   "source": [
    "기초적인 통계 학 개념부터 구현해보도록 합시다. 이 분야는 한단계씩 쌓아 올리는 부분과, 천천히 개념에 대한 이해를 깊게 가져가는 두개의 적절한 조화가 필요합니다. "
   ],
   "id": "82dde1b9dd4ed370"
  },
  {
   "metadata": {},
   "cell_type": "markdown",
   "source": [
    "### 기초 통계학 개념\n"
   ],
   "id": "b37982aaedb166ae"
  },
  {
   "metadata": {
    "ExecuteTime": {
     "end_time": "2024-06-01T13:52:54.094330Z",
     "start_time": "2024-06-01T13:52:54.091604Z"
    }
   },
   "cell_type": "code",
   "source": [],
   "id": "4a65ae6da0dd723c",
   "outputs": [
    {
     "data": {
      "text/plain": [
       "1"
      ]
     },
     "execution_count": 3,
     "metadata": {},
     "output_type": "execute_result"
    }
   ],
   "execution_count": 3
  },
  {
   "cell_type": "code",
   "id": "initial_id",
   "metadata": {
    "collapsed": true,
    "ExecuteTime": {
     "end_time": "2024-06-17T05:00:00.505324Z",
     "start_time": "2024-06-17T05:00:00.499860Z"
    }
   },
   "source": [
    "import json\n",
    "import pandas as pd \n",
    "from dotenv import load_dotenv\n",
    "import os\n",
    "load_dotenv()\n",
    "API_KEY = os.environ.get(\"API_KEY\")"
   ],
   "outputs": [],
   "execution_count": 4
  },
  {
   "metadata": {},
   "cell_type": "markdown",
   "source": "",
   "id": "a2c1b786f31c1256"
  },
  {
   "metadata": {
    "ExecuteTime": {
     "end_time": "2024-06-17T05:00:05.819149Z",
     "start_time": "2024-06-17T05:00:04.282934Z"
    }
   },
   "cell_type": "code",
   "outputs": [
    {
     "name": "stdout",
     "output_type": "stream",
     "text": [
      "{'quoteSummary': {'result': [{'defaultKeyStatistics': {'maxAge': 1, 'priceHint': {'raw': 4, 'fmt': '4', 'longFmt': '4'}, 'enterpriseValue': {'raw': 21631904, 'fmt': '21.63M', 'longFmt': '21,631,904'}, 'forwardPE': {'raw': -5.557857, 'fmt': '-5.56'}, 'profitMargins': {'raw': -0.18959999, 'fmt': '-18.96%'}, 'floatShares': {'raw': 383303481, 'fmt': '383.3M', 'longFmt': '383,303,481'}, 'sharesOutstanding': {'raw': 410868992, 'fmt': '410.87M', 'longFmt': '410,868,992'}, 'sharesShort': {'raw': 16064070, 'fmt': '16.06M', 'longFmt': '16,064,070'}, 'sharesShortPriorMonth': {'raw': 15840648, 'fmt': '15.84M', 'longFmt': '15,840,648'}, 'sharesShortPreviousMonthDate': {'raw': 1713139200, 'fmt': '2024-04-15'}, 'dateShortInterest': {'raw': 1715731200, 'fmt': '2024-05-15'}, 'sharesPercentSharesOut': {'raw': 0.039100002, 'fmt': '3.91%'}, 'heldPercentInsiders': {'raw': 0.01541, 'fmt': '1.54%'}, 'heldPercentInstitutions': {'raw': 0.22393, 'fmt': '22.39%'}, 'shortRatio': {'raw': 15.82, 'fmt': '15.82'}, 'shortPercentOfFloat': {'raw': 0.0396, 'fmt': '3.96%'}, 'beta': {'raw': 1.993, 'fmt': '1.99'}, 'impliedSharesOutstanding': {'raw': 410868992, 'fmt': '410.87M', 'longFmt': '410,868,992'}, 'morningStarOverallRating': {}, 'morningStarRiskRating': {}, 'category': None, 'bookValue': {'raw': 1.329, 'fmt': '1.33'}, 'priceToBook': {'raw': 0.5854778, 'fmt': '0.59'}, 'annualReportExpenseRatio': {}, 'ytdReturn': {}, 'beta3Year': {}, 'totalAssets': {}, 'yield': {}, 'fundFamily': None, 'fundInceptionDate': {}, 'legalType': None, 'threeYearAverageReturn': {}, 'fiveYearAverageReturn': {}, 'priceToSalesTrailing12Months': {}, 'lastFiscalYearEnd': {'raw': 1703980800, 'fmt': '2023-12-31'}, 'nextFiscalYearEnd': {'raw': 1735603200, 'fmt': '2024-12-31'}, 'mostRecentQuarter': {'raw': 1711843200, 'fmt': '2024-03-31'}, 'earningsQuarterlyGrowth': {}, 'revenueQuarterlyGrowth': {}, 'netIncomeToCommon': {'raw': -52605000, 'fmt': '-52.6M', 'longFmt': '-52,605,000'}, 'trailingEps': {'raw': -0.13, 'fmt': '-0.1300'}, 'forwardEps': {'raw': -0.14, 'fmt': '-0.14'}, 'pegRatio': {'raw': -0.14, 'fmt': '-0.14'}, 'lastSplitFactor': '1:10', 'lastSplitDate': {'raw': 1200614400, 'fmt': '2008-01-18'}, 'enterpriseToRevenue': {'raw': 0.078, 'fmt': '0.08'}, 'enterpriseToEbitda': {'raw': -0.944, 'fmt': '-0.94'}, '52WeekChange': {'raw': -0.3445378, 'fmt': '-34.45%'}, 'SandP52WeekChange': {'raw': 0.23763025, 'fmt': '23.76%'}, 'lastDividendValue': {}, 'lastDividendDate': {}, 'lastCapGain': {}, 'annualHoldingsTurnover': {}}}], 'error': None}}\n"
     ]
    }
   ],
   "execution_count": 6,
   "source": [
    "import requests\n",
    "\n",
    "url = \"https://apidojo-yahoo-finance-v1.p.rapidapi.com/stock/v4/get-statistics\"\n",
    "\n",
    "querystring = {\"symbol\":\"AMRN\",\"region\":\"US\",\"lang\":\"en-US\"}\n",
    "\n",
    "headers = {\n",
    "\t\"x-rapidapi-key\": API_KEY,\n",
    "\t\"x-rapidapi-host\": \"apidojo-yahoo-finance-v1.p.rapidapi.com\"\n",
    "}\n",
    "\n",
    "response = requests.get(url, headers=headers, params=querystring)\n",
    "\n",
    "print(response.json())"
   ],
   "id": "b4f3832cb3fab337"
  },
  {
   "cell_type": "code",
   "outputs": [],
   "source": [
    "data = response.json()"
   ],
   "metadata": {
    "collapsed": false,
    "ExecuteTime": {
     "end_time": "2024-06-17T04:22:21.794874Z",
     "start_time": "2024-06-17T04:22:21.791592Z"
    }
   },
   "id": "8542f91688c5b32b",
   "execution_count": 21
  },
  {
   "cell_type": "code",
   "outputs": [],
   "source": [
    "df = pd.json_normalize(data, record_path=['quoteSummary','result'])"
   ],
   "metadata": {
    "collapsed": false,
    "ExecuteTime": {
     "end_time": "2024-06-17T04:23:04.480447Z",
     "start_time": "2024-06-17T04:23:04.474198Z"
    }
   },
   "id": "73c1d9f71eada94a",
   "execution_count": 22
  },
  {
   "cell_type": "code",
   "outputs": [
    {
     "data": {
      "text/plain": "   defaultKeyStatistics.maxAge  defaultKeyStatistics.priceHint.raw  \\\n0                            1                                   4   \n\n  defaultKeyStatistics.priceHint.fmt defaultKeyStatistics.priceHint.longFmt  \\\n0                                  4                                      4   \n\n   defaultKeyStatistics.enterpriseValue.raw  \\\n0                                  21631904   \n\n  defaultKeyStatistics.enterpriseValue.fmt  \\\n0                                   21.63M   \n\n  defaultKeyStatistics.enterpriseValue.longFmt  \\\n0                                   21,631,904   \n\n   defaultKeyStatistics.forwardPE.raw defaultKeyStatistics.forwardPE.fmt  \\\n0                           -5.557857                              -5.56   \n\n   defaultKeyStatistics.profitMargins.raw  ...  \\\n0                                 -0.1896  ...   \n\n  defaultKeyStatistics.lastSplitDate.raw  \\\n0                             1200614400   \n\n   defaultKeyStatistics.lastSplitDate.fmt  \\\n0                              2008-01-18   \n\n  defaultKeyStatistics.enterpriseToRevenue.raw  \\\n0                                        0.078   \n\n  defaultKeyStatistics.enterpriseToRevenue.fmt  \\\n0                                         0.08   \n\n   defaultKeyStatistics.enterpriseToEbitda.raw  \\\n0                                       -0.944   \n\n  defaultKeyStatistics.enterpriseToEbitda.fmt  \\\n0                                       -0.94   \n\n  defaultKeyStatistics.52WeekChange.raw  \\\n0                             -0.344538   \n\n   defaultKeyStatistics.52WeekChange.fmt  \\\n0                                -34.45%   \n\n  defaultKeyStatistics.SandP52WeekChange.raw  \\\n0                                    0.23763   \n\n  defaultKeyStatistics.SandP52WeekChange.fmt  \n0                                     23.76%  \n\n[1 rows x 75 columns]",
      "text/html": "<div>\n<style scoped>\n    .dataframe tbody tr th:only-of-type {\n        vertical-align: middle;\n    }\n\n    .dataframe tbody tr th {\n        vertical-align: top;\n    }\n\n    .dataframe thead th {\n        text-align: right;\n    }\n</style>\n<table border=\"1\" class=\"dataframe\">\n  <thead>\n    <tr style=\"text-align: right;\">\n      <th></th>\n      <th>defaultKeyStatistics.maxAge</th>\n      <th>defaultKeyStatistics.priceHint.raw</th>\n      <th>defaultKeyStatistics.priceHint.fmt</th>\n      <th>defaultKeyStatistics.priceHint.longFmt</th>\n      <th>defaultKeyStatistics.enterpriseValue.raw</th>\n      <th>defaultKeyStatistics.enterpriseValue.fmt</th>\n      <th>defaultKeyStatistics.enterpriseValue.longFmt</th>\n      <th>defaultKeyStatistics.forwardPE.raw</th>\n      <th>defaultKeyStatistics.forwardPE.fmt</th>\n      <th>defaultKeyStatistics.profitMargins.raw</th>\n      <th>...</th>\n      <th>defaultKeyStatistics.lastSplitDate.raw</th>\n      <th>defaultKeyStatistics.lastSplitDate.fmt</th>\n      <th>defaultKeyStatistics.enterpriseToRevenue.raw</th>\n      <th>defaultKeyStatistics.enterpriseToRevenue.fmt</th>\n      <th>defaultKeyStatistics.enterpriseToEbitda.raw</th>\n      <th>defaultKeyStatistics.enterpriseToEbitda.fmt</th>\n      <th>defaultKeyStatistics.52WeekChange.raw</th>\n      <th>defaultKeyStatistics.52WeekChange.fmt</th>\n      <th>defaultKeyStatistics.SandP52WeekChange.raw</th>\n      <th>defaultKeyStatistics.SandP52WeekChange.fmt</th>\n    </tr>\n  </thead>\n  <tbody>\n    <tr>\n      <th>0</th>\n      <td>1</td>\n      <td>4</td>\n      <td>4</td>\n      <td>4</td>\n      <td>21631904</td>\n      <td>21.63M</td>\n      <td>21,631,904</td>\n      <td>-5.557857</td>\n      <td>-5.56</td>\n      <td>-0.1896</td>\n      <td>...</td>\n      <td>1200614400</td>\n      <td>2008-01-18</td>\n      <td>0.078</td>\n      <td>0.08</td>\n      <td>-0.944</td>\n      <td>-0.94</td>\n      <td>-0.344538</td>\n      <td>-34.45%</td>\n      <td>0.23763</td>\n      <td>23.76%</td>\n    </tr>\n  </tbody>\n</table>\n<p>1 rows × 75 columns</p>\n</div>"
     },
     "execution_count": 23,
     "metadata": {},
     "output_type": "execute_result"
    }
   ],
   "source": [
    "df"
   ],
   "metadata": {
    "collapsed": false,
    "ExecuteTime": {
     "end_time": "2024-06-17T04:23:05.019054Z",
     "start_time": "2024-06-17T04:23:05.011503Z"
    }
   },
   "id": "aee0d76037fb065a",
   "execution_count": 23
  },
  {
   "cell_type": "code",
   "outputs": [],
   "source": "df.mean()",
   "metadata": {
    "collapsed": false
   },
   "id": "502a23ac0f2e3e62",
   "execution_count": null
  }
 ],
 "metadata": {
  "kernelspec": {
   "display_name": "Python 3",
   "language": "python",
   "name": "python3"
  },
  "language_info": {
   "codemirror_mode": {
    "name": "ipython",
    "version": 2
   },
   "file_extension": ".py",
   "mimetype": "text/x-python",
   "name": "python",
   "nbconvert_exporter": "python",
   "pygments_lexer": "ipython2",
   "version": "2.7.6"
  }
 },
 "nbformat": 4,
 "nbformat_minor": 5
}
