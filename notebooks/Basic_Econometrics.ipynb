{
 "cells": [
  {
   "metadata": {},
   "cell_type": "markdown",
   "source": [
    "# 계량경제학 1주차 수업 \n",
    "-------------------------\n",
    "계량경제학의 1주차 수업을 시작합니다. \n",
    "처음 오신분들은 파이썬의 기초 문법을 알고 오시는것으로 알고 현재 수업은 진행됩니다. 현재 모듈은 해결적과정 2에 해당합니다. \n",
    "\n",
    "목차는 readme문서를 참고해주시기 바랍니다. \n",
    "\n"
   ],
   "id": "b86032b206869609"
  },
  {
   "metadata": {},
   "cell_type": "markdown",
   "source": [
    "기초적인 통계 학 개념부터 구현해보도록 합시다. 이 분야는 한단계씩 쌓아 올리는 부분과, 천천히 개념에 대한 이해를 깊게 가져가는 두개의 적절한 조화가 필요합니다. "
   ],
   "id": "82dde1b9dd4ed370"
  },
  {
   "metadata": {},
   "cell_type": "markdown",
   "source": [
    "### 기초 통계학 개념\n"
   ],
   "id": "b37982aaedb166ae"
  },
  {
   "metadata": {
    "ExecuteTime": {
     "end_time": "2024-06-01T13:52:54.094330Z",
     "start_time": "2024-06-01T13:52:54.091604Z"
    }
   },
   "cell_type": "code",
   "source": [],
   "id": "4a65ae6da0dd723c",
   "outputs": [
    {
     "data": {
      "text/plain": [
       "1"
      ]
     },
     "execution_count": 3,
     "metadata": {},
     "output_type": "execute_result"
    }
   ],
   "execution_count": 3
  },
  {
   "cell_type": "code",
   "id": "initial_id",
   "metadata": {
    "collapsed": true,
    "ExecuteTime": {
     "end_time": "2024-06-04T07:03:36.633047Z",
     "start_time": "2024-06-04T07:03:36.578821Z"
    }
   },
   "source": [
    "import numpy as np"
   ],
   "outputs": [],
   "execution_count": 1
  },
  {
   "metadata": {},
   "cell_type": "code",
   "outputs": [],
   "execution_count": null,
   "source": [],
   "id": "b4f3832cb3fab337"
  }
 ],
 "metadata": {
  "kernelspec": {
   "display_name": "Python 3",
   "language": "python",
   "name": "python3"
  },
  "language_info": {
   "codemirror_mode": {
    "name": "ipython",
    "version": 2
   },
   "file_extension": ".py",
   "mimetype": "text/x-python",
   "name": "python",
   "nbconvert_exporter": "python",
   "pygments_lexer": "ipython2",
   "version": "2.7.6"
  }
 },
 "nbformat": 4,
 "nbformat_minor": 5
}
