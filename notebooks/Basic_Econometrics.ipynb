{
 "cells": [
  {
   "metadata": {},
   "cell_type": "markdown",
   "source": [
    "# 계량경제학 1주차 수업 \n",
    "-------------------------\n",
    "계량경제학의 1주차 수업을 시작합니다. \n",
    "처음 오신분들은 파이썬의 기초 문법을 알고 오시는것으로 알고 현재 수업은 진행됩니다. 현재 모듈은 해결적과정 2에 해당합니다. \n",
    "\n",
    "목차는 readme문서를 참고해주시기 바랍니다. \n",
    "\n"
   ],
   "id": "b86032b206869609"
  },
  {
   "metadata": {},
   "cell_type": "markdown",
   "source": [
    "기초적인 통계 학 개념부터 구현해보도록 합시다. 이 분야는 한단계씩 쌓아 올리는 부분과, 천천히 개념에 대한 이해를 깊게 가져가는 두개의 적절한 조화가 필요합니다. "
   ],
   "id": "82dde1b9dd4ed370"
  },
  {
   "metadata": {},
   "cell_type": "markdown",
   "source": [
    "### 기초 통계학 개념\n"
   ],
   "id": "b37982aaedb166ae"
  },
  {
   "metadata": {
    "ExecuteTime": {
     "end_time": "2024-06-21T13:10:54.155828Z",
     "start_time": "2024-06-21T13:10:54.154065Z"
    }
   },
   "cell_type": "code",
   "source": [],
   "id": "4a65ae6da0dd723c",
   "outputs": [],
   "execution_count": 1
  },
  {
   "cell_type": "code",
   "id": "initial_id",
   "metadata": {
    "collapsed": true,
    "ExecuteTime": {
     "end_time": "2024-06-21T13:45:51.750061Z",
     "start_time": "2024-06-21T13:45:51.747157Z"
    }
   },
   "source": [
    "import json\n",
    "import pandas as pd \n",
    "from dotenv import load_dotenv\n",
    "import os\n",
    "load_dotenv()\n",
    "API_KEY = os.environ.get(\"API_KEY\")"
   ],
   "outputs": [],
   "execution_count": 13
  },
  {
   "metadata": {
    "ExecuteTime": {
     "end_time": "2024-06-21T13:11:08.234901Z",
     "start_time": "2024-06-21T13:11:05.636527Z"
    }
   },
   "cell_type": "code",
   "outputs": [
    {
     "name": "stdout",
     "output_type": "stream",
     "text": [
      "{'quoteSummary': {'result': [{'assetProfile': {'address1': 'Iconic Offices, The Greenway', 'address2': 'Block C Ardilaun Court St Stephens Green', 'city': 'Dublin', 'zip': '112-114', 'country': 'Ireland', 'phone': '353 0 166 99020', 'website': 'https://www.amarincorp.com', 'industry': 'Drug Manufacturers - General', 'industryKey': 'drug-manufacturers-general', 'industryDisp': 'Drug Manufacturers - General', 'sector': 'Healthcare', 'sectorKey': 'healthcare', 'sectorDisp': 'Healthcare', 'longBusinessSummary': 'Amarin Corporation plc, a pharmaceutical company, engages in the development and commercialization of therapeutics for the treatment of cardiovascular diseases in the United States, European countries, Canada, Lebanon, and the United Arab Emirates. The company offers VASCEPA, a prescription-only omega-3 fatty acid product, used as an adjunct to diet for reducing triglyceride levels in adult patients with severe hypertriglyceridemia. It sells its products principally to wholesalers and specialty pharmacy providers. The company has a collaboration with Mochida Pharmaceutical Co., Ltd. to develop and commercialize drug products and indications based on the active pharmaceutical ingredient in Vascepa. The company was formerly known as Ethical Holdings plc and changed its name to Amarin Corporation plc in 1999. Amarin Corporation plc was incorporated in 1989 and is headquartered in Dublin, Ireland.', 'fullTimeEmployees': 275, 'companyOfficers': [{'maxAge': 1, 'name': 'Mr. Aaron D. Berg', 'age': 60, 'title': 'CEO & President', 'yearBorn': 1963, 'fiscalYear': 2023, 'totalPay': {'raw': 1260324, 'fmt': '1.26M', 'longFmt': '1,260,324'}, 'exercisedValue': {'raw': 0, 'fmt': None, 'longFmt': '0'}, 'unexercisedValue': {'raw': 0, 'fmt': None, 'longFmt': '0'}}, {'maxAge': 1, 'name': 'Mr. Thomas Charles Reilly', 'age': 50, 'title': 'Executive VP, CFO & Global Head of HR', 'yearBorn': 1973, 'fiscalYear': 2023, 'totalPay': {'raw': 1014135, 'fmt': '1.01M', 'longFmt': '1,014,135'}, 'exercisedValue': {'raw': 0, 'fmt': None, 'longFmt': '0'}, 'unexercisedValue': {'raw': 0, 'fmt': None, 'longFmt': '0'}}, {'maxAge': 1, 'name': 'Dr. Steven B. Ketchum Ph.D.', 'age': 58, 'title': 'Executive VP, President of Research & Development and Chief Scientific Officer', 'yearBorn': 1965, 'fiscalYear': 2023, 'totalPay': {'raw': 1162742, 'fmt': '1.16M', 'longFmt': '1,162,742'}, 'exercisedValue': {'raw': 0, 'fmt': None, 'longFmt': '0'}, 'unexercisedValue': {'raw': 0, 'fmt': None, 'longFmt': '0'}}, {'maxAge': 1, 'name': 'Mr. Jonathan N. Provoost', 'age': 53, 'title': 'Executive VP, Chief Legal & Compliance Officer and Secretary', 'yearBorn': 1970, 'fiscalYear': 2023, 'totalPay': {'raw': 160081, 'fmt': '160.08k', 'longFmt': '160,081'}, 'exercisedValue': {'raw': 0, 'fmt': None, 'longFmt': '0'}, 'unexercisedValue': {'raw': 0, 'fmt': None, 'longFmt': '0'}}, {'maxAge': 1, 'name': 'Mr. Jordan  Zwick', 'age': 36, 'title': 'Senior VP of Corporate Business Development & Investor Relations', 'yearBorn': 1987, 'fiscalYear': 2023, 'exercisedValue': {'raw': 0, 'fmt': None, 'longFmt': '0'}, 'unexercisedValue': {'raw': 0, 'fmt': None, 'longFmt': '0'}}, {'maxAge': 1, 'name': 'Mr. Laurent  Abuaf', 'title': 'President of Europe & Senior VP', 'fiscalYear': 2023, 'exercisedValue': {'raw': 0, 'fmt': None, 'longFmt': '0'}, 'unexercisedValue': {'raw': 0, 'fmt': None, 'longFmt': '0'}}, {'maxAge': 1, 'name': 'Dr. Nabil  Abadir', 'title': 'Chief Medical Officer of Global Medical Affairs', 'fiscalYear': 2023, 'exercisedValue': {'raw': 0, 'fmt': None, 'longFmt': '0'}, 'unexercisedValue': {'raw': 0, 'fmt': None, 'longFmt': '0'}}, {'maxAge': 1, 'name': 'Dr. David  Keenan Ph.D.', 'title': 'Executive VP of Technical Operations & President of Europe', 'fiscalYear': 2023, 'exercisedValue': {'raw': 0, 'fmt': None, 'longFmt': '0'}, 'unexercisedValue': {'raw': 0, 'fmt': None, 'longFmt': '0'}}], 'compensationAsOfEpochDate': 1703980800, 'irWebsite': 'http://investor.amarincorp.com/', 'maxAge': 86400}, 'summaryProfile': {'address1': 'Iconic Offices, The Greenway', 'address2': 'Block C Ardilaun Court St Stephens Green', 'city': 'Dublin', 'zip': '112-114', 'country': 'Ireland', 'phone': '353 0 166 99020', 'website': 'https://www.amarincorp.com', 'industry': 'Drug Manufacturers - General', 'industryKey': 'drug-manufacturers-general', 'industryDisp': 'Drug Manufacturers - General', 'sector': 'Healthcare', 'sectorKey': 'healthcare', 'sectorDisp': 'Healthcare', 'longBusinessSummary': 'Amarin Corporation plc, a pharmaceutical company, engages in the development and commercialization of therapeutics for the treatment of cardiovascular diseases in the United States, European countries, Canada, Lebanon, and the United Arab Emirates. The company offers VASCEPA, a prescription-only omega-3 fatty acid product, used as an adjunct to diet for reducing triglyceride levels in adult patients with severe hypertriglyceridemia. It sells its products principally to wholesalers and specialty pharmacy providers. The company has a collaboration with Mochida Pharmaceutical Co., Ltd. to develop and commercialize drug products and indications based on the active pharmaceutical ingredient in Vascepa. The company was formerly known as Ethical Holdings plc and changed its name to Amarin Corporation plc in 1999. Amarin Corporation plc was incorporated in 1989 and is headquartered in Dublin, Ireland.', 'fullTimeEmployees': 275, 'companyOfficers': [], 'irWebsite': 'http://investor.amarincorp.com/', 'maxAge': 86400}}], 'error': None}}\n"
     ]
    }
   ],
   "execution_count": 3,
   "source": [
    "import requests\n",
    "\n",
    "url = \"https://yh-finance.p.rapidapi.com/stock/get-fundamentals\"\n",
    "\n",
    "querystring = {\"symbol\":\"AMRN\",\"region\":\"US\",\"lang\":\"en-US\",\"modules\":\"assetProfile,summaryProfile,fundProfile\"}\n",
    "\n",
    "headers = {\n",
    "\t\"x-rapidapi-key\": API_KEY,\n",
    "\t\"x-rapidapi-host\": \"yh-finance.p.rapidapi.com\"\n",
    "}\n",
    "\n",
    "response = requests.get(url, headers=headers, params=querystring)\n",
    "\n",
    "print(response.json())"
   ],
   "id": "b4f3832cb3fab337"
  },
  {
   "cell_type": "code",
   "outputs": [],
   "source": [
    "data = response.json()"
   ],
   "metadata": {
    "collapsed": false,
    "ExecuteTime": {
     "end_time": "2024-06-21T13:11:08.239222Z",
     "start_time": "2024-06-21T13:11:08.236227Z"
    }
   },
   "id": "8542f91688c5b32b",
   "execution_count": 4
  },
  {
   "cell_type": "code",
   "outputs": [],
   "source": [
    "df = pd.json_normalize(data, record_path=['quoteSummary','result'])"
   ],
   "metadata": {
    "collapsed": false,
    "ExecuteTime": {
     "end_time": "2024-06-21T13:11:08.245637Z",
     "start_time": "2024-06-21T13:11:08.241155Z"
    }
   },
   "id": "73c1d9f71eada94a",
   "execution_count": 5
  },
  {
   "cell_type": "code",
   "outputs": [
    {
     "data": {
      "text/plain": "          assetProfile.address1                     assetProfile.address2  \\\n0  Iconic Offices, The Greenway  Block C Ardilaun Court St Stephens Green   \n\n  assetProfile.city assetProfile.zip assetProfile.country assetProfile.phone  \\\n0            Dublin          112-114              Ireland    353 0 166 99020   \n\n         assetProfile.website         assetProfile.industry  \\\n0  https://www.amarincorp.com  Drug Manufacturers - General   \n\n     assetProfile.industryKey     assetProfile.industryDisp  ...  \\\n0  drug-manufacturers-general  Drug Manufacturers - General  ...   \n\n   summaryProfile.industryKey   summaryProfile.industryDisp  \\\n0  drug-manufacturers-general  Drug Manufacturers - General   \n\n  summaryProfile.sector summaryProfile.sectorKey  summaryProfile.sectorDisp  \\\n0            Healthcare               healthcare                 Healthcare   \n\n                  summaryProfile.longBusinessSummary  \\\n0  Amarin Corporation plc, a pharmaceutical compa...   \n\n   summaryProfile.fullTimeEmployees summaryProfile.companyOfficers  \\\n0                               275                             []   \n\n          summaryProfile.irWebsite summaryProfile.maxAge  \n0  http://investor.amarincorp.com/                 86400  \n\n[1 rows x 37 columns]",
      "text/html": "<div>\n<style scoped>\n    .dataframe tbody tr th:only-of-type {\n        vertical-align: middle;\n    }\n\n    .dataframe tbody tr th {\n        vertical-align: top;\n    }\n\n    .dataframe thead th {\n        text-align: right;\n    }\n</style>\n<table border=\"1\" class=\"dataframe\">\n  <thead>\n    <tr style=\"text-align: right;\">\n      <th></th>\n      <th>assetProfile.address1</th>\n      <th>assetProfile.address2</th>\n      <th>assetProfile.city</th>\n      <th>assetProfile.zip</th>\n      <th>assetProfile.country</th>\n      <th>assetProfile.phone</th>\n      <th>assetProfile.website</th>\n      <th>assetProfile.industry</th>\n      <th>assetProfile.industryKey</th>\n      <th>assetProfile.industryDisp</th>\n      <th>...</th>\n      <th>summaryProfile.industryKey</th>\n      <th>summaryProfile.industryDisp</th>\n      <th>summaryProfile.sector</th>\n      <th>summaryProfile.sectorKey</th>\n      <th>summaryProfile.sectorDisp</th>\n      <th>summaryProfile.longBusinessSummary</th>\n      <th>summaryProfile.fullTimeEmployees</th>\n      <th>summaryProfile.companyOfficers</th>\n      <th>summaryProfile.irWebsite</th>\n      <th>summaryProfile.maxAge</th>\n    </tr>\n  </thead>\n  <tbody>\n    <tr>\n      <th>0</th>\n      <td>Iconic Offices, The Greenway</td>\n      <td>Block C Ardilaun Court St Stephens Green</td>\n      <td>Dublin</td>\n      <td>112-114</td>\n      <td>Ireland</td>\n      <td>353 0 166 99020</td>\n      <td>https://www.amarincorp.com</td>\n      <td>Drug Manufacturers - General</td>\n      <td>drug-manufacturers-general</td>\n      <td>Drug Manufacturers - General</td>\n      <td>...</td>\n      <td>drug-manufacturers-general</td>\n      <td>Drug Manufacturers - General</td>\n      <td>Healthcare</td>\n      <td>healthcare</td>\n      <td>Healthcare</td>\n      <td>Amarin Corporation plc, a pharmaceutical compa...</td>\n      <td>275</td>\n      <td>[]</td>\n      <td>http://investor.amarincorp.com/</td>\n      <td>86400</td>\n    </tr>\n  </tbody>\n</table>\n<p>1 rows × 37 columns</p>\n</div>"
     },
     "execution_count": 6,
     "metadata": {},
     "output_type": "execute_result"
    }
   ],
   "source": [
    "df"
   ],
   "metadata": {
    "collapsed": false,
    "ExecuteTime": {
     "end_time": "2024-06-21T13:11:08.258724Z",
     "start_time": "2024-06-21T13:11:08.246664Z"
    }
   },
   "id": "aee0d76037fb065a",
   "execution_count": 6
  },
  {
   "cell_type": "code",
   "outputs": [
    {
     "name": "stdout",
     "output_type": "stream",
     "text": [
      "<class 'pandas.core.frame.DataFrame'>\n",
      "RangeIndex: 1 entries, 0 to 0\n",
      "Data columns (total 37 columns):\n",
      " #   Column                                  Non-Null Count  Dtype \n",
      "---  ------                                  --------------  ----- \n",
      " 0   assetProfile.address1                   1 non-null      object\n",
      " 1   assetProfile.address2                   1 non-null      object\n",
      " 2   assetProfile.city                       1 non-null      object\n",
      " 3   assetProfile.zip                        1 non-null      object\n",
      " 4   assetProfile.country                    1 non-null      object\n",
      " 5   assetProfile.phone                      1 non-null      object\n",
      " 6   assetProfile.website                    1 non-null      object\n",
      " 7   assetProfile.industry                   1 non-null      object\n",
      " 8   assetProfile.industryKey                1 non-null      object\n",
      " 9   assetProfile.industryDisp               1 non-null      object\n",
      " 10  assetProfile.sector                     1 non-null      object\n",
      " 11  assetProfile.sectorKey                  1 non-null      object\n",
      " 12  assetProfile.sectorDisp                 1 non-null      object\n",
      " 13  assetProfile.longBusinessSummary        1 non-null      object\n",
      " 14  assetProfile.fullTimeEmployees          1 non-null      int64 \n",
      " 15  assetProfile.companyOfficers            1 non-null      object\n",
      " 16  assetProfile.compensationAsOfEpochDate  1 non-null      int64 \n",
      " 17  assetProfile.irWebsite                  1 non-null      object\n",
      " 18  assetProfile.maxAge                     1 non-null      int64 \n",
      " 19  summaryProfile.address1                 1 non-null      object\n",
      " 20  summaryProfile.address2                 1 non-null      object\n",
      " 21  summaryProfile.city                     1 non-null      object\n",
      " 22  summaryProfile.zip                      1 non-null      object\n",
      " 23  summaryProfile.country                  1 non-null      object\n",
      " 24  summaryProfile.phone                    1 non-null      object\n",
      " 25  summaryProfile.website                  1 non-null      object\n",
      " 26  summaryProfile.industry                 1 non-null      object\n",
      " 27  summaryProfile.industryKey              1 non-null      object\n",
      " 28  summaryProfile.industryDisp             1 non-null      object\n",
      " 29  summaryProfile.sector                   1 non-null      object\n",
      " 30  summaryProfile.sectorKey                1 non-null      object\n",
      " 31  summaryProfile.sectorDisp               1 non-null      object\n",
      " 32  summaryProfile.longBusinessSummary      1 non-null      object\n",
      " 33  summaryProfile.fullTimeEmployees        1 non-null      int64 \n",
      " 34  summaryProfile.companyOfficers          1 non-null      object\n",
      " 35  summaryProfile.irWebsite                1 non-null      object\n",
      " 36  summaryProfile.maxAge                   1 non-null      int64 \n",
      "dtypes: int64(5), object(32)\n",
      "memory usage: 428.0+ bytes\n"
     ]
    }
   ],
   "source": [
    "df.info()"
   ],
   "metadata": {
    "collapsed": false,
    "ExecuteTime": {
     "end_time": "2024-06-21T13:11:43.185443Z",
     "start_time": "2024-06-21T13:11:43.181129Z"
    }
   },
   "id": "502a23ac0f2e3e62",
   "execution_count": 8
  },
  {
   "cell_type": "code",
   "outputs": [
    {
     "data": {
      "text/plain": "       assetProfile.fullTimeEmployees  assetProfile.compensationAsOfEpochDate  \\\ncount                             1.0                            1.000000e+00   \nmean                            275.0                            1.703981e+09   \nstd                               NaN                                     NaN   \nmin                             275.0                            1.703981e+09   \n25%                             275.0                            1.703981e+09   \n50%                             275.0                            1.703981e+09   \n75%                             275.0                            1.703981e+09   \nmax                             275.0                            1.703981e+09   \n\n       assetProfile.maxAge  summaryProfile.fullTimeEmployees  \\\ncount                  1.0                               1.0   \nmean               86400.0                             275.0   \nstd                    NaN                               NaN   \nmin                86400.0                             275.0   \n25%                86400.0                             275.0   \n50%                86400.0                             275.0   \n75%                86400.0                             275.0   \nmax                86400.0                             275.0   \n\n       summaryProfile.maxAge  \ncount                    1.0  \nmean                 86400.0  \nstd                      NaN  \nmin                  86400.0  \n25%                  86400.0  \n50%                  86400.0  \n75%                  86400.0  \nmax                  86400.0  ",
      "text/html": "<div>\n<style scoped>\n    .dataframe tbody tr th:only-of-type {\n        vertical-align: middle;\n    }\n\n    .dataframe tbody tr th {\n        vertical-align: top;\n    }\n\n    .dataframe thead th {\n        text-align: right;\n    }\n</style>\n<table border=\"1\" class=\"dataframe\">\n  <thead>\n    <tr style=\"text-align: right;\">\n      <th></th>\n      <th>assetProfile.fullTimeEmployees</th>\n      <th>assetProfile.compensationAsOfEpochDate</th>\n      <th>assetProfile.maxAge</th>\n      <th>summaryProfile.fullTimeEmployees</th>\n      <th>summaryProfile.maxAge</th>\n    </tr>\n  </thead>\n  <tbody>\n    <tr>\n      <th>count</th>\n      <td>1.0</td>\n      <td>1.000000e+00</td>\n      <td>1.0</td>\n      <td>1.0</td>\n      <td>1.0</td>\n    </tr>\n    <tr>\n      <th>mean</th>\n      <td>275.0</td>\n      <td>1.703981e+09</td>\n      <td>86400.0</td>\n      <td>275.0</td>\n      <td>86400.0</td>\n    </tr>\n    <tr>\n      <th>std</th>\n      <td>NaN</td>\n      <td>NaN</td>\n      <td>NaN</td>\n      <td>NaN</td>\n      <td>NaN</td>\n    </tr>\n    <tr>\n      <th>min</th>\n      <td>275.0</td>\n      <td>1.703981e+09</td>\n      <td>86400.0</td>\n      <td>275.0</td>\n      <td>86400.0</td>\n    </tr>\n    <tr>\n      <th>25%</th>\n      <td>275.0</td>\n      <td>1.703981e+09</td>\n      <td>86400.0</td>\n      <td>275.0</td>\n      <td>86400.0</td>\n    </tr>\n    <tr>\n      <th>50%</th>\n      <td>275.0</td>\n      <td>1.703981e+09</td>\n      <td>86400.0</td>\n      <td>275.0</td>\n      <td>86400.0</td>\n    </tr>\n    <tr>\n      <th>75%</th>\n      <td>275.0</td>\n      <td>1.703981e+09</td>\n      <td>86400.0</td>\n      <td>275.0</td>\n      <td>86400.0</td>\n    </tr>\n    <tr>\n      <th>max</th>\n      <td>275.0</td>\n      <td>1.703981e+09</td>\n      <td>86400.0</td>\n      <td>275.0</td>\n      <td>86400.0</td>\n    </tr>\n  </tbody>\n</table>\n</div>"
     },
     "execution_count": 9,
     "metadata": {},
     "output_type": "execute_result"
    }
   ],
   "source": [
    "df.describe()"
   ],
   "metadata": {
    "collapsed": false,
    "ExecuteTime": {
     "end_time": "2024-06-21T13:12:21.742796Z",
     "start_time": "2024-06-21T13:12:21.731987Z"
    }
   },
   "id": "c7ea8c2494b1cfd",
   "execution_count": 9
  },
  {
   "cell_type": "code",
   "outputs": [
    {
     "data": {
      "text/plain": "          assetProfile.address1                     assetProfile.address2  \\\n0  Iconic Offices, The Greenway  Block C Ardilaun Court St Stephens Green   \n\n  assetProfile.city assetProfile.zip assetProfile.country assetProfile.phone  \\\n0            Dublin          112-114              Ireland    353 0 166 99020   \n\n         assetProfile.website         assetProfile.industry  \\\n0  https://www.amarincorp.com  Drug Manufacturers - General   \n\n     assetProfile.industryKey     assetProfile.industryDisp  ...  \\\n0  drug-manufacturers-general  Drug Manufacturers - General  ...   \n\n   summaryProfile.industryKey   summaryProfile.industryDisp  \\\n0  drug-manufacturers-general  Drug Manufacturers - General   \n\n  summaryProfile.sector summaryProfile.sectorKey  summaryProfile.sectorDisp  \\\n0            Healthcare               healthcare                 Healthcare   \n\n                  summaryProfile.longBusinessSummary  \\\n0  Amarin Corporation plc, a pharmaceutical compa...   \n\n   summaryProfile.fullTimeEmployees summaryProfile.companyOfficers  \\\n0                               275                             []   \n\n          summaryProfile.irWebsite summaryProfile.maxAge  \n0  http://investor.amarincorp.com/                 86400  \n\n[1 rows x 37 columns]",
      "text/html": "<div>\n<style scoped>\n    .dataframe tbody tr th:only-of-type {\n        vertical-align: middle;\n    }\n\n    .dataframe tbody tr th {\n        vertical-align: top;\n    }\n\n    .dataframe thead th {\n        text-align: right;\n    }\n</style>\n<table border=\"1\" class=\"dataframe\">\n  <thead>\n    <tr style=\"text-align: right;\">\n      <th></th>\n      <th>assetProfile.address1</th>\n      <th>assetProfile.address2</th>\n      <th>assetProfile.city</th>\n      <th>assetProfile.zip</th>\n      <th>assetProfile.country</th>\n      <th>assetProfile.phone</th>\n      <th>assetProfile.website</th>\n      <th>assetProfile.industry</th>\n      <th>assetProfile.industryKey</th>\n      <th>assetProfile.industryDisp</th>\n      <th>...</th>\n      <th>summaryProfile.industryKey</th>\n      <th>summaryProfile.industryDisp</th>\n      <th>summaryProfile.sector</th>\n      <th>summaryProfile.sectorKey</th>\n      <th>summaryProfile.sectorDisp</th>\n      <th>summaryProfile.longBusinessSummary</th>\n      <th>summaryProfile.fullTimeEmployees</th>\n      <th>summaryProfile.companyOfficers</th>\n      <th>summaryProfile.irWebsite</th>\n      <th>summaryProfile.maxAge</th>\n    </tr>\n  </thead>\n  <tbody>\n    <tr>\n      <th>0</th>\n      <td>Iconic Offices, The Greenway</td>\n      <td>Block C Ardilaun Court St Stephens Green</td>\n      <td>Dublin</td>\n      <td>112-114</td>\n      <td>Ireland</td>\n      <td>353 0 166 99020</td>\n      <td>https://www.amarincorp.com</td>\n      <td>Drug Manufacturers - General</td>\n      <td>drug-manufacturers-general</td>\n      <td>Drug Manufacturers - General</td>\n      <td>...</td>\n      <td>drug-manufacturers-general</td>\n      <td>Drug Manufacturers - General</td>\n      <td>Healthcare</td>\n      <td>healthcare</td>\n      <td>Healthcare</td>\n      <td>Amarin Corporation plc, a pharmaceutical compa...</td>\n      <td>275</td>\n      <td>[]</td>\n      <td>http://investor.amarincorp.com/</td>\n      <td>86400</td>\n    </tr>\n  </tbody>\n</table>\n<p>1 rows × 37 columns</p>\n</div>"
     },
     "execution_count": 11,
     "metadata": {},
     "output_type": "execute_result"
    }
   ],
   "source": [
    "df.head()"
   ],
   "metadata": {
    "collapsed": false,
    "ExecuteTime": {
     "end_time": "2024-06-21T13:24:00.896151Z",
     "start_time": "2024-06-21T13:24:00.888938Z"
    }
   },
   "id": "91486c80b1be5c0b",
   "execution_count": 11
  },
  {
   "cell_type": "code",
   "outputs": [],
   "source": [],
   "metadata": {
    "collapsed": false
   },
   "id": "d79babf83a31d77b"
  }
 ],
 "metadata": {
  "kernelspec": {
   "display_name": "Python 3",
   "language": "python",
   "name": "python3"
  },
  "language_info": {
   "codemirror_mode": {
    "name": "ipython",
    "version": 2
   },
   "file_extension": ".py",
   "mimetype": "text/x-python",
   "name": "python",
   "nbconvert_exporter": "python",
   "pygments_lexer": "ipython2",
   "version": "2.7.6"
  }
 },
 "nbformat": 4,
 "nbformat_minor": 5
}
