{
 "cells": [
  {
   "cell_type": "markdown",
   "source": [],
   "metadata": {
    "collapsed": false
   },
   "id": "8c1ee4c2f1549bef"
  },
  {
   "cell_type": "markdown",
   "source": [
    "# .env 만들기\n",
    "-------\n",
    "API 키 같은 중요한 비밀번호나 타인과 공유하고 싶지 않은 값의 경우 .env 파일을 만들어 변수에 넣어 사용한다.\n",
    ".env 파일에서 데이터를 가져오기 위해서 실행해야 하는 코드는 다음과 같다."
   ],
   "metadata": {
    "collapsed": false
   },
   "id": "dc555ab52a83007c"
  },
  {
   "cell_type": "code",
   "outputs": [],
   "source": [
    "#.env에서 API KEY 불러오기\n",
    "from dotenv import load_dotenv\n",
    "import os\n",
    "load_dotenv()\n",
    "API_KEY = os.environ.get(\"API_KEY\")"
   ],
   "metadata": {
    "collapsed": false,
    "ExecuteTime": {
     "end_time": "2024-06-21T13:46:23.481514Z",
     "start_time": "2024-06-21T13:46:23.479167Z"
    }
   },
   "id": "68656c9a86fc242a",
   "execution_count": 12
  },
  {
   "cell_type": "code",
   "outputs": [
    {
     "name": "stdout",
     "output_type": "stream",
     "text": [
      "4815f0d9dbmsh9cce1d4892442a6p133d3bjsne5e867fd3301\n"
     ]
    }
   ],
   "source": [
    "print(API_KEY)"
   ],
   "metadata": {
    "collapsed": false,
    "ExecuteTime": {
     "end_time": "2024-06-21T13:46:25.371526Z",
     "start_time": "2024-06-21T13:46:25.368846Z"
    }
   },
   "id": "bbcaf546b00604f5",
   "execution_count": 13
  },
  {
   "cell_type": "markdown",
   "source": [
    "### .gitignore 만들기\n",
    "API KEY 값을 정상적으로 설정한 것을 확인할 수 있다. 하지만 .env 파일이 git에 공유될 경우 사용 목적이 사라져 버린다. 따라서, Git 버전 관리에서 제외할 파일 목록을 지정하는 파일(.gitignore)을 만들어 .env를 추가한다. 추가적으로 아래 예시를 통해 왜 os.environ[] 대신 os.environ.get()을 사용하는지에 대해 알 수 있다."
   ],
   "metadata": {
    "collapsed": false
   },
   "id": "73027727e885a3dd"
  },
  {
   "cell_type": "code",
   "outputs": [
    {
     "ename": "KeyError",
     "evalue": "'Password'",
     "output_type": "error",
     "traceback": [
      "\u001B[0;31m---------------------------------------------------------------------------\u001B[0m",
      "\u001B[0;31mKeyError\u001B[0m                                  Traceback (most recent call last)",
      "Cell \u001B[0;32mIn[17], line 3\u001B[0m\n\u001B[1;32m      1\u001B[0m \u001B[38;5;66;03m# os.environ[]\u001B[39;00m\n\u001B[0;32m----> 3\u001B[0m \u001B[38;5;28mprint\u001B[39m(os\u001B[38;5;241m.\u001B[39menviron[\u001B[38;5;124m'\u001B[39m\u001B[38;5;124mPassword\u001B[39m\u001B[38;5;124m'\u001B[39m])\n",
      "File \u001B[0;32m<frozen os>:685\u001B[0m, in \u001B[0;36m__getitem__\u001B[0;34m(self, key)\u001B[0m\n",
      "\u001B[0;31mKeyError\u001B[0m: 'Password'"
     ]
    }
   ],
   "source": [
    "# os.environ[]\n",
    "\n",
    "print(os.environ['Password'])"
   ],
   "metadata": {
    "collapsed": false,
    "ExecuteTime": {
     "end_time": "2024-06-21T13:48:59.225079Z",
     "start_time": "2024-06-21T13:48:59.213528Z"
    }
   },
   "id": "a7324b2de073f68a",
   "execution_count": 17
  },
  {
   "cell_type": "code",
   "outputs": [
    {
     "name": "stdout",
     "output_type": "stream",
     "text": [
      "None\n"
     ]
    }
   ],
   "source": [
    "#os.environ.get()\n",
    "print(os.environ.get('Password'))"
   ],
   "metadata": {
    "collapsed": false,
    "ExecuteTime": {
     "end_time": "2024-06-21T13:49:02.070017Z",
     "start_time": "2024-06-21T13:49:02.067516Z"
    }
   },
   "id": "7160d749b98fea1c",
   "execution_count": 18
  },
  {
   "cell_type": "code",
   "outputs": [
    {
     "name": "stdout",
     "output_type": "stream",
     "text": [
      "abc\n"
     ]
    }
   ],
   "source": [
    "#os.environ.get()\n",
    "print(os.environ.get('Password', 'abc'))"
   ],
   "metadata": {
    "collapsed": false,
    "ExecuteTime": {
     "end_time": "2024-06-21T13:49:35.084429Z",
     "start_time": "2024-06-21T13:49:35.081715Z"
    }
   },
   "id": "61e2b0dbd43408b2",
   "execution_count": 20
  },
  {
   "cell_type": "markdown",
   "source": [
    "API로 데이터를 json으로 가져와 pandas를 통해 데이터프레임으로 만들었다면 df.info(), df.describe() 등을 통해 기본적인 정보를 확인한다."
   ],
   "metadata": {
    "collapsed": false
   },
   "id": "25b75a3b7e21a254"
  },
  {
   "cell_type": "markdown",
   "source": [
    "### +) 함수 또는 변수에 대해 공부할 때는 command + click\n",
    "작성된 곳으로 이동한다. 소스를 보면서 꼼꼼하게 공부하자."
   ],
   "metadata": {
    "collapsed": false
   },
   "id": "e1ccdd22ed1cb90a"
  },
  {
   "cell_type": "code",
   "outputs": [],
   "source": [],
   "metadata": {
    "collapsed": false
   },
   "id": "15decab4f13e4073"
  }
 ],
 "metadata": {
  "kernelspec": {
   "display_name": "Python 3",
   "language": "python",
   "name": "python3"
  },
  "language_info": {
   "codemirror_mode": {
    "name": "ipython",
    "version": 2
   },
   "file_extension": ".py",
   "mimetype": "text/x-python",
   "name": "python",
   "nbconvert_exporter": "python",
   "pygments_lexer": "ipython2",
   "version": "2.7.6"
  }
 },
 "nbformat": 4,
 "nbformat_minor": 5
}
