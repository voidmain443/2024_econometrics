{
 "cells": [
  {
   "cell_type": "markdown",
   "source": "# 벡터에 대한 구현과 이해 \n",
   "metadata": {
    "collapsed": false
   },
   "id": "e200ca3d0d49b75f"
  },
  {
   "cell_type": "code",
   "execution_count": 6,
   "id": "initial_id",
   "metadata": {
    "collapsed": true,
    "ExecuteTime": {
     "end_time": "2024-02-08T05:29:13.510972Z",
     "start_time": "2024-02-08T05:29:13.285855Z"
    }
   },
   "outputs": [
    {
     "name": "stderr",
     "output_type": "stream",
     "text": [
      "/var/folders/tb/y4l19ld51l16y6q2dmjtdk_00000gn/T/ipykernel_5795/1585074194.py:1: DeprecationWarning: \n",
      "Pyarrow will become a required dependency of pandas in the next major release of pandas (pandas 3.0),\n",
      "(to allow more performant data types, such as the Arrow string type, and better interoperability with other libraries)\n",
      "but was not found to be installed on your system.\n",
      "If this would cause problems for you,\n",
      "please provide us feedback at https://github.com/pandas-dev/pandas/issues/54466\n",
      "        \n",
      "  import pandas as pd\n"
     ]
    }
   ],
   "source": [
    "import pandas as pd\n",
    "\n",
    "ab = (5**2 + 3**2) ** 0.5 "
   ]
  },
  {
   "cell_type": "code",
   "execution_count": 15,
   "outputs": [
    {
     "data": {
      "text/plain": "5.83"
     },
     "execution_count": 15,
     "metadata": {},
     "output_type": "execute_result"
    }
   ],
   "source": [
    "round(ab,2)"
   ],
   "metadata": {
    "collapsed": false,
    "ExecuteTime": {
     "end_time": "2024-02-01T05:58:13.194648Z",
     "start_time": "2024-02-01T05:58:13.163207Z"
    }
   },
   "id": "739aaa88dff16496"
  },
  {
   "cell_type": "code",
   "execution_count": 2,
   "outputs": [],
   "source": [
    "import numpy as np\n",
    "import linalg"
   ],
   "metadata": {
    "collapsed": false,
    "ExecuteTime": {
     "end_time": "2024-02-08T05:29:16.952170Z",
     "start_time": "2024-02-08T05:29:16.933149Z"
    }
   },
   "id": "2d43da9b0d1ff979"
  },
  {
   "cell_type": "code",
   "execution_count": 9,
   "outputs": [
    {
     "data": {
      "text/plain": "array([[ 5,  3],\n       [ 3, -4],\n       [-2,  4],\n       [-3,  5]])"
     },
     "execution_count": 9,
     "metadata": {},
     "output_type": "execute_result"
    }
   ],
   "source": [
    "point = np.array([[5,3],[3,-4],[-2,4],[-3,5]])\n",
    "point"
   ],
   "metadata": {
    "collapsed": false,
    "ExecuteTime": {
     "end_time": "2024-02-01T05:54:38.813388Z",
     "start_time": "2024-02-01T05:54:38.777573Z"
    }
   },
   "id": "b34ed2bd0d35e644"
  },
  {
   "cell_type": "code",
   "execution_count": 10,
   "outputs": [],
   "source": [
    "d = [(point[i,0]**2+point[i,1]**2)**0.5 for i in range(4)]"
   ],
   "metadata": {
    "collapsed": false,
    "ExecuteTime": {
     "end_time": "2024-02-01T05:54:41.973552Z",
     "start_time": "2024-02-01T05:54:41.957661Z"
    }
   },
   "id": "cec504738f11f0a4"
  },
  {
   "cell_type": "code",
   "execution_count": 11,
   "outputs": [],
   "source": [
    "re = np.c_[point,d]"
   ],
   "metadata": {
    "collapsed": false,
    "ExecuteTime": {
     "end_time": "2024-02-01T05:54:43.035564Z",
     "start_time": "2024-02-01T05:54:43.008365Z"
    }
   },
   "id": "8b083646e7a092a5"
  },
  {
   "cell_type": "code",
   "execution_count": 12,
   "outputs": [],
   "source": [
    "re1 = pd.DataFrame(re)"
   ],
   "metadata": {
    "collapsed": false,
    "ExecuteTime": {
     "end_time": "2024-02-01T05:54:44.084910Z",
     "start_time": "2024-02-01T05:54:44.054034Z"
    }
   },
   "id": "6305b9beb6c51576"
  },
  {
   "cell_type": "code",
   "execution_count": 13,
   "outputs": [],
   "source": [
    "re1.columns = [\"x\",\"y\",\"distance\"]\n",
    "re1.index = ['b','g','r','k']"
   ],
   "metadata": {
    "collapsed": false,
    "ExecuteTime": {
     "end_time": "2024-02-01T05:54:44.766448Z",
     "start_time": "2024-02-01T05:54:44.746035Z"
    }
   },
   "id": "4563ca14e9fe3624"
  },
  {
   "cell_type": "code",
   "execution_count": 14,
   "outputs": [
    {
     "data": {
      "text/plain": "     x    y  distance\nb  5.0  3.0  5.830952\ng  3.0 -4.0  5.000000\nr -2.0  4.0  4.472136\nk -3.0  5.0  5.830952",
      "text/html": "<div>\n<style scoped>\n    .dataframe tbody tr th:only-of-type {\n        vertical-align: middle;\n    }\n\n    .dataframe tbody tr th {\n        vertical-align: top;\n    }\n\n    .dataframe thead th {\n        text-align: right;\n    }\n</style>\n<table border=\"1\" class=\"dataframe\">\n  <thead>\n    <tr style=\"text-align: right;\">\n      <th></th>\n      <th>x</th>\n      <th>y</th>\n      <th>distance</th>\n    </tr>\n  </thead>\n  <tbody>\n    <tr>\n      <th>b</th>\n      <td>5.0</td>\n      <td>3.0</td>\n      <td>5.830952</td>\n    </tr>\n    <tr>\n      <th>g</th>\n      <td>3.0</td>\n      <td>-4.0</td>\n      <td>5.000000</td>\n    </tr>\n    <tr>\n      <th>r</th>\n      <td>-2.0</td>\n      <td>4.0</td>\n      <td>4.472136</td>\n    </tr>\n    <tr>\n      <th>k</th>\n      <td>-3.0</td>\n      <td>5.0</td>\n      <td>5.830952</td>\n    </tr>\n  </tbody>\n</table>\n</div>"
     },
     "execution_count": 14,
     "metadata": {},
     "output_type": "execute_result"
    }
   ],
   "source": [
    "re1"
   ],
   "metadata": {
    "collapsed": false,
    "ExecuteTime": {
     "end_time": "2024-02-01T05:54:45.648899Z",
     "start_time": "2024-02-01T05:54:45.615409Z"
    }
   },
   "id": "9fee0a0c42c65ba1"
  },
  {
   "cell_type": "markdown",
   "source": [
    "norm"
   ],
   "metadata": {
    "collapsed": false
   },
   "id": "ae76b824ccfac1e4"
  },
  {
   "cell_type": "code",
   "execution_count": 10,
   "outputs": [
    {
     "data": {
      "text/plain": "array([3, 4])"
     },
     "execution_count": 10,
     "metadata": {},
     "output_type": "execute_result"
    }
   ],
   "source": [
    "a  = np.array([3,4])\n",
    "a"
   ],
   "metadata": {
    "collapsed": false,
    "ExecuteTime": {
     "end_time": "2024-01-27T11:45:13.948694Z",
     "start_time": "2024-01-27T11:45:13.187004Z"
    }
   },
   "id": "c0e65fd5240b6672"
  },
  {
   "cell_type": "code",
   "execution_count": 11,
   "outputs": [
    {
     "data": {
      "text/plain": "(2,)"
     },
     "execution_count": 11,
     "metadata": {},
     "output_type": "execute_result"
    }
   ],
   "source": [
    "a.shape"
   ],
   "metadata": {
    "collapsed": false,
    "ExecuteTime": {
     "end_time": "2024-01-27T11:45:13.948803Z",
     "start_time": "2024-01-27T11:45:13.189314Z"
    }
   },
   "id": "e4641fd8958af258"
  },
  {
   "cell_type": "code",
   "execution_count": 12,
   "outputs": [
    {
     "data": {
      "text/plain": "5.0"
     },
     "execution_count": 12,
     "metadata": {},
     "output_type": "execute_result"
    }
   ],
   "source": [
    "np.linalg.norm(a)"
   ],
   "metadata": {
    "collapsed": false,
    "ExecuteTime": {
     "end_time": "2024-01-27T11:45:13.948907Z",
     "start_time": "2024-01-27T11:45:13.191750Z"
    }
   },
   "id": "92fcb754bfcf54a4"
  },
  {
   "cell_type": "code",
   "execution_count": 13,
   "outputs": [],
   "source": [
    "import sympy as sp"
   ],
   "metadata": {
    "collapsed": false,
    "ExecuteTime": {
     "end_time": "2024-01-27T11:45:13.949156Z",
     "start_time": "2024-01-27T11:45:13.194237Z"
    }
   },
   "id": "10e7ee9e758e3002"
  },
  {
   "cell_type": "code",
   "execution_count": 14,
   "outputs": [
    {
     "data": {
      "text/plain": "5",
      "text/latex": "$\\displaystyle 5$"
     },
     "execution_count": 14,
     "metadata": {},
     "output_type": "execute_result"
    }
   ],
   "source": [
    "a1 = sp.Matrix([3,4])\n",
    "a1.norm()"
   ],
   "metadata": {
    "collapsed": false,
    "ExecuteTime": {
     "end_time": "2024-01-27T11:45:13.949390Z",
     "start_time": "2024-01-27T11:45:13.422813Z"
    }
   },
   "id": "12c3915889bd52be"
  },
  {
   "cell_type": "code",
   "execution_count": 15,
   "outputs": [],
   "source": [
    "a = np.mat('2,4') #단위벡터"
   ],
   "metadata": {
    "collapsed": false,
    "ExecuteTime": {
     "end_time": "2024-01-27T11:45:13.949459Z",
     "start_time": "2024-01-27T11:45:13.443313Z"
    }
   },
   "id": "61eeec78d3a739bf"
  },
  {
   "cell_type": "code",
   "execution_count": 16,
   "outputs": [
    {
     "data": {
      "text/plain": "matrix([[2, 4]])"
     },
     "execution_count": 16,
     "metadata": {},
     "output_type": "execute_result"
    }
   ],
   "source": [
    "a"
   ],
   "metadata": {
    "collapsed": false,
    "ExecuteTime": {
     "end_time": "2024-01-27T11:45:13.949584Z",
     "start_time": "2024-01-27T11:45:13.445882Z"
    }
   },
   "id": "9f6bb0c71de50c67"
  },
  {
   "cell_type": "code",
   "execution_count": 17,
   "outputs": [],
   "source": [
    "a_norm = np.linalg.norm(a)"
   ],
   "metadata": {
    "collapsed": false,
    "ExecuteTime": {
     "end_time": "2024-01-27T11:45:13.949640Z",
     "start_time": "2024-01-27T11:45:13.448560Z"
    }
   },
   "id": "ab7ad56bc2de56d0"
  },
  {
   "cell_type": "code",
   "execution_count": 18,
   "outputs": [
    {
     "data": {
      "text/plain": "4.47213595499958"
     },
     "execution_count": 18,
     "metadata": {},
     "output_type": "execute_result"
    }
   ],
   "source": [
    "a_norm"
   ],
   "metadata": {
    "collapsed": false,
    "ExecuteTime": {
     "end_time": "2024-01-27T11:45:13.949756Z",
     "start_time": "2024-01-27T11:45:13.450928Z"
    }
   },
   "id": "1962e842792c49cc"
  },
  {
   "cell_type": "code",
   "execution_count": 19,
   "outputs": [],
   "source": [
    "a_unit=a/a_norm"
   ],
   "metadata": {
    "collapsed": false,
    "ExecuteTime": {
     "end_time": "2024-01-27T11:45:13.949811Z",
     "start_time": "2024-01-27T11:45:13.454032Z"
    }
   },
   "id": "19b5d9a17f716bf"
  },
  {
   "cell_type": "code",
   "execution_count": 20,
   "outputs": [
    {
     "data": {
      "text/plain": "matrix([[0.4472136 , 0.89442719]])"
     },
     "execution_count": 20,
     "metadata": {},
     "output_type": "execute_result"
    }
   ],
   "source": [
    "a_unit"
   ],
   "metadata": {
    "collapsed": false,
    "ExecuteTime": {
     "end_time": "2024-01-27T11:45:13.949929Z",
     "start_time": "2024-01-27T11:45:13.455927Z"
    }
   },
   "id": "9819dbbc9841d113"
  },
  {
   "cell_type": "code",
   "execution_count": 21,
   "outputs": [],
   "source": [
    "a = np.array([[10],[15]])\n",
    "b = np.array([[8],[2]])"
   ],
   "metadata": {
    "collapsed": false,
    "ExecuteTime": {
     "end_time": "2024-01-27T11:45:13.949989Z",
     "start_time": "2024-01-27T11:45:13.459114Z"
    }
   },
   "id": "71e5cf84b0f312d"
  },
  {
   "cell_type": "code",
   "execution_count": 22,
   "outputs": [
    {
     "data": {
      "text/plain": "array([[18],\n       [17]])"
     },
     "execution_count": 22,
     "metadata": {},
     "output_type": "execute_result"
    }
   ],
   "source": [
    "a+b"
   ],
   "metadata": {
    "collapsed": false,
    "ExecuteTime": {
     "end_time": "2024-01-27T11:45:13.950092Z",
     "start_time": "2024-01-27T11:45:13.461161Z"
    }
   },
   "id": "2c2dfdf1426ca371"
  },
  {
   "cell_type": "code",
   "execution_count": 23,
   "outputs": [
    {
     "data": {
      "text/plain": "array([[ 2],\n       [13]])"
     },
     "execution_count": 23,
     "metadata": {},
     "output_type": "execute_result"
    }
   ],
   "source": [
    "a-b"
   ],
   "metadata": {
    "collapsed": false,
    "ExecuteTime": {
     "end_time": "2024-01-27T11:45:13.950202Z",
     "start_time": "2024-01-27T11:45:13.464012Z"
    }
   },
   "id": "8f56dee77ff85466"
  },
  {
   "cell_type": "code",
   "execution_count": 24,
   "outputs": [],
   "source": [
    "a = np.mat('3,4')"
   ],
   "metadata": {
    "collapsed": false,
    "ExecuteTime": {
     "end_time": "2024-01-27T11:45:13.950263Z",
     "start_time": "2024-01-27T11:45:13.468010Z"
    }
   },
   "id": "6a1c3dfc564bfaad"
  },
  {
   "cell_type": "code",
   "execution_count": 25,
   "outputs": [
    {
     "data": {
      "text/plain": "matrix([[3, 4]])"
     },
     "execution_count": 25,
     "metadata": {},
     "output_type": "execute_result"
    }
   ],
   "source": [
    "a"
   ],
   "metadata": {
    "collapsed": false,
    "ExecuteTime": {
     "end_time": "2024-01-27T11:45:13.950382Z",
     "start_time": "2024-01-27T11:45:13.474528Z"
    }
   },
   "id": "9df13472535b10fc"
  },
  {
   "cell_type": "code",
   "execution_count": 26,
   "outputs": [],
   "source": [
    "s = 3*a"
   ],
   "metadata": {
    "collapsed": false,
    "ExecuteTime": {
     "end_time": "2024-01-27T11:45:13.950430Z",
     "start_time": "2024-01-27T11:45:13.477842Z"
    }
   },
   "id": "3b2d959edfe6fad6"
  },
  {
   "cell_type": "code",
   "execution_count": 27,
   "outputs": [
    {
     "data": {
      "text/plain": "matrix([[ 9, 12]])"
     },
     "execution_count": 27,
     "metadata": {},
     "output_type": "execute_result"
    }
   ],
   "source": [
    "s"
   ],
   "metadata": {
    "collapsed": false,
    "ExecuteTime": {
     "end_time": "2024-01-27T11:45:13.950541Z",
     "start_time": "2024-01-27T11:45:13.480051Z"
    }
   },
   "id": "d163703989f17743"
  },
  {
   "cell_type": "code",
   "execution_count": 28,
   "outputs": [],
   "source": [
    "a,b,c,d,e,f,g,h,i = sp.symbols(\"a b c d e f g h i\")"
   ],
   "metadata": {
    "collapsed": false,
    "ExecuteTime": {
     "end_time": "2024-01-27T11:45:13.950603Z",
     "start_time": "2024-01-27T11:45:13.482868Z"
    }
   },
   "id": "1afda8f3f3c6df25"
  },
  {
   "cell_type": "code",
   "execution_count": 29,
   "outputs": [],
   "source": [
    "u = sp.Matrix(3,1,[a,b,c])"
   ],
   "metadata": {
    "collapsed": false,
    "ExecuteTime": {
     "end_time": "2024-01-27T11:45:13.950663Z",
     "start_time": "2024-01-27T11:45:13.485187Z"
    }
   },
   "id": "344c191480f994dd"
  },
  {
   "cell_type": "code",
   "execution_count": 30,
   "outputs": [
    {
     "data": {
      "text/plain": "Matrix([\n[a],\n[b],\n[c]])",
      "text/latex": "$\\displaystyle \\left[\\begin{matrix}a\\\\b\\\\c\\end{matrix}\\right]$"
     },
     "execution_count": 30,
     "metadata": {},
     "output_type": "execute_result"
    }
   ],
   "source": [
    "u"
   ],
   "metadata": {
    "collapsed": false,
    "ExecuteTime": {
     "end_time": "2024-01-27T11:45:13.950769Z",
     "start_time": "2024-01-27T11:45:13.487468Z"
    }
   },
   "id": "1d3632ce1973d0c2"
  },
  {
   "cell_type": "code",
   "execution_count": 31,
   "outputs": [],
   "source": [
    "v = sp.Matrix(3,1,[d,e,f])"
   ],
   "metadata": {
    "collapsed": false,
    "ExecuteTime": {
     "end_time": "2024-01-27T11:45:13.950825Z",
     "start_time": "2024-01-27T11:45:13.489464Z"
    }
   },
   "id": "9a4dbcdcd9ad6dc6"
  },
  {
   "cell_type": "code",
   "execution_count": 32,
   "outputs": [
    {
     "data": {
      "text/plain": "Matrix([\n[d],\n[e],\n[f]])",
      "text/latex": "$\\displaystyle \\left[\\begin{matrix}d\\\\e\\\\f\\end{matrix}\\right]$"
     },
     "execution_count": 32,
     "metadata": {},
     "output_type": "execute_result"
    }
   ],
   "source": [
    "v"
   ],
   "metadata": {
    "collapsed": false,
    "ExecuteTime": {
     "end_time": "2024-01-27T11:45:13.950929Z",
     "start_time": "2024-01-27T11:45:13.492544Z"
    }
   },
   "id": "22cbfeb278d785e4"
  },
  {
   "cell_type": "code",
   "execution_count": 33,
   "outputs": [],
   "source": [
    "w = sp.Matrix(3,1,[g,h,i])"
   ],
   "metadata": {
    "collapsed": false,
    "ExecuteTime": {
     "end_time": "2024-01-27T11:45:13.950983Z",
     "start_time": "2024-01-27T11:45:13.495116Z"
    }
   },
   "id": "e9a9df802088ac4c"
  },
  {
   "cell_type": "code",
   "execution_count": 34,
   "outputs": [
    {
     "data": {
      "text/plain": "Matrix([\n[g],\n[h],\n[i]])",
      "text/latex": "$\\displaystyle \\left[\\begin{matrix}g\\\\h\\\\i\\end{matrix}\\right]$"
     },
     "execution_count": 34,
     "metadata": {},
     "output_type": "execute_result"
    }
   ],
   "source": [
    "w"
   ],
   "metadata": {
    "collapsed": false,
    "ExecuteTime": {
     "end_time": "2024-01-27T11:45:13.951085Z",
     "start_time": "2024-01-27T11:45:13.497553Z"
    }
   },
   "id": "7b3f9db73daba28c"
  },
  {
   "cell_type": "code",
   "execution_count": 35,
   "outputs": [
    {
     "data": {
      "text/plain": "True"
     },
     "execution_count": 35,
     "metadata": {},
     "output_type": "execute_result"
    }
   ],
   "source": [
    "u+v == v+u"
   ],
   "metadata": {
    "collapsed": false,
    "ExecuteTime": {
     "end_time": "2024-01-27T11:45:13.951189Z",
     "start_time": "2024-01-27T11:45:13.500649Z"
    }
   },
   "id": "726a4674cf33daed"
  },
  {
   "cell_type": "code",
   "execution_count": 36,
   "outputs": [
    {
     "data": {
      "text/plain": "True"
     },
     "execution_count": 36,
     "metadata": {},
     "output_type": "execute_result"
    }
   ],
   "source": [
    "u+(v+w) == (u+v)+w"
   ],
   "metadata": {
    "collapsed": false,
    "ExecuteTime": {
     "end_time": "2024-01-27T11:45:13.951296Z",
     "start_time": "2024-01-27T11:45:13.503945Z"
    }
   },
   "id": "a6d23f6a2b8c7035"
  },
  {
   "cell_type": "code",
   "execution_count": 37,
   "outputs": [],
   "source": [
    "zero = sp.Matrix(3,1,[0,0,0])"
   ],
   "metadata": {
    "collapsed": false,
    "ExecuteTime": {
     "end_time": "2024-01-27T11:45:13.951343Z",
     "start_time": "2024-01-27T11:45:13.506356Z"
    }
   },
   "id": "b5b4cf4ee54d9af"
  },
  {
   "cell_type": "code",
   "execution_count": 38,
   "outputs": [
    {
     "data": {
      "text/plain": "True"
     },
     "execution_count": 38,
     "metadata": {},
     "output_type": "execute_result"
    }
   ],
   "source": [
    "u+zero==u"
   ],
   "metadata": {
    "collapsed": false,
    "ExecuteTime": {
     "end_time": "2024-01-27T11:45:13.951461Z",
     "start_time": "2024-01-27T11:45:13.508360Z"
    }
   },
   "id": "675b20f2403c9fca"
  },
  {
   "cell_type": "code",
   "execution_count": 39,
   "outputs": [
    {
     "data": {
      "text/plain": "True"
     },
     "execution_count": 39,
     "metadata": {},
     "output_type": "execute_result"
    }
   ],
   "source": [
    "1*u==u"
   ],
   "metadata": {
    "collapsed": false,
    "ExecuteTime": {
     "end_time": "2024-01-27T11:45:13.951569Z",
     "start_time": "2024-01-27T11:45:13.511015Z"
    }
   },
   "id": "77e871f16d12945c"
  },
  {
   "cell_type": "code",
   "execution_count": 40,
   "outputs": [
    {
     "data": {
      "text/plain": "True"
     },
     "execution_count": 40,
     "metadata": {},
     "output_type": "execute_result"
    }
   ],
   "source": [
    "3*(v+w)==3*v+3*w"
   ],
   "metadata": {
    "collapsed": false,
    "ExecuteTime": {
     "end_time": "2024-01-27T11:45:13.951671Z",
     "start_time": "2024-01-27T11:45:13.513646Z"
    }
   },
   "id": "a202bb91340a5048"
  },
  {
   "cell_type": "code",
   "execution_count": 41,
   "outputs": [
    {
     "data": {
      "text/plain": "True"
     },
     "execution_count": 41,
     "metadata": {},
     "output_type": "execute_result"
    }
   ],
   "source": [
    "(4+7)*v ==4*v+7*v"
   ],
   "metadata": {
    "collapsed": false,
    "ExecuteTime": {
     "end_time": "2024-01-27T11:45:13.951774Z",
     "start_time": "2024-01-27T11:45:13.521234Z"
    }
   },
   "id": "76642c06a9fcbf47"
  },
  {
   "cell_type": "markdown",
   "source": [
    "inner product"
   ],
   "metadata": {
    "collapsed": false
   },
   "id": "cfec391c3788d041"
  },
  {
   "cell_type": "code",
   "execution_count": 42,
   "outputs": [],
   "source": [
    "a1,a2,a3,b1,b2,b3 = sp.symbols(\"a1 a2 a3 b1 b2 b3\")"
   ],
   "metadata": {
    "collapsed": false,
    "ExecuteTime": {
     "end_time": "2024-01-27T11:45:13.951826Z",
     "start_time": "2024-01-27T11:45:13.523544Z"
    }
   },
   "id": "4301550157b09022"
  },
  {
   "cell_type": "code",
   "execution_count": 43,
   "outputs": [],
   "source": [
    "a=sp.Matrix(1,3,[a1,a2,a3])"
   ],
   "metadata": {
    "collapsed": false,
    "ExecuteTime": {
     "end_time": "2024-01-27T11:45:13.951879Z",
     "start_time": "2024-01-27T11:45:13.525654Z"
    }
   },
   "id": "2019909a9804a22f"
  },
  {
   "cell_type": "code",
   "execution_count": 44,
   "outputs": [],
   "source": [
    "b=sp.Matrix(3,1,[b1,b2,b3])"
   ],
   "metadata": {
    "collapsed": false,
    "ExecuteTime": {
     "end_time": "2024-01-27T11:45:13.951931Z",
     "start_time": "2024-01-27T11:45:13.527881Z"
    }
   },
   "id": "9435c6c84ab11338"
  },
  {
   "cell_type": "code",
   "execution_count": 45,
   "outputs": [
    {
     "data": {
      "text/plain": "Matrix([[a1*b1 + a2*b2 + a3*b3]])",
      "text/latex": "$\\displaystyle \\left[\\begin{matrix}a_{1} b_{1} + a_{2} b_{2} + a_{3} b_{3}\\end{matrix}\\right]$"
     },
     "execution_count": 45,
     "metadata": {},
     "output_type": "execute_result"
    }
   ],
   "source": [
    "a*b"
   ],
   "metadata": {
    "collapsed": false,
    "ExecuteTime": {
     "end_time": "2024-01-27T11:45:13.952025Z",
     "start_time": "2024-01-27T11:45:13.531338Z"
    }
   },
   "id": "71e9c4f5646b5532"
  },
  {
   "cell_type": "code",
   "execution_count": 46,
   "outputs": [],
   "source": [
    "a = np.array([4,7]).reshape(2,1)"
   ],
   "metadata": {
    "collapsed": false,
    "ExecuteTime": {
     "end_time": "2024-01-27T11:45:13.952072Z",
     "start_time": "2024-01-27T11:45:13.533764Z"
    }
   },
   "id": "a66c3aba33dc286"
  },
  {
   "cell_type": "code",
   "execution_count": 47,
   "outputs": [],
   "source": [
    "b = np.array([3,4]).reshape(2,1)"
   ],
   "metadata": {
    "collapsed": false,
    "ExecuteTime": {
     "end_time": "2024-01-27T11:45:13.952124Z",
     "start_time": "2024-01-27T11:45:13.535607Z"
    }
   },
   "id": "eb9ca2ee3e250831"
  },
  {
   "cell_type": "code",
   "execution_count": 48,
   "outputs": [
    {
     "data": {
      "text/plain": "array([[4],\n       [7]])"
     },
     "execution_count": 48,
     "metadata": {},
     "output_type": "execute_result"
    }
   ],
   "source": [
    "a"
   ],
   "metadata": {
    "collapsed": false,
    "ExecuteTime": {
     "end_time": "2024-01-27T11:45:13.952224Z",
     "start_time": "2024-01-27T11:45:13.537696Z"
    }
   },
   "id": "146762a3d6b61696"
  },
  {
   "cell_type": "code",
   "execution_count": 49,
   "outputs": [
    {
     "data": {
      "text/plain": "array([[3],\n       [4]])"
     },
     "execution_count": 49,
     "metadata": {},
     "output_type": "execute_result"
    }
   ],
   "source": [
    "b"
   ],
   "metadata": {
    "collapsed": false,
    "ExecuteTime": {
     "end_time": "2024-01-27T11:45:13.952325Z",
     "start_time": "2024-01-27T11:45:13.540257Z"
    }
   },
   "id": "5072256e7bca7cfa"
  },
  {
   "cell_type": "code",
   "execution_count": 50,
   "outputs": [
    {
     "data": {
      "text/plain": "array([[40]])"
     },
     "execution_count": 50,
     "metadata": {},
     "output_type": "execute_result"
    }
   ],
   "source": [
    "np.dot(a.T,b)"
   ],
   "metadata": {
    "collapsed": false,
    "ExecuteTime": {
     "end_time": "2024-01-27T11:45:13.952423Z",
     "start_time": "2024-01-27T11:45:13.543127Z"
    }
   },
   "id": "61067eb76004c561"
  },
  {
   "cell_type": "code",
   "execution_count": 51,
   "outputs": [
    {
     "data": {
      "text/plain": "array([[12, 16],\n       [21, 28]])"
     },
     "execution_count": 51,
     "metadata": {},
     "output_type": "execute_result"
    }
   ],
   "source": [
    "np.dot(a,b.T)"
   ],
   "metadata": {
    "collapsed": false,
    "ExecuteTime": {
     "end_time": "2024-01-27T11:45:13.952740Z",
     "start_time": "2024-01-27T11:45:13.545724Z"
    }
   },
   "id": "6cb26d49d8ae1ad8"
  },
  {
   "cell_type": "markdown",
   "source": [
    "두 벡터의 내적을 구해봅시다. \n",
    "$ \\vec{v}= 5 \\vec{i} - 8\\vec{j} $ , $\\vec{w} = 1\\vec{i}+2\\vec{j}$"
   ],
   "metadata": {
    "collapsed": false
   },
   "id": "729f2bad650727e4"
  },
  {
   "cell_type": "code",
   "execution_count": 52,
   "outputs": [],
   "source": [
    "v = np.mat('5,-8')"
   ],
   "metadata": {
    "collapsed": false,
    "ExecuteTime": {
     "end_time": "2024-01-27T11:45:13.952895Z",
     "start_time": "2024-01-27T11:45:13.548373Z"
    }
   },
   "id": "8e76d4688d71f18a"
  },
  {
   "cell_type": "code",
   "execution_count": 53,
   "outputs": [],
   "source": [
    "w=np.mat('1,2')"
   ],
   "metadata": {
    "collapsed": false,
    "ExecuteTime": {
     "end_time": "2024-01-27T11:45:13.952959Z",
     "start_time": "2024-01-27T11:45:13.550718Z"
    }
   },
   "id": "af1ad99f39d2c1d7"
  },
  {
   "cell_type": "code",
   "execution_count": 54,
   "outputs": [
    {
     "data": {
      "text/plain": "matrix([[ 5, -8]])"
     },
     "execution_count": 54,
     "metadata": {},
     "output_type": "execute_result"
    }
   ],
   "source": [
    "v"
   ],
   "metadata": {
    "collapsed": false,
    "ExecuteTime": {
     "end_time": "2024-01-27T11:45:13.954491Z",
     "start_time": "2024-01-27T11:45:13.552896Z"
    }
   },
   "id": "b5f878dd848a16cd"
  },
  {
   "cell_type": "code",
   "execution_count": 55,
   "outputs": [
    {
     "data": {
      "text/plain": "matrix([[1, 2]])"
     },
     "execution_count": 55,
     "metadata": {},
     "output_type": "execute_result"
    }
   ],
   "source": [
    "w"
   ],
   "metadata": {
    "collapsed": false,
    "ExecuteTime": {
     "end_time": "2024-01-27T11:45:13.955029Z",
     "start_time": "2024-01-27T11:45:13.555031Z"
    }
   },
   "id": "be0c3ae099f6d599"
  },
  {
   "cell_type": "code",
   "execution_count": 56,
   "outputs": [
    {
     "data": {
      "text/plain": "(1, 2)"
     },
     "execution_count": 56,
     "metadata": {},
     "output_type": "execute_result"
    }
   ],
   "source": [
    "w.shape"
   ],
   "metadata": {
    "collapsed": false,
    "ExecuteTime": {
     "end_time": "2024-01-27T11:45:13.955246Z",
     "start_time": "2024-01-27T11:45:13.557577Z"
    }
   },
   "id": "a913d7f38c42a8d6"
  },
  {
   "cell_type": "code",
   "execution_count": 57,
   "outputs": [
    {
     "data": {
      "text/plain": "matrix([[-11]])"
     },
     "execution_count": 57,
     "metadata": {},
     "output_type": "execute_result"
    }
   ],
   "source": [
    "np.dot(v,w.T)"
   ],
   "metadata": {
    "collapsed": false,
    "ExecuteTime": {
     "end_time": "2024-01-27T11:45:13.955365Z",
     "start_time": "2024-01-27T11:45:13.560906Z"
    }
   },
   "id": "ec2151b5f6d4cbd4"
  },
  {
   "cell_type": "code",
   "execution_count": 58,
   "outputs": [
    {
     "data": {
      "text/plain": "-11"
     },
     "execution_count": 58,
     "metadata": {},
     "output_type": "execute_result"
    }
   ],
   "source": [
    "5*1+-8*2"
   ],
   "metadata": {
    "collapsed": false,
    "ExecuteTime": {
     "end_time": "2024-01-27T11:45:13.955481Z",
     "start_time": "2024-01-27T11:45:13.563605Z"
    }
   },
   "id": "479feccb5b785f6a"
  },
  {
   "cell_type": "code",
   "execution_count": 59,
   "outputs": [
    {
     "data": {
      "text/plain": "matrix([[1, 2]])"
     },
     "execution_count": 59,
     "metadata": {},
     "output_type": "execute_result"
    }
   ],
   "source": [
    "w"
   ],
   "metadata": {
    "collapsed": false,
    "ExecuteTime": {
     "end_time": "2024-01-27T11:45:13.955592Z",
     "start_time": "2024-01-27T11:45:13.566629Z"
    }
   },
   "id": "18a5516f6a1ddc51"
  },
  {
   "cell_type": "code",
   "execution_count": 60,
   "outputs": [
    {
     "data": {
      "text/plain": "matrix([[1],\n        [2]])"
     },
     "execution_count": 60,
     "metadata": {},
     "output_type": "execute_result"
    }
   ],
   "source": [
    "w.T"
   ],
   "metadata": {
    "collapsed": false,
    "ExecuteTime": {
     "end_time": "2024-01-27T11:45:13.955718Z",
     "start_time": "2024-01-27T11:45:13.569246Z"
    }
   },
   "id": "50f82c934e61ac3a"
  },
  {
   "cell_type": "code",
   "execution_count": 61,
   "outputs": [
    {
     "data": {
      "text/plain": "(2, 1)"
     },
     "execution_count": 61,
     "metadata": {},
     "output_type": "execute_result"
    }
   ],
   "source": [
    "w.T.shape"
   ],
   "metadata": {
    "collapsed": false,
    "ExecuteTime": {
     "end_time": "2024-01-27T11:45:13.955837Z",
     "start_time": "2024-01-27T11:45:13.571962Z"
    }
   },
   "id": "83986306efe4d532"
  },
  {
   "cell_type": "code",
   "execution_count": 62,
   "outputs": [],
   "source": [
    "a = np.array([[1],[2]])\n",
    "b = np.array([[3],[4]])"
   ],
   "metadata": {
    "collapsed": false,
    "ExecuteTime": {
     "end_time": "2024-01-27T11:45:13.955899Z",
     "start_time": "2024-01-27T11:45:13.574125Z"
    }
   },
   "id": "368f00c179bd96e5"
  },
  {
   "cell_type": "code",
   "execution_count": 63,
   "outputs": [
    {
     "data": {
      "text/plain": "8.000000000000002"
     },
     "execution_count": 63,
     "metadata": {},
     "output_type": "execute_result"
    }
   ],
   "source": [
    "np.linalg.norm(a-b)**2 # = ||a-b||2"
   ],
   "metadata": {
    "collapsed": false,
    "ExecuteTime": {
     "end_time": "2024-01-27T11:45:13.956015Z",
     "start_time": "2024-01-27T11:45:13.576423Z"
    }
   },
   "id": "b8591047580b1c16"
  },
  {
   "cell_type": "code",
   "execution_count": 64,
   "outputs": [
    {
     "data": {
      "text/plain": "array([[8]])"
     },
     "execution_count": 64,
     "metadata": {},
     "output_type": "execute_result"
    }
   ],
   "source": [
    "np.dot((a-b).T,a-b) #(a-b)(a-b) = (a-b)T(a-b)"
   ],
   "metadata": {
    "collapsed": false,
    "ExecuteTime": {
     "end_time": "2024-01-27T11:45:13.956140Z",
     "start_time": "2024-01-27T11:45:13.579168Z"
    }
   },
   "id": "5fc724fc57f53b8f"
  },
  {
   "cell_type": "code",
   "execution_count": 65,
   "outputs": [],
   "source": [
    "a = np.mat('3,-4,1')\n",
    "b= np.mat('0,5,4')"
   ],
   "metadata": {
    "collapsed": false,
    "ExecuteTime": {
     "end_time": "2024-01-27T11:45:13.956191Z",
     "start_time": "2024-01-27T11:45:13.581623Z"
    }
   },
   "id": "8bc17c89b4053877"
  },
  {
   "cell_type": "code",
   "execution_count": 66,
   "outputs": [
    {
     "data": {
      "text/plain": "matrix([[-16]])"
     },
     "execution_count": 66,
     "metadata": {},
     "output_type": "execute_result"
    }
   ],
   "source": [
    "ab_dot = np.dot(a,b.T)\n",
    "ab_dot"
   ],
   "metadata": {
    "collapsed": false,
    "ExecuteTime": {
     "end_time": "2024-01-27T11:45:13.956306Z",
     "start_time": "2024-01-27T11:45:13.583670Z"
    }
   },
   "id": "68450efea8415fa6"
  },
  {
   "cell_type": "code",
   "execution_count": 67,
   "outputs": [],
   "source": [
    "a_norm = np.linalg.norm(a)"
   ],
   "metadata": {
    "collapsed": false,
    "ExecuteTime": {
     "end_time": "2024-01-27T11:45:13.956367Z",
     "start_time": "2024-01-27T11:45:13.585711Z"
    }
   },
   "id": "edec285c08a69813"
  },
  {
   "cell_type": "code",
   "execution_count": 68,
   "outputs": [
    {
     "data": {
      "text/plain": "5.0990195135927845"
     },
     "execution_count": 68,
     "metadata": {},
     "output_type": "execute_result"
    }
   ],
   "source": [
    "a_norm"
   ],
   "metadata": {
    "collapsed": false,
    "ExecuteTime": {
     "end_time": "2024-01-27T11:45:13.956471Z",
     "start_time": "2024-01-27T11:45:13.587634Z"
    }
   },
   "id": "5ed83f83f21b15f8"
  },
  {
   "cell_type": "code",
   "execution_count": 69,
   "outputs": [
    {
     "data": {
      "text/plain": "6.4031242374328485"
     },
     "execution_count": 69,
     "metadata": {},
     "output_type": "execute_result"
    }
   ],
   "source": [
    "b_norm = np.linalg.norm(b)\n",
    "b_norm"
   ],
   "metadata": {
    "collapsed": false,
    "ExecuteTime": {
     "end_time": "2024-01-27T11:45:13.956578Z",
     "start_time": "2024-01-27T11:45:13.590094Z"
    }
   },
   "id": "ee8e554a03edae21"
  },
  {
   "cell_type": "code",
   "execution_count": 70,
   "outputs": [],
   "source": [
    "ab_cos = ab_dot/(a_norm*b_norm)"
   ],
   "metadata": {
    "collapsed": false,
    "ExecuteTime": {
     "end_time": "2024-01-27T11:45:13.956631Z",
     "start_time": "2024-01-27T11:45:13.592555Z"
    }
   },
   "id": "f960a5e73700b54a"
  },
  {
   "cell_type": "code",
   "execution_count": 71,
   "outputs": [
    {
     "data": {
      "text/plain": "matrix([[-0.49005111]])"
     },
     "execution_count": 71,
     "metadata": {},
     "output_type": "execute_result"
    }
   ],
   "source": [
    "ab_cos"
   ],
   "metadata": {
    "collapsed": false,
    "ExecuteTime": {
     "end_time": "2024-01-27T11:45:13.956731Z",
     "start_time": "2024-01-27T11:45:13.594947Z"
    }
   },
   "id": "c8c4b7b53a66104c"
  },
  {
   "cell_type": "code",
   "execution_count": 72,
   "outputs": [],
   "source": [
    "ab_radian = np.arccos(ab_cos)"
   ],
   "metadata": {
    "collapsed": false,
    "ExecuteTime": {
     "end_time": "2024-01-27T11:45:13.956778Z",
     "start_time": "2024-01-27T11:45:13.597461Z"
    }
   },
   "id": "b7336b4ff72128a8"
  },
  {
   "cell_type": "code",
   "execution_count": 73,
   "outputs": [
    {
     "data": {
      "text/plain": "matrix([[2.08294472]])"
     },
     "execution_count": 73,
     "metadata": {},
     "output_type": "execute_result"
    }
   ],
   "source": [
    "ab_radian"
   ],
   "metadata": {
    "collapsed": false,
    "ExecuteTime": {
     "end_time": "2024-01-27T11:45:13.956879Z",
     "start_time": "2024-01-27T11:45:13.599531Z"
    }
   },
   "id": "b8fc098308018fc1"
  },
  {
   "cell_type": "code",
   "execution_count": 74,
   "outputs": [
    {
     "data": {
      "text/plain": "matrix([[119.34394117]])"
     },
     "execution_count": 74,
     "metadata": {},
     "output_type": "execute_result"
    }
   ],
   "source": [
    "theta = np.degrees(ab_radian)\n",
    "theta"
   ],
   "metadata": {
    "collapsed": false,
    "ExecuteTime": {
     "end_time": "2024-01-27T11:45:13.956982Z",
     "start_time": "2024-01-27T11:45:13.602130Z"
    }
   },
   "id": "960d015a297af361"
  },
  {
   "cell_type": "code",
   "execution_count": 75,
   "outputs": [],
   "source": [
    "def CalCosTS(a,b):\n",
    "    inP = np.dot(a.T,b)\n",
    "    normx = np.linalg.norm(a)\n",
    "    normy = np.linalg.norm(b)\n",
    "    xy_radian = np.arccos(float(inP)/(normx*normy))\n",
    "    return (np.rad2deg(xy_radian))"
   ],
   "metadata": {
    "collapsed": false,
    "ExecuteTime": {
     "end_time": "2024-01-27T11:45:13.957033Z",
     "start_time": "2024-01-27T11:45:13.604968Z"
    }
   },
   "id": "faaa74b2238e6a66"
  },
  {
   "cell_type": "code",
   "execution_count": 76,
   "outputs": [],
   "source": [
    "a = np.mat('3;4;-1')"
   ],
   "metadata": {
    "collapsed": false,
    "ExecuteTime": {
     "end_time": "2024-01-27T11:45:13.957086Z",
     "start_time": "2024-01-27T11:45:13.606984Z"
    }
   },
   "id": "a1accd3baf567070"
  },
  {
   "cell_type": "code",
   "execution_count": 77,
   "outputs": [],
   "source": [
    "b= np.mat('0;5;2')"
   ],
   "metadata": {
    "collapsed": false,
    "ExecuteTime": {
     "end_time": "2024-01-27T11:45:13.957138Z",
     "start_time": "2024-01-27T11:45:13.608886Z"
    }
   },
   "id": "9371ac9c32464646"
  },
  {
   "cell_type": "code",
   "execution_count": 78,
   "outputs": [
    {
     "name": "stderr",
     "output_type": "stream",
     "text": [
      "/var/folders/tb/y4l19ld51l16y6q2dmjtdk_00000gn/T/ipykernel_30574/1620821089.py:5: DeprecationWarning: Conversion of an array with ndim > 0 to a scalar is deprecated, and will error in future. Ensure you extract a single element from your array before performing this operation. (Deprecated NumPy 1.25.)\n",
      "  xy_radian = np.arccos(float(inP)/(normx*normy))\n"
     ]
    },
    {
     "data": {
      "text/plain": "49.040807710470744"
     },
     "execution_count": 78,
     "metadata": {},
     "output_type": "execute_result"
    }
   ],
   "source": [
    "CalCosTS(a,b)"
   ],
   "metadata": {
    "collapsed": false,
    "ExecuteTime": {
     "end_time": "2024-01-27T11:45:13.957300Z",
     "start_time": "2024-01-27T11:45:13.610991Z"
    }
   },
   "id": "605209dfa19bca05"
  },
  {
   "cell_type": "markdown",
   "source": [
    "코시 슈바르츠 부등식 \n",
    "---\n",
    "벡터의 내적과 놈을 사용하여 부등식 관계 정의 \n",
    "두벡터 $\\vec{u}$ , $\\vec{v}$ 에 대해서    두 벡터의 내적은  각 벡터의 norm 의 곱보다 작거나 같음. \n",
    "$\\|\\vec{u}\\vec{v}\\| \\leq \\|\\vec{u}\\| \\| \\vec{v}\\|$"
   ],
   "metadata": {
    "collapsed": false
   },
   "id": "78c31383e10dad98"
  },
  {
   "cell_type": "code",
   "execution_count": 79,
   "outputs": [],
   "source": [
    "u = np.mat('-1,2,0,1')\n",
    "v = np.mat('4,-2,-1,1')\n",
    "uv_dot = np.dot(u,v.T)"
   ],
   "metadata": {
    "collapsed": false,
    "ExecuteTime": {
     "end_time": "2024-01-27T11:45:13.957349Z",
     "start_time": "2024-01-27T11:45:13.613629Z"
    }
   },
   "id": "db1b7c344dfa5fed"
  },
  {
   "cell_type": "code",
   "execution_count": 80,
   "outputs": [
    {
     "data": {
      "text/plain": "matrix([[7]])"
     },
     "execution_count": 80,
     "metadata": {},
     "output_type": "execute_result"
    }
   ],
   "source": [
    "abs(uv_dot)"
   ],
   "metadata": {
    "collapsed": false,
    "ExecuteTime": {
     "end_time": "2024-01-27T11:45:13.957458Z",
     "start_time": "2024-01-27T11:45:13.615712Z"
    }
   },
   "id": "4b30c0eb848d9f18"
  },
  {
   "cell_type": "code",
   "execution_count": 81,
   "outputs": [
    {
     "data": {
      "text/plain": "11.489125293076057"
     },
     "execution_count": 81,
     "metadata": {},
     "output_type": "execute_result"
    }
   ],
   "source": [
    "np.linalg.norm(u) * np.linalg.norm(v)"
   ],
   "metadata": {
    "collapsed": false,
    "ExecuteTime": {
     "end_time": "2024-01-27T11:45:13.957569Z",
     "start_time": "2024-01-27T11:45:13.617923Z"
    }
   },
   "id": "a8d6166de53e0a38"
  },
  {
   "cell_type": "code",
   "execution_count": 82,
   "outputs": [
    {
     "name": "stdout",
     "output_type": "stream",
     "text": [
      "true\n"
     ]
    }
   ],
   "source": [
    "if abs(uv_dot) <= np.linalg.norm(u) * np.linalg.norm(v):\n",
    "    print(\"true\")"
   ],
   "metadata": {
    "collapsed": false,
    "ExecuteTime": {
     "end_time": "2024-01-27T11:45:13.957667Z",
     "start_time": "2024-01-27T11:45:13.620890Z"
    }
   },
   "id": "e6eb60ddf4650cec"
  },
  {
   "cell_type": "markdown",
   "source": [
    "삼각부등식\n",
    "\n",
    "$\\|\\vec{u}+\\vec{v}\\| \\leq \\|\\vec{u}\\|+ \\| \\vec{v}\\|$ 를 제곱 하여 정리하면 \n",
    "|\n",
    "$\\|\\vec{u}+\\vec{v}\\|^2 = \\|\\vec{u}\\|^2+ \\| \\vec{v}\\|^2 +2\\|\\vec{u}\\vec{v}\\| \\leq  \\|\\vec{u}\\|^2+ \\| \\vec{v}\\|^2 +2\\|\\vec{u}\\| \\|\\vec{v}\\|$"
   ],
   "metadata": {
    "collapsed": false
   },
   "id": "e75d52e4c1336627"
  },
  {
   "cell_type": "markdown",
   "source": [
    "벡터의 정사영 "
   ],
   "metadata": {
    "collapsed": false
   },
   "id": "34b62f425c7d60ca"
  },
  {
   "cell_type": "code",
   "execution_count": 83,
   "outputs": [],
   "source": [
    "a = np.mat('1,0')\n",
    "b = np.mat('2,1')\n",
    "ab_dot = np.dot(a,b.T)\n",
    "a_norm = np.linalg.norm(a)\n",
    "b_pro = (ab_dot/a_norm**2)*a"
   ],
   "metadata": {
    "collapsed": false,
    "ExecuteTime": {
     "end_time": "2024-01-27T11:45:13.957716Z",
     "start_time": "2024-01-27T11:45:13.623648Z"
    }
   },
   "id": "4e6c66a0aae14566"
  },
  {
   "cell_type": "code",
   "execution_count": 84,
   "outputs": [
    {
     "data": {
      "text/plain": "matrix([[2., 0.]])"
     },
     "execution_count": 84,
     "metadata": {},
     "output_type": "execute_result"
    }
   ],
   "source": [
    "b_pro   "
   ],
   "metadata": {
    "collapsed": false,
    "ExecuteTime": {
     "end_time": "2024-01-27T11:45:13.957828Z",
     "start_time": "2024-01-27T11:45:13.625910Z"
    }
   },
   "id": "458cdf7312ec1f35"
  },
  {
   "cell_type": "markdown",
   "source": [
    "a 가 3.1,-2일떄를 구해보면  direction cosines "
   ],
   "metadata": {
    "collapsed": false
   },
   "id": "1bf8defeb6c0ba3e"
  },
  {
   "cell_type": "code",
   "execution_count": 85,
   "outputs": [],
   "source": [
    "a = np.mat(\"3,1,-2\")"
   ],
   "metadata": {
    "collapsed": false,
    "ExecuteTime": {
     "end_time": "2024-01-27T11:45:13.957875Z",
     "start_time": "2024-01-27T11:45:13.628334Z"
    }
   },
   "id": "6cf72dd839dec45d"
  },
  {
   "cell_type": "code",
   "execution_count": 86,
   "outputs": [
    {
     "data": {
      "text/plain": "matrix([[ 3,  1, -2]])"
     },
     "execution_count": 86,
     "metadata": {},
     "output_type": "execute_result"
    }
   ],
   "source": [
    "a"
   ],
   "metadata": {
    "collapsed": false,
    "ExecuteTime": {
     "end_time": "2024-01-27T11:45:13.957991Z",
     "start_time": "2024-01-27T11:45:13.630559Z"
    }
   },
   "id": "f3e77f87367dc4a2"
  },
  {
   "cell_type": "code",
   "execution_count": 87,
   "outputs": [
    {
     "data": {
      "text/plain": "3.7416573867739413"
     },
     "execution_count": 87,
     "metadata": {},
     "output_type": "execute_result"
    }
   ],
   "source": [
    "a_norm = np.linalg.norm(a)\n",
    "a_norm"
   ],
   "metadata": {
    "collapsed": false,
    "ExecuteTime": {
     "end_time": "2024-01-27T11:45:13.958095Z",
     "start_time": "2024-01-27T11:45:13.633398Z"
    }
   },
   "id": "66d17bb5ca4803fe"
  },
  {
   "cell_type": "code",
   "execution_count": 88,
   "outputs": [],
   "source": [
    "i = np.mat('1,0,0')\n",
    "j = np.mat('0,1,0')\n",
    "k = np.mat('0,0,1')"
   ],
   "metadata": {
    "collapsed": false,
    "ExecuteTime": {
     "end_time": "2024-01-27T11:45:13.958152Z",
     "start_time": "2024-01-27T11:45:13.635581Z"
    }
   },
   "id": "1745a701e3e0baee"
  },
  {
   "cell_type": "code",
   "execution_count": 89,
   "outputs": [
    {
     "data": {
      "text/plain": "matrix([[0.80178373]])"
     },
     "execution_count": 89,
     "metadata": {},
     "output_type": "execute_result"
    }
   ],
   "source": [
    "np.dot(a,i.T)/a_norm"
   ],
   "metadata": {
    "collapsed": false,
    "ExecuteTime": {
     "end_time": "2024-01-27T11:45:13.958255Z",
     "start_time": "2024-01-27T11:45:13.637648Z"
    }
   },
   "id": "4c88a234e6b9d846"
  },
  {
   "cell_type": "code",
   "execution_count": 90,
   "outputs": [],
   "source": [
    "cos = {\"Alpha\": np.dot(a,i.T)/a_norm, 'Beta':np.dot(j,j.T)/a_norm, 'Gamma':np.dot(k,k.T)/a_norm }"
   ],
   "metadata": {
    "collapsed": false,
    "ExecuteTime": {
     "end_time": "2024-01-27T11:45:13.958302Z",
     "start_time": "2024-01-27T11:45:13.640127Z"
    }
   },
   "id": "cdc735286f2a6c53"
  },
  {
   "cell_type": "code",
   "execution_count": 91,
   "outputs": [
    {
     "data": {
      "text/plain": "{'Alpha': matrix([[0.80178373]]),\n 'Beta': matrix([[0.26726124]]),\n 'Gamma': matrix([[0.26726124]])}"
     },
     "execution_count": 91,
     "metadata": {},
     "output_type": "execute_result"
    }
   ],
   "source": [
    "cos"
   ],
   "metadata": {
    "collapsed": false,
    "ExecuteTime": {
     "end_time": "2024-01-27T11:45:13.958413Z",
     "start_time": "2024-01-27T11:45:13.642526Z"
    }
   },
   "id": "57dcb3818213c793"
  },
  {
   "cell_type": "code",
   "execution_count": 91,
   "outputs": [],
   "source": [],
   "metadata": {
    "collapsed": false,
    "ExecuteTime": {
     "end_time": "2024-01-27T11:45:13.958462Z",
     "start_time": "2024-01-27T11:45:13.644737Z"
    }
   },
   "id": "cc7cf51c8fd86ccb"
  },
  {
   "cell_type": "markdown",
   "source": [
    "cross product\n",
    "---\n",
    "여인수 행렬 및 행렬식   \n",
    "쓸수 있는 numpy 식은  \n",
    "np.cross(x,y) cross product   \n",
    "x.cross(y) sympy  경우 벡터 x와 y 의 외적을 계산다. "
   ],
   "metadata": {
    "collapsed": false
   },
   "id": "37edc12040dde57a"
  },
  {
   "cell_type": "markdown",
   "source": [],
   "metadata": {
    "collapsed": false
   },
   "id": "ed5a8d4caa1f9718"
  },
  {
   "cell_type": "code",
   "execution_count": 92,
   "outputs": [],
   "source": [
    "a = sp.Matrix([2,1,-1])\n",
    "b = sp.Matrix([-3,4,1])"
   ],
   "metadata": {
    "collapsed": false,
    "ExecuteTime": {
     "end_time": "2024-01-27T11:45:13.958512Z",
     "start_time": "2024-01-27T11:45:13.646878Z"
    }
   },
   "id": "93a6e4e353b2e2"
  },
  {
   "cell_type": "code",
   "execution_count": 93,
   "outputs": [
    {
     "data": {
      "text/plain": "Matrix([\n[ 5],\n[ 1],\n[11]])",
      "text/latex": "$\\displaystyle \\left[\\begin{matrix}5\\\\1\\\\11\\end{matrix}\\right]$"
     },
     "execution_count": 93,
     "metadata": {},
     "output_type": "execute_result"
    }
   ],
   "source": [
    "a.cross(b)"
   ],
   "metadata": {
    "collapsed": false,
    "ExecuteTime": {
     "end_time": "2024-01-27T11:45:13.958621Z",
     "start_time": "2024-01-27T11:45:13.649361Z"
    }
   },
   "id": "27bd852d44e15ef6"
  },
  {
   "cell_type": "code",
   "execution_count": 94,
   "outputs": [],
   "source": [
    "a= np.mat(\"2,1,-1\")\n",
    "b = np.mat(\"-3,4,1\")"
   ],
   "metadata": {
    "collapsed": false,
    "ExecuteTime": {
     "end_time": "2024-01-27T11:45:13.958671Z",
     "start_time": "2024-01-27T11:45:13.651786Z"
    }
   },
   "id": "d20cb94a99be64c4"
  },
  {
   "cell_type": "code",
   "execution_count": 95,
   "outputs": [
    {
     "data": {
      "text/plain": "array([[ -5,  -1, -11]])"
     },
     "execution_count": 95,
     "metadata": {},
     "output_type": "execute_result"
    }
   ],
   "source": [
    "np.cross(b,a)"
   ],
   "metadata": {
    "collapsed": false,
    "ExecuteTime": {
     "end_time": "2024-01-27T11:45:13.958781Z",
     "start_time": "2024-01-27T11:45:13.654118Z"
    }
   },
   "id": "8351b4d54ea1746b"
  },
  {
   "cell_type": "code",
   "execution_count": 98,
   "outputs": [],
   "source": [
    "p = np.array([1,0,0])\n",
    "q = np.array([1,1,1])\n",
    "r = np.array([2,-1,3]) "
   ],
   "metadata": {
    "collapsed": false,
    "ExecuteTime": {
     "end_time": "2024-01-27T11:46:47.382441Z",
     "start_time": "2024-01-27T11:46:47.358655Z"
    }
   },
   "id": "7c5a54f419b69583"
  },
  {
   "cell_type": "code",
   "execution_count": 99,
   "outputs": [
    {
     "data": {
      "text/plain": "array([0, 1, 1])"
     },
     "execution_count": 99,
     "metadata": {},
     "output_type": "execute_result"
    }
   ],
   "source": [
    "pq = q-p\n",
    "pq"
   ],
   "metadata": {
    "collapsed": false,
    "ExecuteTime": {
     "end_time": "2024-01-27T11:47:09.466281Z",
     "start_time": "2024-01-27T11:47:09.446319Z"
    }
   },
   "id": "b735a6f17a288f95"
  },
  {
   "cell_type": "code",
   "execution_count": 100,
   "outputs": [],
   "source": [
    "pr = r-p"
   ],
   "metadata": {
    "collapsed": false,
    "ExecuteTime": {
     "end_time": "2024-01-27T11:50:04.564214Z",
     "start_time": "2024-01-27T11:50:04.512085Z"
    }
   },
   "id": "4d73bf2b49486954"
  },
  {
   "cell_type": "code",
   "execution_count": 101,
   "outputs": [
    {
     "data": {
      "text/plain": "array([ 1, -1,  3])"
     },
     "execution_count": 101,
     "metadata": {},
     "output_type": "execute_result"
    }
   ],
   "source": [
    "pr"
   ],
   "metadata": {
    "collapsed": false,
    "ExecuteTime": {
     "end_time": "2024-01-27T11:50:05.924589Z",
     "start_time": "2024-01-27T11:50:05.874681Z"
    }
   },
   "id": "7cf42c4846076683"
  },
  {
   "cell_type": "code",
   "execution_count": 102,
   "outputs": [
    {
     "data": {
      "text/plain": "array([ 4,  1, -1])"
     },
     "execution_count": 102,
     "metadata": {},
     "output_type": "execute_result"
    }
   ],
   "source": [
    "crossp = np.cross(pq,pr)\n",
    "crossp"
   ],
   "metadata": {
    "collapsed": false,
    "ExecuteTime": {
     "end_time": "2024-01-27T11:51:09.949682Z",
     "start_time": "2024-01-27T11:51:09.906619Z"
    }
   },
   "id": "b32102b1bca74a12"
  },
  {
   "cell_type": "code",
   "execution_count": 103,
   "outputs": [
    {
     "data": {
      "text/plain": "Matrix([\n[ 1],\n[ 4],\n[-7]])",
      "text/latex": "$\\displaystyle \\left[\\begin{matrix}1\\\\4\\\\-7\\end{matrix}\\right]$"
     },
     "execution_count": 103,
     "metadata": {},
     "output_type": "execute_result"
    }
   ],
   "source": [
    "# 벡터들이 한 평면내에 존재할때 \n",
    "a = sp.Matrix([1,4,-7])\n",
    "a"
   ],
   "metadata": {
    "collapsed": false,
    "ExecuteTime": {
     "end_time": "2024-01-27T12:01:01.412858Z",
     "start_time": "2024-01-27T12:01:01.355540Z"
    }
   },
   "id": "cea6a41da5a2e48b"
  },
  {
   "cell_type": "code",
   "execution_count": 104,
   "outputs": [],
   "source": [
    "b = sp.Matrix([2,-1,4])"
   ],
   "metadata": {
    "collapsed": false,
    "ExecuteTime": {
     "end_time": "2024-01-27T12:02:10.707981Z",
     "start_time": "2024-01-27T12:02:10.651647Z"
    }
   },
   "id": "2804c8658f3eca8"
  },
  {
   "cell_type": "code",
   "execution_count": 105,
   "outputs": [
    {
     "data": {
      "text/plain": "Matrix([\n[ 2],\n[-1],\n[ 4]])",
      "text/latex": "$\\displaystyle \\left[\\begin{matrix}2\\\\-1\\\\4\\end{matrix}\\right]$"
     },
     "execution_count": 105,
     "metadata": {},
     "output_type": "execute_result"
    }
   ],
   "source": [
    "b"
   ],
   "metadata": {
    "collapsed": false,
    "ExecuteTime": {
     "end_time": "2024-01-27T12:02:11.879827Z",
     "start_time": "2024-01-27T12:02:11.831249Z"
    }
   },
   "id": "d1087f7d7e67d92f"
  },
  {
   "cell_type": "code",
   "execution_count": 106,
   "outputs": [
    {
     "data": {
      "text/plain": "Matrix([\n[ 0],\n[-9],\n[18]])",
      "text/latex": "$\\displaystyle \\left[\\begin{matrix}0\\\\-9\\\\18\\end{matrix}\\right]$"
     },
     "execution_count": 106,
     "metadata": {},
     "output_type": "execute_result"
    }
   ],
   "source": [
    "c = sp.Matrix([0,-9,18])\n",
    "c"
   ],
   "metadata": {
    "collapsed": false,
    "ExecuteTime": {
     "end_time": "2024-01-27T12:02:52.703354Z",
     "start_time": "2024-01-27T12:02:52.650124Z"
    }
   },
   "id": "9ed98f57a4e7fb45"
  },
  {
   "cell_type": "code",
   "execution_count": 107,
   "outputs": [],
   "source": [
    "bcC = b.cross(c)"
   ],
   "metadata": {
    "collapsed": false,
    "ExecuteTime": {
     "end_time": "2024-01-27T12:03:06.704958Z",
     "start_time": "2024-01-27T12:03:06.649808Z"
    }
   },
   "id": "76a31cbfc9c8f537"
  },
  {
   "cell_type": "code",
   "execution_count": 108,
   "outputs": [
    {
     "data": {
      "text/plain": "Matrix([\n[ 18],\n[-36],\n[-18]])",
      "text/latex": "$\\displaystyle \\left[\\begin{matrix}18\\\\-36\\\\-18\\end{matrix}\\right]$"
     },
     "execution_count": 108,
     "metadata": {},
     "output_type": "execute_result"
    }
   ],
   "source": [
    "bcC"
   ],
   "metadata": {
    "collapsed": false,
    "ExecuteTime": {
     "end_time": "2024-01-27T12:03:09.210130Z",
     "start_time": "2024-01-27T12:03:09.157355Z"
    }
   },
   "id": "ccb6e56abb5f930b"
  },
  {
   "cell_type": "code",
   "execution_count": 109,
   "outputs": [
    {
     "data": {
      "text/plain": "Matrix([[0]])",
      "text/latex": "$\\displaystyle \\left[\\begin{matrix}0\\end{matrix}\\right]$"
     },
     "execution_count": 109,
     "metadata": {},
     "output_type": "execute_result"
    }
   ],
   "source": [
    "a.T*bcC"
   ],
   "metadata": {
    "collapsed": false,
    "ExecuteTime": {
     "end_time": "2024-01-27T12:03:23.784546Z",
     "start_time": "2024-01-27T12:03:23.722176Z"
    }
   },
   "id": "4bb384430592b286"
  },
  {
   "cell_type": "markdown",
   "source": [
    "수익률 실습\n",
    "---\n",
    "고객 3명의 매도대금 "
   ],
   "metadata": {
    "collapsed": false
   },
   "id": "2037588ca3edca03"
  },
  {
   "cell_type": "code",
   "execution_count": 110,
   "outputs": [
    {
     "data": {
      "text/plain": "array([[13000, 43200],\n       [93000, 23000],\n       [76000, 32000]])"
     },
     "execution_count": 110,
     "metadata": {},
     "output_type": "execute_result"
    }
   ],
   "source": [
    "score = np.array([[13000,43200],[93000,23000],[76000,32000]])\n",
    "score"
   ],
   "metadata": {
    "collapsed": false,
    "ExecuteTime": {
     "end_time": "2024-01-27T12:13:43.646540Z",
     "start_time": "2024-01-27T12:13:43.603283Z"
    }
   },
   "id": "6714d621b264a45b"
  },
  {
   "cell_type": "code",
   "execution_count": 111,
   "outputs": [],
   "source": [
    "# np.array, np.matrix, sympy.matrix"
   ],
   "metadata": {
    "collapsed": false,
    "ExecuteTime": {
     "end_time": "2024-01-27T12:14:07.907654Z",
     "start_time": "2024-01-27T12:14:07.852433Z"
    }
   },
   "id": "d2b629551fb00bec"
  },
  {
   "cell_type": "code",
   "execution_count": 112,
   "outputs": [],
   "source": [
    "import matplotlib.pyplot as plt"
   ],
   "metadata": {
    "collapsed": false,
    "ExecuteTime": {
     "end_time": "2024-01-27T12:17:58.562601Z",
     "start_time": "2024-01-27T12:17:58.301730Z"
    }
   },
   "id": "e3b5b0b9f3340043"
  },
  {
   "cell_type": "code",
   "execution_count": 120,
   "outputs": [
    {
     "data": {
      "text/plain": "<Figure size 640x480 with 1 Axes>",
      "image/png": "[encoded data removed]"
     },
     "metadata": {},
     "output_type": "display_data"
    }
   ],
   "source": [
    "nme = [\"Samual\", \"Gregory\",\"Leo\"]\n",
    "col = [\"k\",\"b\",\"r\"]\n",
    "for i in range(3):\n",
    "    plt.arrow(0,0, score[i,0],score[i,1],head_width =3,color=col[i] )\n",
    "    plt.text(score[i,0]+5,score[i,1]+5,nme[i],color=col[i],fontsize=10)\n",
    "plt.xlim(0,100000)\n",
    "plt.ylim(0,60000)\n",
    "plt.xlabel(\"vector1\")\n",
    "plt.ylabel(\"vector2\")\n",
    "plt.show()"
   ],
   "metadata": {
    "collapsed": false,
    "ExecuteTime": {
     "end_time": "2024-01-27T12:34:31.959960Z",
     "start_time": "2024-01-27T12:34:31.904729Z"
    }
   },
   "id": "cf8e44beecea4762"
  },
  {
   "cell_type": "code",
   "execution_count": 3,
   "outputs": [
    {
     "name": "stdout",
     "output_type": "stream",
     "text": [
      "Mean donation over the last 10 days is 5112.0\n"
     ]
    }
   ],
   "source": [
    "\"\"\"\n",
    "Calculating the mean\n",
    "\"\"\"\n",
    "def calculate_mean(numbers):\n",
    "    s = sum(numbers)\n",
    "    N = len(numbers)\n",
    "    #Calculate the mean\n",
    "    mean = s/N\n",
    "\n",
    "    return mean\n",
    "\n",
    "if __name__=='__main__':\n",
    "    donations = [100,60,30,60,120,50,600,10000,40000,100]\n",
    "    mean = calculate_mean(donations)\n",
    "    N = len(donations)\n",
    "    print('Mean donation over the last {0} days is {1}'.format(N,mean))"
   ],
   "metadata": {
    "collapsed": false,
    "ExecuteTime": {
     "end_time": "2024-02-08T05:29:30.731748Z",
     "start_time": "2024-02-08T05:29:30.680552Z"
    }
   },
   "id": "8ee5e96d86f8898a"
  },
  {
   "cell_type": "code",
   "execution_count": 4,
   "outputs": [
    {
     "name": "stdout",
     "output_type": "stream",
     "text": [
      "Median donation over the last 10 days is 100.0\n"
     ]
    }
   ],
   "source": [
    "\"\"\"\n",
    "Calculating the median\n",
    "\"\"\"\n",
    "def calculate_median(numbers):\n",
    "    N = len(numbers)\n",
    "    numbers.sort()\n",
    "    #Find the median\n",
    "    if N%2==0:\n",
    "        m1 = N/2\n",
    "        m2 = N/2 +1\n",
    "        m1 =int(m1)-1\n",
    "        m2 = int(m2)-1\n",
    "        median = (numbers[m1] + numbers[m2])/2\n",
    "    else:\n",
    "        m = (N+1)/2\n",
    "        m = int(m)-1\n",
    "        median = numbers[m]\n",
    "\n",
    "    return median\n",
    "\n",
    "if __name__ == '__main__':\n",
    "    donations = [100,60,30,60,120,50,600,10000,40000,100]\n",
    "    median = calculate_median(donations)\n",
    "    N = len(donations)\n",
    "    print('Median donation over the last {0} days is {1}'.format(N,median))"
   ],
   "metadata": {
    "collapsed": false,
    "ExecuteTime": {
     "end_time": "2024-02-08T05:29:38.730513Z",
     "start_time": "2024-02-08T05:29:38.678467Z"
    }
   },
   "id": "b4207a60f8120998"
  },
  {
   "cell_type": "code",
   "execution_count": 5,
   "outputs": [
    {
     "data": {
      "text/plain": "[(1, 2), (4, 1), (3, 1), (2, 1), (6, 1)]"
     },
     "execution_count": 5,
     "metadata": {},
     "output_type": "execute_result"
    }
   ],
   "source": [
    "simplelist = [1,4,3,2,1,6]\n",
    "from collections import Counter\n",
    "c = Counter(simplelist)\n",
    "c.most_common()"
   ],
   "metadata": {
    "collapsed": false,
    "ExecuteTime": {
     "end_time": "2024-02-08T05:29:45.568808Z",
     "start_time": "2024-02-08T05:29:45.525233Z"
    }
   },
   "id": "b127e157448f8130"
  },
  {
   "cell_type": "code",
   "execution_count": 7,
   "outputs": [
    {
     "data": {
      "text/plain": "[(1, 2), (4, 1)]"
     },
     "execution_count": 7,
     "metadata": {},
     "output_type": "execute_result"
    }
   ],
   "source": [
    "c.most_common(2)"
   ],
   "metadata": {
    "collapsed": false,
    "ExecuteTime": {
     "end_time": "2024-02-08T05:29:58.140198Z",
     "start_time": "2024-02-08T05:29:58.122705Z"
    }
   },
   "id": "5a92939f795146c6"
  },
  {
   "cell_type": "code",
   "execution_count": 8,
   "outputs": [
    {
     "data": {
      "text/plain": "1"
     },
     "execution_count": 8,
     "metadata": {},
     "output_type": "execute_result"
    }
   ],
   "source": [
    "mode = c.most_common(2)\n",
    "mode[1][1]"
   ],
   "metadata": {
    "collapsed": false,
    "ExecuteTime": {
     "end_time": "2024-02-08T05:30:01.374411Z",
     "start_time": "2024-02-08T05:30:01.320115Z"
    }
   },
   "id": "9322521c39a119a5"
  },
  {
   "cell_type": "code",
   "execution_count": 9,
   "outputs": [],
   "source": [
    "\"\"\"\n",
    "Calculating the mode\n",
    "\"\"\"\n",
    "from collections import Counter\n",
    "\n",
    "def calculate_mode(numbers):\n",
    "    c = Counter(numbers)\n",
    "    mode = c.most_common(1)\n",
    "    return mode[0][0]"
   ],
   "metadata": {
    "collapsed": false,
    "ExecuteTime": {
     "end_time": "2024-02-08T05:30:08.304371Z",
     "start_time": "2024-02-08T05:30:08.260638Z"
    }
   },
   "id": "acac65ecc6e43b18"
  },
  {
   "cell_type": "code",
   "execution_count": 10,
   "outputs": [],
   "source": [
    "from sympy import Symbol\n",
    "x = Symbol('x')"
   ],
   "metadata": {
    "collapsed": false,
    "ExecuteTime": {
     "end_time": "2024-02-08T05:30:14.432089Z",
     "start_time": "2024-02-08T05:30:14.216079Z"
    }
   },
   "id": "ba0fe03a4e61ee92"
  },
  {
   "cell_type": "code",
   "execution_count": 11,
   "outputs": [
    {
     "data": {
      "text/plain": "2*x + 1",
      "text/latex": "$\\displaystyle 2 x + 1$"
     },
     "execution_count": 11,
     "metadata": {},
     "output_type": "execute_result"
    }
   ],
   "source": [
    "x + x +1"
   ],
   "metadata": {
    "collapsed": false,
    "ExecuteTime": {
     "end_time": "2024-02-08T05:30:18.631581Z",
     "start_time": "2024-02-08T05:30:18.577844Z"
    }
   },
   "id": "f65e4eaa2ee66a00"
  },
  {
   "cell_type": "code",
   "execution_count": 12,
   "outputs": [
    {
     "data": {
      "text/plain": "3*x + 1",
      "text/latex": "$\\displaystyle 3 x + 1$"
     },
     "execution_count": 12,
     "metadata": {},
     "output_type": "execute_result"
    }
   ],
   "source": [
    "a = Symbol('x')\n",
    "a + a +a +1"
   ],
   "metadata": {
    "collapsed": false,
    "ExecuteTime": {
     "end_time": "2024-02-08T05:30:25.480286Z",
     "start_time": "2024-02-08T05:30:25.432422Z"
    }
   },
   "id": "e5a7efdea82cc14e"
  },
  {
   "cell_type": "code",
   "execution_count": 13,
   "outputs": [],
   "source": [
    "from sympy import symbols\n",
    "x,y,z = symbols('x,y,z')"
   ],
   "metadata": {
    "collapsed": false,
    "ExecuteTime": {
     "end_time": "2024-02-08T05:30:32.111118Z",
     "start_time": "2024-02-08T05:30:32.061476Z"
    }
   },
   "id": "abd5ab1f6dbaeee1"
  },
  {
   "cell_type": "code",
   "execution_count": 14,
   "outputs": [],
   "source": [
    " p = (x*3)+ (y + 4)"
   ],
   "metadata": {
    "collapsed": false,
    "ExecuteTime": {
     "end_time": "2024-02-08T05:30:37.769415Z",
     "start_time": "2024-02-08T05:30:37.725386Z"
    }
   },
   "id": "18f437541196e9b5"
  },
  {
   "cell_type": "code",
   "execution_count": 15,
   "outputs": [
    {
     "data": {
      "text/plain": "3*x + y + 4",
      "text/latex": "$\\displaystyle 3 x + y + 4$"
     },
     "execution_count": 15,
     "metadata": {},
     "output_type": "execute_result"
    }
   ],
   "source": [
    "p"
   ],
   "metadata": {
    "collapsed": false,
    "ExecuteTime": {
     "end_time": "2024-02-08T05:30:44.583795Z",
     "start_time": "2024-02-08T05:30:44.529345Z"
    }
   },
   "id": "c63bb1cd96078447"
  },
  {
   "cell_type": "markdown",
   "source": [
    "factorizing and Expanding Expressions\n",
    "-----\n",
    " `factor()` function decompose an expression into its factors, and the expand() function expands an expression, expressing it as a a sum of individual terms.\n"
   ],
   "metadata": {
    "collapsed": false
   },
   "id": "e82025ad73dbd8bc"
  },
  {
   "cell_type": "code",
   "execution_count": 16,
   "outputs": [
    {
     "data": {
      "text/plain": "(x - y)*(x + y)",
      "text/latex": "$\\displaystyle \\left(x - y\\right) \\left(x + y\\right)$"
     },
     "execution_count": 16,
     "metadata": {},
     "output_type": "execute_result"
    }
   ],
   "source": [
    "from sympy import Symbol\n",
    "x = Symbol('x')\n",
    "y = Symbol('y')\n",
    "from sympy import factor\n",
    "expr = x**2 -y **2\n",
    "factor(expr)"
   ],
   "metadata": {
    "collapsed": false,
    "ExecuteTime": {
     "end_time": "2024-02-08T05:30:59.979158Z",
     "start_time": "2024-02-08T05:30:59.929939Z"
    }
   },
   "id": "3dc95bfebdef754c"
  },
  {
   "cell_type": "code",
   "execution_count": 17,
   "outputs": [
    {
     "data": {
      "text/plain": "(x - y)*(x + y)",
      "text/latex": "$\\displaystyle \\left(x - y\\right) \\left(x + y\\right)$"
     },
     "execution_count": 17,
     "metadata": {},
     "output_type": "execute_result"
    }
   ],
   "source": [
    "factors = factor(expr)\n",
    "factors"
   ],
   "metadata": {
    "collapsed": false,
    "ExecuteTime": {
     "end_time": "2024-02-08T05:31:06.338972Z",
     "start_time": "2024-02-08T05:31:06.292206Z"
    }
   },
   "id": "c65e5ebbb14c78c8"
  },
  {
   "cell_type": "code",
   "execution_count": 18,
   "outputs": [
    {
     "data": {
      "text/plain": "x**2 - y**2",
      "text/latex": "$\\displaystyle x^{2} - y^{2}$"
     },
     "execution_count": 18,
     "metadata": {},
     "output_type": "execute_result"
    }
   ],
   "source": [
    "from sympy import expand\n",
    "expand(factors)"
   ],
   "metadata": {
    "collapsed": false,
    "ExecuteTime": {
     "end_time": "2024-02-08T05:31:11.843629Z",
     "start_time": "2024-02-08T05:31:11.786666Z"
    }
   },
   "id": "6224ab00c5e01084"
  },
  {
   "cell_type": "code",
   "execution_count": 19,
   "outputs": [
    {
     "data": {
      "text/plain": "(x + y)**3",
      "text/latex": "$\\displaystyle \\left(x + y\\right)^{3}$"
     },
     "execution_count": 19,
     "metadata": {},
     "output_type": "execute_result"
    }
   ],
   "source": [
    "expr = x ** 3 + 3*x**2*y +3*x*y**2 + y**3\n",
    "factors = factor(expr)\n",
    "factors"
   ],
   "metadata": {
    "collapsed": false,
    "ExecuteTime": {
     "end_time": "2024-02-08T05:31:18.793665Z",
     "start_time": "2024-02-08T05:31:18.745789Z"
    }
   },
   "id": "b4d8a0dd2f5961bd"
  },
  {
   "cell_type": "code",
   "execution_count": 20,
   "outputs": [
    {
     "data": {
      "text/plain": "x**3 + 3*x**2*y + 3*x*y**2 + y**3",
      "text/latex": "$\\displaystyle x^{3} + 3 x^{2} y + 3 x y^{2} + y^{3}$"
     },
     "execution_count": 20,
     "metadata": {},
     "output_type": "execute_result"
    }
   ],
   "source": [
    "expand(factors)"
   ],
   "metadata": {
    "collapsed": false,
    "ExecuteTime": {
     "end_time": "2024-02-08T05:31:24.654534Z",
     "start_time": "2024-02-08T05:31:24.593543Z"
    }
   },
   "id": "166cbe924bcd13d3"
  },
  {
   "cell_type": "code",
   "execution_count": 21,
   "outputs": [
    {
     "data": {
      "text/plain": "x**3 + 3*x**2*y + 3*x*y**2 + y**3",
      "text/latex": "$\\displaystyle x^{3} + 3 x^{2} y + 3 x y^{2} + y^{3}$"
     },
     "execution_count": 21,
     "metadata": {},
     "output_type": "execute_result"
    }
   ],
   "source": [
    "# pretty printing \n",
    "expr"
   ],
   "metadata": {
    "collapsed": false,
    "ExecuteTime": {
     "end_time": "2024-02-08T05:31:30.381281Z",
     "start_time": "2024-02-08T05:31:30.318877Z"
    }
   },
   "id": "799ee7099cff3381"
  },
  {
   "cell_type": "code",
   "execution_count": 22,
   "outputs": [
    {
     "name": "stdout",
     "output_type": "stream",
     "text": [
      " 3      2          2    3\n",
      "x  + 3⋅x ⋅y + 3⋅x⋅y  + y \n"
     ]
    }
   ],
   "source": [
    "from sympy import pprint\n",
    "pprint(expr)"
   ],
   "metadata": {
    "collapsed": false,
    "ExecuteTime": {
     "end_time": "2024-02-08T05:31:37.490024Z",
     "start_time": "2024-02-08T05:31:37.392623Z"
    }
   },
   "id": "ea895562d30ee3e3"
  },
  {
   "cell_type": "code",
   "execution_count": 23,
   "outputs": [
    {
     "name": "stdout",
     "output_type": "stream",
     "text": [
      "   2          \n",
      "2⋅x  + 2⋅x + 1\n"
     ]
    }
   ],
   "source": [
    "expr = 1 + 2*x + 2*x**2\n",
    "pprint(expr)"
   ],
   "metadata": {
    "collapsed": false,
    "ExecuteTime": {
     "end_time": "2024-02-08T05:31:43.139904Z",
     "start_time": "2024-02-08T05:31:43.076624Z"
    }
   },
   "id": "bd94900844d8f89"
  },
  {
   "cell_type": "code",
   "execution_count": 24,
   "outputs": [
    {
     "name": "stdout",
     "output_type": "stream",
     "text": [
      "             2\n",
      "1 + 2⋅x + 2⋅x \n"
     ]
    }
   ],
   "source": [
    "from sympy import init_printing\n",
    "init_printing(order='rev-lex') # reverse lexicographical order \n",
    "pprint(expr)"
   ],
   "metadata": {
    "collapsed": false,
    "ExecuteTime": {
     "end_time": "2024-02-08T05:31:50.204334Z",
     "start_time": "2024-02-08T05:31:50.142136Z"
    }
   },
   "id": "879662ae7e20b44c"
  },
  {
   "cell_type": "markdown",
   "source": [
    "printing a Series\n",
    "\n",
    "$\\frac{x^{n}}{n}$  "
   ],
   "metadata": {
    "collapsed": false
   },
   "id": "ecbd2d73da0b7c55"
  },
  {
   "cell_type": "code",
   "execution_count": 25,
   "outputs": [
    {
     "name": "stderr",
     "output_type": "stream",
     "text": [
      "<>:1: SyntaxWarning: invalid escape sequence '\\i'\n",
      "<>:1: SyntaxWarning: invalid escape sequence '\\i'\n",
      "/var/folders/tb/y4l19ld51l16y6q2dmjtdk_00000gn/T/ipykernel_5795/716870683.py:1: SyntaxWarning: invalid escape sequence '\\i'\n",
      "  \"\"\"\n"
     ]
    },
    {
     "name": "stdout",
     "output_type": "stream",
     "text": [
      "     2    3    4    5\n",
      "    x    x    x    x \n",
      "x + ── + ── + ── + ──\n",
      "    2    3    4    5 \n"
     ]
    }
   ],
   "source": [
    "\"\"\"\n",
    "print the series:\n",
    "x + x**2/2 + x**3/3 \\idot x**n/n \n",
    "\"\"\"\n",
    "from sympy import Symbol,pprint,init_printing\n",
    "\n",
    "def print_series(n):\n",
    "    init_printing(order='rev-lex')\n",
    "    x=Symbol('x')\n",
    "    series =x\n",
    "    for i in range(2,n+1):\n",
    "        series = series + (x**i)/i\n",
    "    pprint(series)\n",
    "\n",
    "if __name__=='__main__':\n",
    "    n = input('Enter the number of terms you want  in the series:')\n",
    "    print_series(int(n))"
   ],
   "metadata": {
    "collapsed": false,
    "ExecuteTime": {
     "end_time": "2024-02-08T05:32:15.296215Z",
     "start_time": "2024-02-08T05:32:09.889328Z"
    }
   },
   "id": "91f6234817d262da"
  },
  {
   "cell_type": "code",
   "execution_count": 26,
   "outputs": [
    {
     "data": {
      "text/plain": " 2            2\ny  + 2⋅x⋅y + x ",
      "image/png": "[encoded data removed]",
      "text/latex": "$\\displaystyle y^{2} + 2 x y + x^{2}$"
     },
     "execution_count": 26,
     "metadata": {},
     "output_type": "execute_result"
    }
   ],
   "source": [
    "x = Symbol('x')\n",
    "y = Symbol('y')\n",
    "x*x + x*y + x*y + y*y"
   ],
   "metadata": {
    "collapsed": false,
    "ExecuteTime": {
     "end_time": "2024-02-08T05:32:21.809410Z",
     "start_time": "2024-02-08T05:32:21.452498Z"
    }
   },
   "id": "647118193f5083dd"
  },
  {
   "cell_type": "code",
   "execution_count": 27,
   "outputs": [
    {
     "data": {
      "text/plain": "16",
      "image/png": "[encoded data removed]",
      "text/latex": "$\\displaystyle 16$"
     },
     "execution_count": 27,
     "metadata": {},
     "output_type": "execute_result"
    }
   ],
   "source": [
    "expr = x*x + x*y + x*y + y*y\n",
    "res = expr.subs({x:1,y:3})\n",
    "res"
   ],
   "metadata": {
    "collapsed": false,
    "ExecuteTime": {
     "end_time": "2024-02-08T05:32:29.576559Z",
     "start_time": "2024-02-08T05:32:29.517324Z"
    }
   },
   "id": "8c648f78d98eb4"
  },
  {
   "cell_type": "code",
   "execution_count": 28,
   "outputs": [
    {
     "data": {
      "text/plain": "       2                  2\n(1 - y)  + 2⋅y⋅(1 - y) + y ",
      "image/png": "[encoded data removed]",
      "text/latex": "$\\displaystyle \\left(1 - y\\right)^{2} + 2 y \\left(1 - y\\right) + y^{2}$"
     },
     "execution_count": 28,
     "metadata": {},
     "output_type": "execute_result"
    }
   ],
   "source": [
    "expr.subs({x:1-y}) #symbols can be a substitute "
   ],
   "metadata": {
    "collapsed": false,
    "ExecuteTime": {
     "end_time": "2024-02-08T05:32:36.092548Z",
     "start_time": "2024-02-08T05:32:36.023106Z"
    }
   },
   "id": "58ddd052e42b3dbe"
  },
  {
   "cell_type": "code",
   "execution_count": 29,
   "outputs": [
    {
     "data": {
      "text/plain": "1",
      "image/png": "[encoded data removed]",
      "text/latex": "$\\displaystyle 1$"
     },
     "execution_count": 29,
     "metadata": {},
     "output_type": "execute_result"
    }
   ],
   "source": [
    "expr_subs = expr.subs({x:1-y})\n",
    "from sympy import simplify\n",
    "simplify(expr_subs)"
   ],
   "metadata": {
    "collapsed": false,
    "ExecuteTime": {
     "end_time": "2024-02-08T05:32:41.498839Z",
     "start_time": "2024-02-08T05:32:41.448216Z"
    }
   },
   "id": "69839e8eee8b98ab"
  },
  {
   "cell_type": "code",
   "execution_count": 31,
   "outputs": [],
   "source": [
    "def get_max(my_list):\n",
    "    running_max_index = 0\n",
    "    for index, item in enumerate(my_list):\n",
    "        if item >= my_list[running_max_index]:\n",
    "            running_max_index = index\n",
    "    return my_list(running_max_index)"
   ],
   "metadata": {
    "collapsed": false,
    "ExecuteTime": {
     "end_time": "2024-02-08T05:34:22.930969Z",
     "start_time": "2024-02-08T05:34:22.911280Z"
    }
   },
   "id": "35d3cb0baa93ea68"
  },
  {
   "cell_type": "code",
   "execution_count": 33,
   "outputs": [],
   "source": [
    "#!pip install stoked"
   ],
   "metadata": {
    "collapsed": false,
    "ExecuteTime": {
     "end_time": "2024-02-08T05:34:33.504119Z",
     "start_time": "2024-02-08T05:34:33.478467Z"
    }
   },
   "id": "26f0b7d07b757e9e"
  },
  {
   "cell_type": "code",
   "execution_count": 34,
   "outputs": [
    {
     "name": "stderr",
     "output_type": "stream",
     "text": [
      "Running dynamics: 100%|██████████| 4000/4000 [00:00<00:00, 5065.48it/s]\n"
     ]
    },
    {
     "data": {
      "text/plain": "<Figure size 640x480 with 1 Axes>",
      "image/png": "[encoded data removed]"
     },
     "metadata": {},
     "output_type": "display_data"
    }
   ],
   "source": [
    "import numpy as np\n",
    "import stoked\n",
    "import matplotlib.pyplot as plt\n",
    "from functools import partial\n",
    "from scipy import constants\n",
    "\n",
    "nm = 1e-9\n",
    "temperature = 300\n",
    "dt = 1e-6\n",
    "Nparticles = 10000\n",
    "initial = np.zeros([Nparticles,1], dtype=float)\n",
    "drag = stoked.drag_sphere(50e-9, 8e-4)\n",
    "k = 1e-6\n",
    "kT = constants.k*temperature\n",
    "\n",
    "def harmonic_force(t, rvec, orientation, k=1):\n",
    "    return -k*rvec\n",
    "\n",
    "bd = stoked.brownian_dynamics(temperature=temperature, dt=dt, position=initial, drag=drag,\n",
    "                              force=partial(harmonic_force, k=k))\n",
    "pos = bd.run(4000).position.squeeze()\n",
    "\n",
    "\n",
    "\n",
    "fig, ax = plt.subplots()\n",
    "hist, edges = np.histogram(pos[-1], bins=50, density=True)\n",
    "ax.plot(edges[1:]/nm, hist)\n",
    "\n",
    "x = np.linspace(edges[1], edges[-1], 200)\n",
    "steady = np.sqrt(k/(2*np.pi*kT))*np.exp(-k*x**2/(2*kT))\n",
    "ax.plot(x/nm, steady)\n",
    "\n",
    "\n",
    "D = kT/drag.drag_T\n",
    "tau = 2*kT/(k*D)\n",
    "tf = bd.time\n",
    "S = 1 - np.exp(-4*tf/tau)\n",
    "P = np.sqrt(k/(2*np.pi*kT*S))*np.exp(-k*x**2/(2*kT*S))\n",
    "ax.plot(x/nm, P)\n",
    "\n",
    "plt.show()"
   ],
   "metadata": {
    "collapsed": false,
    "ExecuteTime": {
     "end_time": "2024-02-08T05:34:44.711733Z",
     "start_time": "2024-02-08T05:34:43.410838Z"
    }
   },
   "id": "8aa7005d3e2aa4e3"
  },
  {
   "cell_type": "code",
   "execution_count": 35,
   "outputs": [
    {
     "data": {
      "text/plain": "['__doc__',\n '__file__',\n '__loader__',\n '__name__',\n '__package__',\n '__spec__',\n 'acos',\n 'acosh',\n 'asin',\n 'asinh',\n 'atan',\n 'atan2',\n 'atanh',\n 'cbrt',\n 'ceil',\n 'comb',\n 'copysign',\n 'cos',\n 'cosh',\n 'degrees',\n 'dist',\n 'e',\n 'erf',\n 'erfc',\n 'exp',\n 'exp2',\n 'expm1',\n 'fabs',\n 'factorial',\n 'floor',\n 'fmod',\n 'frexp',\n 'fsum',\n 'gamma',\n 'gcd',\n 'hypot',\n 'inf',\n 'isclose',\n 'isfinite',\n 'isinf',\n 'isnan',\n 'isqrt',\n 'lcm',\n 'ldexp',\n 'lgamma',\n 'log',\n 'log10',\n 'log1p',\n 'log2',\n 'modf',\n 'nan',\n 'nextafter',\n 'perm',\n 'pi',\n 'pow',\n 'prod',\n 'radians',\n 'remainder',\n 'sin',\n 'sinh',\n 'sqrt',\n 'sumprod',\n 'tan',\n 'tanh',\n 'tau',\n 'trunc',\n 'ulp']"
     },
     "execution_count": 35,
     "metadata": {},
     "output_type": "execute_result"
    }
   ],
   "source": [
    "import math\n",
    "dir(math)"
   ],
   "metadata": {
    "collapsed": false,
    "ExecuteTime": {
     "end_time": "2024-02-08T05:34:52.895506Z",
     "start_time": "2024-02-08T05:34:52.835149Z"
    }
   },
   "id": "9cf2eca5667f6bfc"
  },
  {
   "cell_type": "code",
   "execution_count": 36,
   "outputs": [
    {
     "data": {
      "text/plain": "['Counter',\n 'D',\n 'In',\n 'N',\n 'Nparticles',\n 'Out',\n 'P',\n 'S',\n 'Symbol',\n '_',\n '_11',\n '_12',\n '_15',\n '_16',\n '_17',\n '_18',\n '_19',\n '_20',\n '_21',\n '_26',\n '_27',\n '_28',\n '_29',\n '_35',\n '_5',\n '_6',\n '_7',\n '_8',\n '__',\n '___',\n '__builtin__',\n '__builtins__',\n '__doc__',\n '__loader__',\n '__name__',\n '__package__',\n '__session__',\n '__spec__',\n '_dh',\n '_exit_code',\n '_i',\n '_i1',\n '_i10',\n '_i11',\n '_i12',\n '_i13',\n '_i14',\n '_i15',\n '_i16',\n '_i17',\n '_i18',\n '_i19',\n '_i2',\n '_i20',\n '_i21',\n '_i22',\n '_i23',\n '_i24',\n '_i25',\n '_i26',\n '_i27',\n '_i28',\n '_i29',\n '_i3',\n '_i30',\n '_i31',\n '_i32',\n '_i33',\n '_i34',\n '_i35',\n '_i36',\n '_i4',\n '_i5',\n '_i6',\n '_i7',\n '_i8',\n '_i9',\n '_ih',\n '_ii',\n '_iii',\n '_oh',\n '_pydevd_bundle',\n 'a',\n 'ab',\n 'ax',\n 'bd',\n 'c',\n 'calculate_mean',\n 'calculate_median',\n 'calculate_mode',\n 'constants',\n 'data',\n 'donations',\n 'drag',\n 'dt',\n 'edges',\n 'exit',\n 'expand',\n 'expr',\n 'expr_subs',\n 'factor',\n 'factors',\n 'fig',\n 'get_ipython',\n 'get_max',\n 'harmonic_force',\n 'hist',\n 'init_printing',\n 'initial',\n 'k',\n 'kT',\n 'linalg',\n 'math',\n 'mean',\n 'median',\n 'mode',\n 'n',\n 'nm',\n 'np',\n 'open',\n 'p',\n 'partial',\n 'pd',\n 'plt',\n 'pos',\n 'pprint',\n 'print_series',\n 'pydev_jupyter_vars',\n 'quit',\n 'remove_imported_pydev_package',\n 'res',\n 'simplelist',\n 'simplify',\n 'steady',\n 'stoked',\n 'symbols',\n 'sys',\n 'tau',\n 'temperature',\n 'tf',\n 'x',\n 'y',\n 'z']"
     },
     "execution_count": 36,
     "metadata": {},
     "output_type": "execute_result"
    }
   ],
   "source": [
    "data = ['label','recal']\n",
    "dir()"
   ],
   "metadata": {
    "collapsed": false,
    "ExecuteTime": {
     "end_time": "2024-02-08T05:35:00.030350Z",
     "start_time": "2024-02-08T05:34:59.975396Z"
    }
   },
   "id": "f4774f33a0c96009"
  },
  {
   "cell_type": "code",
   "execution_count": 37,
   "outputs": [
    {
     "data": {
      "text/plain": "['ArithmeticError',\n 'AssertionError',\n 'AttributeError',\n 'BaseException',\n 'BaseExceptionGroup',\n 'BlockingIOError',\n 'BrokenPipeError',\n 'BufferError',\n 'BytesWarning',\n 'ChildProcessError',\n 'ConnectionAbortedError',\n 'ConnectionError',\n 'ConnectionRefusedError',\n 'ConnectionResetError',\n 'DeprecationWarning',\n 'EOFError',\n 'Ellipsis',\n 'EncodingWarning',\n 'EnvironmentError',\n 'Exception',\n 'ExceptionGroup',\n 'False',\n 'FileExistsError',\n 'FileNotFoundError',\n 'FloatingPointError',\n 'FutureWarning',\n 'GeneratorExit',\n 'IOError',\n 'ImportError',\n 'ImportWarning',\n 'IndentationError',\n 'IndexError',\n 'InterruptedError',\n 'IsADirectoryError',\n 'KeyError',\n 'KeyboardInterrupt',\n 'LookupError',\n 'MemoryError',\n 'ModuleNotFoundError',\n 'NameError',\n 'None',\n 'NotADirectoryError',\n 'NotImplemented',\n 'NotImplementedError',\n 'OSError',\n 'OverflowError',\n 'PendingDeprecationWarning',\n 'PermissionError',\n 'ProcessLookupError',\n 'RecursionError',\n 'ReferenceError',\n 'ResourceWarning',\n 'RuntimeError',\n 'RuntimeWarning',\n 'StopAsyncIteration',\n 'StopIteration',\n 'SyntaxError',\n 'SyntaxWarning',\n 'SystemError',\n 'SystemExit',\n 'TabError',\n 'TimeoutError',\n 'True',\n 'TypeError',\n 'UnboundLocalError',\n 'UnicodeDecodeError',\n 'UnicodeEncodeError',\n 'UnicodeError',\n 'UnicodeTranslateError',\n 'UnicodeWarning',\n 'UserWarning',\n 'ValueError',\n 'Warning',\n 'ZeroDivisionError',\n '__IPYTHON__',\n '__build_class__',\n '__debug__',\n '__doc__',\n '__import__',\n '__loader__',\n '__name__',\n '__package__',\n '__spec__',\n 'abs',\n 'aiter',\n 'all',\n 'anext',\n 'any',\n 'ascii',\n 'bin',\n 'bool',\n 'breakpoint',\n 'bytearray',\n 'bytes',\n 'callable',\n 'chr',\n 'classmethod',\n 'compile',\n 'complex',\n 'copyright',\n 'credits',\n 'delattr',\n 'dict',\n 'dir',\n 'display',\n 'divmod',\n 'enumerate',\n 'eval',\n 'exec',\n 'execfile',\n 'filter',\n 'float',\n 'format',\n 'frozenset',\n 'get_ipython',\n 'getattr',\n 'globals',\n 'hasattr',\n 'hash',\n 'help',\n 'hex',\n 'id',\n 'input',\n 'int',\n 'isinstance',\n 'issubclass',\n 'iter',\n 'len',\n 'license',\n 'list',\n 'locals',\n 'map',\n 'max',\n 'memoryview',\n 'min',\n 'next',\n 'object',\n 'oct',\n 'open',\n 'ord',\n 'pow',\n 'print',\n 'property',\n 'range',\n 'repr',\n 'reversed',\n 'round',\n 'runfile',\n 'set',\n 'setattr',\n 'slice',\n 'sorted',\n 'staticmethod',\n 'str',\n 'sum',\n 'super',\n 'tuple',\n 'type',\n 'vars',\n 'zip']"
     },
     "execution_count": 37,
     "metadata": {},
     "output_type": "execute_result"
    }
   ],
   "source": [
    "import builtins\n",
    "dir(builtins)"
   ],
   "metadata": {
    "collapsed": false,
    "ExecuteTime": {
     "end_time": "2024-02-08T05:35:13.376119Z",
     "start_time": "2024-02-08T05:35:13.319375Z"
    }
   },
   "id": "3fab9a83992ca2c5"
  },
  {
   "cell_type": "code",
   "execution_count": 38,
   "outputs": [
    {
     "name": "stdout",
     "output_type": "stream",
     "text": [
      "Great, you successfully entered an integer!\n"
     ]
    }
   ],
   "source": [
    "while True:\n",
    "    try:\n",
    "        n = input(\"Please enter an integer: \")\n",
    "        n = int(n)\n",
    "        break\n",
    "    except ValueError:\n",
    "        print(\"No valid integer! Please try again...\")\n",
    "print(\"Great, you successfully entered an integer!\")"
   ],
   "metadata": {
    "collapsed": false,
    "ExecuteTime": {
     "end_time": "2024-02-08T05:35:25.144204Z",
     "start_time": "2024-02-08T05:35:20.577617Z"
    }
   },
   "id": "3a8a8f60448b0677"
  },
  {
   "cell_type": "code",
   "execution_count": 39,
   "outputs": [],
   "source": [
    "def dog2human_age(dog_age):\n",
    "    human_age = -1\n",
    "    if dog_age < 0:\n",
    "        human_age = -1\n",
    "    elif dog_age == 0:\n",
    "        human_age = 0\n",
    "    elif dog_age == 1:\n",
    "        human_age = 14\n",
    "    elif dog_age == 2:\n",
    "        human_age = 22\n",
    "    else:\n",
    "        human_age = 22 + (dog_age -2) * 5\n",
    "    return human_age"
   ],
   "metadata": {
    "collapsed": false,
    "ExecuteTime": {
     "end_time": "2024-02-08T05:35:36.828627Z",
     "start_time": "2024-02-08T05:35:36.766044Z"
    }
   },
   "id": "69709cec4767c7da"
  },
  {
   "cell_type": "code",
   "execution_count": 41,
   "outputs": [
    {
     "ename": "TypeError",
     "evalue": "'<' not supported between instances of 'str' and 'int'",
     "output_type": "error",
     "traceback": [
      "\u001B[0;31m---------------------------------------------------------------------------\u001B[0m",
      "\u001B[0;31mTypeError\u001B[0m                                 Traceback (most recent call last)",
      "Cell \u001B[0;32mIn[41], line 2\u001B[0m\n\u001B[1;32m      1\u001B[0m age \u001B[38;5;241m=\u001B[39m \u001B[38;5;28minput\u001B[39m(\u001B[38;5;124m\"\u001B[39m\u001B[38;5;124mAge of your dog? \u001B[39m\u001B[38;5;124m\"\u001B[39m)\n\u001B[0;32m----> 2\u001B[0m \u001B[38;5;28mprint\u001B[39m(\u001B[38;5;124m\"\u001B[39m\u001B[38;5;124mAge of the dog: \u001B[39m\u001B[38;5;124m\"\u001B[39m, \u001B[43mdog2human_age\u001B[49m\u001B[43m(\u001B[49m\u001B[43mage\u001B[49m\u001B[43m)\u001B[49m)\n",
      "Cell \u001B[0;32mIn[39], line 3\u001B[0m, in \u001B[0;36mdog2human_age\u001B[0;34m(dog_age)\u001B[0m\n\u001B[1;32m      1\u001B[0m \u001B[38;5;28;01mdef\u001B[39;00m \u001B[38;5;21mdog2human_age\u001B[39m(dog_age):\n\u001B[1;32m      2\u001B[0m     human_age \u001B[38;5;241m=\u001B[39m \u001B[38;5;241m-\u001B[39m\u001B[38;5;241m1\u001B[39m\n\u001B[0;32m----> 3\u001B[0m     \u001B[38;5;28;01mif\u001B[39;00m \u001B[43mdog_age\u001B[49m\u001B[43m \u001B[49m\u001B[38;5;241;43m<\u001B[39;49m\u001B[43m \u001B[49m\u001B[38;5;241;43m0\u001B[39;49m:\n\u001B[1;32m      4\u001B[0m         human_age \u001B[38;5;241m=\u001B[39m \u001B[38;5;241m-\u001B[39m\u001B[38;5;241m1\u001B[39m\n\u001B[1;32m      5\u001B[0m     \u001B[38;5;28;01melif\u001B[39;00m dog_age \u001B[38;5;241m==\u001B[39m \u001B[38;5;241m0\u001B[39m:\n",
      "\u001B[0;31mTypeError\u001B[0m: '<' not supported between instances of 'str' and 'int'"
     ]
    }
   ],
   "source": [
    "age = input(\"Age of your dog? \")\n",
    "print(\"Age of the dog: \", dog2human_age(age))"
   ],
   "metadata": {
    "collapsed": false,
    "ExecuteTime": {
     "end_time": "2024-02-08T05:35:58.280660Z",
     "start_time": "2024-02-08T05:35:56.302048Z"
    }
   },
   "id": "cffdc58bfac55c36"
  },
  {
   "cell_type": "markdown",
   "source": [
    "위의 문제를 해결해보세요 "
   ],
   "metadata": {
    "collapsed": false
   },
   "id": "db147ccb2b067d8a"
  },
  {
   "cell_type": "code",
   "execution_count": 42,
   "outputs": [
    {
     "name": "stdout",
     "output_type": "stream",
     "text": [
      "I/O error(2): No such file or directory\n"
     ]
    }
   ],
   "source": [
    "# expection with IOError and ValueError\n",
    "# \n",
    "import sys\n",
    "\n",
    "try:\n",
    "    f = open('integers.txt')\n",
    "    s = f.readline()\n",
    "    i = int(s.strip())\n",
    "except IOError as e:\n",
    "    errno, strerror = e.args\n",
    "    print(\"I/O error({0}): {1}\".format(errno,strerror))\n",
    "    # e can be printed directly without using .args:\n",
    "    # print(e)\n",
    "except ValueError:\n",
    "    print(\"No valid integer in line.\")\n",
    "except:\n",
    "    print(\"Unexpected error:\", sys.exc_info()[0])\n",
    "    raise"
   ],
   "metadata": {
    "collapsed": false,
    "ExecuteTime": {
     "end_time": "2024-02-08T05:36:29.679411Z",
     "start_time": "2024-02-08T05:36:29.614894Z"
    }
   },
   "id": "5d9bf279f9a1ac2b"
  },
  {
   "cell_type": "markdown",
   "source": [
    "The handling of the IOError in the previous example is of special interest. The except clause for the IOError specifies a variable \"e\" after the exception name (IOError). The variable \"e\" is bound to an exception instance with the arguments stored in instance.args. If we call the above script with a non-existing file, we get the message:\n",
    "\n",
    "I/O error(2): No such file or directory\n",
    "\n",
    "And if the file integers.txt is not readable, e.g. if we don't have the permission to read it, we get the following message:\n",
    "\n",
    "I/O error(13): Permission denied"
   ],
   "metadata": {
    "collapsed": false
   },
   "id": "43b3e0664ec644e8"
  },
  {
   "cell_type": "code",
   "execution_count": 43,
   "outputs": [
    {
     "name": "stdout",
     "output_type": "stream",
     "text": [
      "An I/O error or a ValueError occurred\n"
     ]
    }
   ],
   "source": [
    "try:\n",
    "    f = open('integers.txt')\n",
    "    s = f.readline()\n",
    "    i = int(s.strip())\n",
    "except (IOError, ValueError):\n",
    "    print(\"An I/O error or a ValueError occurred\")\n",
    "except:\n",
    "    print(\"An unexpected error occurred\")\n",
    "    raise"
   ],
   "metadata": {
    "collapsed": false,
    "ExecuteTime": {
     "end_time": "2024-02-08T05:36:48.728355Z",
     "start_time": "2024-02-08T05:36:48.667368Z"
    }
   },
   "id": "9a1ff8ee7cd09520"
  },
  {
   "cell_type": "code",
   "execution_count": 44,
   "outputs": [
    {
     "name": "stdout",
     "output_type": "stream",
     "text": [
      "got it :-)  invalid literal for int() with base 10: 'four'\n",
      "Let's get on\n"
     ]
    }
   ],
   "source": [
    "def f():\n",
    "    x = int(\"four\")\n",
    "\n",
    "try:\n",
    "    f()\n",
    "except ValueError as e:\n",
    "    print(\"got it :-) \", e)\n",
    "\n",
    "\n",
    "print(\"Let's get on\")"
   ],
   "metadata": {
    "collapsed": false,
    "ExecuteTime": {
     "end_time": "2024-02-08T05:36:55.075184Z",
     "start_time": "2024-02-08T05:36:55.014561Z"
    }
   },
   "id": "c3e41d9da2494ac1"
  },
  {
   "cell_type": "code",
   "execution_count": 45,
   "outputs": [
    {
     "name": "stdout",
     "output_type": "stream",
     "text": [
      "got it in the function :-)  invalid literal for int() with base 10: 'four'\n",
      "Let's get on\n"
     ]
    }
   ],
   "source": [
    "def f():\n",
    "    try:\n",
    "        x = int(\"four\")\n",
    "    except ValueError as e:\n",
    "        print(\"got it in the function :-) \", e)\n",
    "\n",
    "try:\n",
    "    f()\n",
    "except ValueError as e:\n",
    "    print(\"got it :-) \", e)\n",
    "\n",
    "\n",
    "print(\"Let's get on\")"
   ],
   "metadata": {
    "collapsed": false,
    "ExecuteTime": {
     "end_time": "2024-02-08T05:37:00.793524Z",
     "start_time": "2024-02-08T05:37:00.730434Z"
    }
   },
   "id": "7996c7e37f228164"
  },
  {
   "cell_type": "code",
   "execution_count": 46,
   "outputs": [
    {
     "ename": "SyntaxError",
     "evalue": "Sorry, my fault! (<string>)",
     "output_type": "error",
     "traceback": [
      "Traceback \u001B[0;36m(most recent call last)\u001B[0m:\n",
      "\u001B[0m  File \u001B[1;32m~/Trading_python/DA-160/lib/python3.12/site-packages/IPython/core/interactiveshell.py:3553\u001B[0m in \u001B[1;35mrun_code\u001B[0m\n    exec(code_obj, self.user_global_ns, self.user_ns)\u001B[0m\n",
      "\u001B[0;36m  Cell \u001B[0;32mIn[46], line 1\u001B[0;36m\n\u001B[0;31m    raise SyntaxError(\"Sorry, my fault!\")\u001B[0;36m\n",
      "\u001B[0;36m  File \u001B[0;32m<string>\u001B[0;36m\u001B[0m\n\u001B[0;31mSyntaxError\u001B[0m\u001B[0;31m:\u001B[0m Sorry, my fault!\n"
     ]
    }
   ],
   "source": [
    "raise SyntaxError(\"Sorry, my fault!\")"
   ],
   "metadata": {
    "collapsed": false,
    "ExecuteTime": {
     "end_time": "2024-02-08T05:37:06.986884Z",
     "start_time": "2024-02-08T05:37:06.922669Z"
    }
   },
   "id": "59a2eb38ff65d19e"
  },
  {
   "cell_type": "code",
   "execution_count": 47,
   "outputs": [
    {
     "ename": "MyException",
     "evalue": "An exception doesn't always prove the rule!",
     "output_type": "error",
     "traceback": [
      "\u001B[0;31m---------------------------------------------------------------------------\u001B[0m",
      "\u001B[0;31mMyException\u001B[0m                               Traceback (most recent call last)",
      "Cell \u001B[0;32mIn[47], line 4\u001B[0m\n\u001B[1;32m      1\u001B[0m \u001B[38;5;28;01mclass\u001B[39;00m \u001B[38;5;21;01mMyException\u001B[39;00m(\u001B[38;5;167;01mException\u001B[39;00m):\n\u001B[1;32m      2\u001B[0m     \u001B[38;5;28;01mpass\u001B[39;00m\n\u001B[0;32m----> 4\u001B[0m \u001B[38;5;28;01mraise\u001B[39;00m MyException(\u001B[38;5;124m\"\u001B[39m\u001B[38;5;124mAn exception doesn\u001B[39m\u001B[38;5;124m'\u001B[39m\u001B[38;5;124mt always prove the rule!\u001B[39m\u001B[38;5;124m\"\u001B[39m)\n",
      "\u001B[0;31mMyException\u001B[0m: An exception doesn't always prove the rule!"
     ]
    }
   ],
   "source": [
    "class MyException(Exception):\n",
    "    pass\n",
    "\n",
    "raise MyException(\"An exception doesn't always prove the rule!\")"
   ],
   "metadata": {
    "collapsed": false,
    "ExecuteTime": {
     "end_time": "2024-02-08T05:37:14.885523Z",
     "start_time": "2024-02-08T05:37:14.831209Z"
    }
   },
   "id": "3adcfbf492f23495"
  },
  {
   "cell_type": "markdown",
   "source": [
    "#numerical  ODE\n",
    "\n",
    "point mass $P$ in free fall.\n",
    "\n",
    "Required  data:\n",
    "\n",
    "- gravity field $\\vec{g} = (0,-g)$\n",
    "- Mass $m$\n",
    "- initial position $P_0 = (0,0) $ \n",
    "- initial velocity $\\vec{V_0}=(v_{x0},v_{y0})$\n",
    "\n",
    "then we will write the problem as formulation:\n",
    "\n",
    "$$\n",
    "\\begin{cases} \n",
    "    \\ddot{x}=0\\\\\n",
    "    \\ddot{y}=-g\n",
    "\\end{cases}\n",
    " $$\n",
    "\n",
    " ### Closed form solution \n",
    " $$\n",
    "\\begin{cases}\n",
    "    x(t)=v_{x0}t\\\\\n",
    "    y(t)=-g\\frac{t^2}{2}+v_{y0}t\n",
    "\\end{cases}\n",
    " $$"
   ],
   "metadata": {
    "collapsed": false
   },
   "id": "e6bf75508ac4d2f2"
  },
  {
   "cell_type": "code",
   "execution_count": 48,
   "outputs": [],
   "source": [
    "import numpy as np\n",
    "import matplotlib.pyplot as plt\n",
    "import matplotlib as mpl\n",
    "%matplotlib inline\n",
    "#%matplotlib nbagg"
   ],
   "metadata": {
    "collapsed": false,
    "ExecuteTime": {
     "end_time": "2024-02-08T05:37:36.756167Z",
     "start_time": "2024-02-08T05:37:36.695814Z"
    }
   },
   "id": "5c2157ccf70861e2"
  },
  {
   "cell_type": "code",
   "execution_count": 49,
   "outputs": [
    {
     "data": {
      "text/plain": "<Figure size 640x480 with 1 Axes>",
      "image/png": "[encoded data removed]"
     },
     "metadata": {},
     "output_type": "display_data"
    }
   ],
   "source": [
    "tmax = 0.2\n",
    "\n",
    "t= np.linspace(0,tmax,1000)\n",
    "x0,y0=0.0,0.0\n",
    "vx0,vy0=1.0,1.0\n",
    "\n",
    "g = 10\n",
    "x = vx0*t\n",
    "y = -g * t**2/2 + vy0*t\n",
    "\n",
    "plt.figure()\n",
    "#ax.set_aspect(\"equl\")\n",
    "plt.axes().set_aspect('equal')\n",
    "plt.plot(x,y, label=\"Exact Solution\")\n",
    "plt.grid()\n",
    "plt.xlabel(\"x\")\n",
    "plt.ylabel(\"y\")\n",
    "plt.legend()\n",
    "plt.show()"
   ],
   "metadata": {
    "collapsed": false,
    "ExecuteTime": {
     "end_time": "2024-02-08T05:37:43.800942Z",
     "start_time": "2024-02-08T05:37:43.701870Z"
    }
   },
   "id": "8e1e5c4ea9b75616"
  },
  {
   "cell_type": "code",
   "execution_count": null,
   "outputs": [],
   "source": [],
   "metadata": {
    "collapsed": false
   },
   "id": "c8023df801909baf"
  }
 ],
 "metadata": {
  "kernelspec": {
   "display_name": "Python 3",
   "language": "python",
   "name": "python3"
  },
  "language_info": {
   "codemirror_mode": {
    "name": "ipython",
    "version": 2
   },
   "file_extension": ".py",
   "mimetype": "text/x-python",
   "name": "python",
   "nbconvert_exporter": "python",
   "pygments_lexer": "ipython2",
   "version": "2.7.6"
  }
 },
 "nbformat": 4,
 "nbformat_minor": 5
}
