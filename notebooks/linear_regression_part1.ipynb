{
 "cells": [
  {
   "cell_type": "markdown",
   "source": [
    "# Linear Algebra to linear regression"
   ],
   "metadata": {
    "collapsed": false
   },
   "id": "66f547278768552b"
  },
  {
   "metadata": {},
   "cell_type": "code",
   "outputs": [],
   "execution_count": null,
   "source": [],
   "id": "c6a983d96e9c08a8"
  },
  {
   "metadata": {},
   "cell_type": "code",
   "outputs": [],
   "execution_count": null,
   "source": [],
   "id": "3924e356aa738f8d"
  },
  {
   "metadata": {},
   "cell_type": "code",
   "outputs": [],
   "execution_count": null,
   "source": [],
   "id": "754244da42fe84ef"
  },
  {
   "cell_type": "code",
   "execution_count": null,
   "id": "initial_id",
   "metadata": {
    "collapsed": true
   },
   "outputs": [],
   "source": [
    "import numpy as np\n",
    "\n",
    "class SimpleLinearRegression():\n",
    "    def __init__(self):\n",
    "        self.coefficient = None\n",
    "        self.intercept = None\n",
    "\n",
    "    def fit(self, x, y):\n",
    "        '''\n",
    "            Given a dataset with 1 input feature x and output feature y,\n",
    "            estimates the coefficient and compute the intercept.\n",
    "        '''\n",
    "        self.coefficient = self._coefficient_estimate(x, y)\n",
    "        self.intercept = self._compute_intercept(x, y)\n",
    "\n",
    "    def predict(self, x):\n",
    "        '''\n",
    "            y = b_0 + b_1*x\n",
    "        '''\n",
    "        x_times_coeff = np.multiply(x, self.coefficient)\n",
    "        return np.add(x_times_coeff, self.intercept)\n",
    "\n",
    "    def r2_score(self, y_true, y_pred):\n",
    "        '''\n",
    "            r2 = 1 - (rss/tss)\n",
    "            rss = sum_{i=0}^{n} (y_i - y_hat)^2\n",
    "            tss = sum_{i=0}^{n} (y_i - y_bar)^2\n",
    "        '''\n",
    "        y_average = np.average(y_true)\n",
    "\n",
    "        residual_sum_of_squares = 0\n",
    "        total_sum_of_squares = 0\n",
    "\n",
    "        for i in range(len(y_true)):\n",
    "            residual_sum_of_squares += (y_true[i] - y_pred[i])**2\n",
    "            total_sum_of_squares += (y_true[i] - y_average)**2\n",
    "\n",
    "        return 1 - (residual_sum_of_squares/total_sum_of_squares)\n",
    "\n",
    "    def _compute_intercept(self, x, y):\n",
    "        '''\n",
    "            intercept = y_bar - coefficient*x_bar\n",
    "\n",
    "            WHERE:  y_bar = average(y),\n",
    "                    x_bar = average(x),\n",
    "                    coefficient = coefficient already estimated\n",
    "        '''\n",
    "        # find the average of the array x\n",
    "        x_average = np.average(x)\n",
    "\n",
    "        # multiply the coefficient and the average of the x values\n",
    "        mul = self.coefficient*x_average\n",
    "\n",
    "        return np.average(y) - mul\n",
    "\n",
    "    def _coefficient_estimate(self, x, y):\n",
    "        '''\n",
    "            coefficient_{x,y} = ∑_{i=0}^{n} (x_i - x_bar) * (y_i - y_bar)\n",
    "                                _________________________________________\n",
    "                                ∑_{i=0}^{n} (x_i - x_bar)^2\n",
    "        '''\n",
    "        numerator = 0\n",
    "        denominator = 0\n",
    "\n",
    "        for i in range(len(x)):\n",
    "            x_value = x[i]\n",
    "            y_value = y[i]\n",
    "            x_average = np.average(x)\n",
    "            y_average = np.average(y)\n",
    "\n",
    "            numerator += (x_value - x_average) * (y_value - y_average)\n",
    "            denominator += (x_value - x_average)**2\n",
    "\n",
    "        return numerator / denominator"
   ]
  },
  {
   "cell_type": "code",
   "outputs": [],
   "source": [
    "from load_dataset import x_train, x_test, y_train, y_test\n",
    "from simple_linear_regression import SimpleLinearRegression\n",
    "\n",
    "# pick a single feature to estimate y\n",
    "x_train = x_train['LSTAT'].values\n",
    "x_test = x_test['LSTAT'].values\n",
    "y_train = y_train.values\n",
    "y_test = y_test.values\n",
    "\n",
    "# fit to data\n",
    "slr = SimpleLinearRegression()\n",
    "slr.fit(x_train, y_train)\n",
    "\n",
    "# make predictions and score\n",
    "pred = slr.predict(x_test)\n",
    "score = slr.r2_score(y_test, pred)\n",
    "print(f'Final R^2 score: {score}')"
   ],
   "metadata": {
    "collapsed": false
   },
   "id": "463cd6d8111112e0",
   "execution_count": null
  },
  {
   "cell_type": "markdown",
   "source": [
    "multi"
   ],
   "metadata": {
    "collapsed": false
   },
   "id": "58350894c1191a1d"
  },
  {
   "cell_type": "code",
   "outputs": [],
   "source": [
    "def predict_polynomial(self, x):\n",
    "    '''\n",
    "        y = β0 + β1*x + β2*x^2 + ... + βm*x_i^m\n",
    "    '''\n",
    "    predictions = []\n",
    "    for index, row in x.iterrows():\n",
    "        # treating each feature as a variable that needs to be raised to the power of m\n",
    "        polynomial_values = [feature**i+1 for i, feature in enumerate(row.values)]\n",
    "\n",
    "        pred = np.multiply(polynomial_values, self.coefficients)\n",
    "        pred = sum(pred)\n",
    "        pred += self.intercept\n",
    "\n",
    "        predictions.append(pred)\n",
    "\n",
    "    return predictions"
   ],
   "metadata": {
    "collapsed": false
   },
   "id": "ca7c29999e630a92",
   "execution_count": null
  }
 ],
 "metadata": {
  "kernelspec": {
   "display_name": "Python 3",
   "language": "python",
   "name": "python3"
  },
  "language_info": {
   "codemirror_mode": {
    "name": "ipython",
    "version": 2
   },
   "file_extension": ".py",
   "mimetype": "text/x-python",
   "name": "python",
   "nbconvert_exporter": "python",
   "pygments_lexer": "ipython2",
   "version": "2.7.6"
  }
 },
 "nbformat": 4,
 "nbformat_minor": 5
}
