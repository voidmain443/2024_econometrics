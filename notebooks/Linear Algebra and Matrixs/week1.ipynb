{
 "cells": [
  {
   "metadata": {},
   "cell_type": "markdown",
   "source": "# week1 ",
   "id": "89f9a44d338fe151"
  },
  {
   "cell_type": "code",
   "id": "initial_id",
   "metadata": {
    "collapsed": true,
    "ExecuteTime": {
     "end_time": "2024-08-10T12:47:37.060085Z",
     "start_time": "2024-08-10T12:47:36.500957Z"
    }
   },
   "source": [
    "import numpy as np\n",
    "\n",
    "class LinearAlgebra:\n",
    "    def __init__(self):\n",
    "        pass\n",
    "    \n",
    "    @staticmethod\n",
    "    def add_vectors(v1, v2):\n",
    "        return np.add(v1, v2)\n",
    "    \n",
    "    @staticmethod\n",
    "    def dot_product(v1, v2):\n",
    "        return np.dot(v1, v2)\n",
    "    \n",
    "    @staticmethod\n",
    "    def matrix_multiplication(m1, m2):\n",
    "        return np.matmul(m1, m2)\n",
    "    \n",
    "    @staticmethod\n",
    "    def transpose(matrix):\n",
    "        return np.transpose(matrix)\n",
    "    \n",
    "    @staticmethod\n",
    "    def determinant(matrix):\n",
    "        return np.linalg.det(matrix)\n",
    "    \n",
    "    @staticmethod\n",
    "    def inverse(matrix):\n",
    "        return np.linalg.inv(matrix)\n",
    "\n",
    "# Example usage:\n",
    "la = LinearAlgebra()\n",
    "\n",
    "v1 = np.array([1, 2, 3])\n",
    "v2 = np.array([4, 5, 6])\n",
    "print(\"Vector addition:\", la.add_vectors(v1, v2))\n",
    "print(\"Dot product:\", la.dot_product(v1, v2))\n",
    "\n",
    "m1 = np.array([[1, 2], [3, 4]])\n",
    "m2 = np.array([[5, 6], [7, 8]])\n",
    "print(\"Matrix multiplication:\\n\", la.matrix_multiplication(m1, m2))\n",
    "print(\"Transpose:\\n\", la.transpose(m1))\n",
    "print(\"Determinant:\", la.determinant(m1))\n",
    "print(\"Inverse:\\n\", la.inverse(m1))"
   ],
   "outputs": [
    {
     "name": "stdout",
     "output_type": "stream",
     "text": [
      "Vector addition: [5 7 9]\n",
      "Dot product: 32\n",
      "Matrix multiplication:\n",
      " [[19 22]\n",
      " [43 50]]\n",
      "Transpose:\n",
      " [[1 3]\n",
      " [2 4]]\n",
      "Determinant: -2.0000000000000004\n",
      "Inverse:\n",
      " [[-2.   1. ]\n",
      " [ 1.5 -0.5]]\n"
     ]
    }
   ],
   "execution_count": 1
  },
  {
   "metadata": {},
   "cell_type": "markdown",
   "source": [
    "## 1. Definition of Matrices and Vectors\n",
    "\n",
    "A matrix is a rectangular array of numbers, symbols, or expressions, arranged in rows and columns. Mathematically, an $m \\times n$ matrix $A$ is represented as:\n",
    "\n",
    "$$\n",
    "A = \\begin{bmatrix} \n",
    "a_{11} & a_{12} & \\cdots & a_{1n} \\\\\n",
    "a_{21} & a_{22} & \\cdots & a_{2n} \\\\\n",
    "\\vdots & \\vdots & \\ddots & \\vdots \\\\\n",
    "a_{m1} & a_{m2} & \\cdots & a_{mn}\n",
    "\\end{bmatrix}\n",
    "$$\n",
    "\n",
    "A vector is a special case of a matrix with either a single row or a single column. A column vector $\\mathbf{v}$ of size $n$ is represented as:\n",
    "\n",
    "$$\n",
    "\\mathbf{v} = \\begin{bmatrix}\n",
    "v_1 \\\\\n",
    "v_2 \\\\\n",
    "\\vdots \\\\\n",
    "v_n\n",
    "\\end{bmatrix}\n",
    "$$\n"
   ],
   "id": "fe72c6a6fe0220a1"
  },
  {
   "metadata": {
    "ExecuteTime": {
     "end_time": "2024-08-10T12:49:33.775620Z",
     "start_time": "2024-08-10T12:49:33.772885Z"
    }
   },
   "cell_type": "code",
   "source": [
    "A = np.array([[1, 2, 3],\n",
    "              [4, 5, 6],\n",
    "              [7, 8, 9]])\n",
    "\n",
    "print(\"Matrix A:\")\n",
    "print(A)"
   ],
   "id": "95140cf17a71ba76",
   "outputs": [
    {
     "name": "stdout",
     "output_type": "stream",
     "text": [
      "Matrix A:\n",
      "[[1 2 3]\n",
      " [4 5 6]\n",
      " [7 8 9]]\n"
     ]
    }
   ],
   "execution_count": 2
  },
  {
   "metadata": {
    "ExecuteTime": {
     "end_time": "2024-08-10T12:49:45.366321Z",
     "start_time": "2024-08-10T12:49:45.364071Z"
    }
   },
   "cell_type": "code",
   "source": [
    "v = np.array([1, 2, 3])\n",
    "\n",
    "print(\"\\nVector v:\")\n",
    "print(v)"
   ],
   "id": "e311d7bd66cea2a3",
   "outputs": [
    {
     "name": "stdout",
     "output_type": "stream",
     "text": [
      "\n",
      "Vector v:\n",
      "[1 2 3]\n"
     ]
    }
   ],
   "execution_count": 3
  },
  {
   "metadata": {},
   "cell_type": "markdown",
   "source": [
    "Matrix addition is performed element-wise. For two matrices $A$ and $B$ of the same size:\n",
    "\n",
    "$$(A + B)_{ij} = A_{ij} + B_{ij}$$"
   ],
   "id": "8acf606e2e548bc3"
  },
  {
   "metadata": {
    "ExecuteTime": {
     "end_time": "2024-08-10T12:50:07.567306Z",
     "start_time": "2024-08-10T12:50:07.564914Z"
    }
   },
   "cell_type": "code",
   "source": [
    "B = np.array([[9, 8, 7],\n",
    "              [6, 5, 4],\n",
    "              [3, 2, 1]])\n",
    "\n",
    "C = A + B\n",
    "\n",
    "print(\"Matrix A + B:\")\n",
    "print(C)"
   ],
   "id": "89947e03cc24e2ce",
   "outputs": [
    {
     "name": "stdout",
     "output_type": "stream",
     "text": [
      "Matrix A + B:\n",
      "[[10 10 10]\n",
      " [10 10 10]\n",
      " [10 10 10]]\n"
     ]
    }
   ],
   "execution_count": 4
  },
  {
   "metadata": {},
   "cell_type": "markdown",
   "source": [
    "Scalar multiplication of a matrix $A$ by a scalar $c$ is defined as:\n",
    "\n",
    "$$(cA)_{ij} = c \\cdot A_{ij}$$"
   ],
   "id": "947408273b5f341e"
  },
  {
   "metadata": {
    "ExecuteTime": {
     "end_time": "2024-08-10T12:50:24.436855Z",
     "start_time": "2024-08-10T12:50:24.434492Z"
    }
   },
   "cell_type": "code",
   "source": [
    "c = 2\n",
    "D = c * A\n",
    "\n",
    "print(\"2 * Matrix A:\")\n",
    "print(D)\n"
   ],
   "id": "ef73b7cc237d126c",
   "outputs": [
    {
     "name": "stdout",
     "output_type": "stream",
     "text": [
      "2 * Matrix A:\n",
      "[[ 2  4  6]\n",
      " [ 8 10 12]\n",
      " [14 16 18]]\n"
     ]
    }
   ],
   "execution_count": 5
  },
  {
   "metadata": {},
   "cell_type": "markdown",
   "source": [
    "The transpose of a matrix $A$, denoted as $A^T$, is obtained by interchanging its rows and columns:\n",
    "\n",
    "$$(A^T)_{ij} = A_{ji}$$"
   ],
   "id": "afd2fa8371d1b99c"
  },
  {
   "metadata": {
    "ExecuteTime": {
     "end_time": "2024-08-10T12:50:38.751851Z",
     "start_time": "2024-08-10T12:50:38.749285Z"
    }
   },
   "cell_type": "code",
   "source": [
    "A_T = A.T\n",
    "\n",
    "print(\"Transpose of Matrix A:\")\n",
    "print(A_T)"
   ],
   "id": "792952e4da8c43cc",
   "outputs": [
    {
     "name": "stdout",
     "output_type": "stream",
     "text": [
      "Transpose of Matrix A:\n",
      "[[1 4 7]\n",
      " [2 5 8]\n",
      " [3 6 9]]\n"
     ]
    }
   ],
   "execution_count": 6
  },
  {
   "metadata": {},
   "cell_type": "markdown",
   "source": [
    "Vector addition is performed element-wise:\n",
    "\n",
    "$$\\mathbf{u} + \\mathbf{v} = [u_1 + v_1, u_2 + v_2, \\ldots, u_n + v_n]$$"
   ],
   "id": "41f9d27322b15674"
  },
  {
   "metadata": {
    "ExecuteTime": {
     "end_time": "2024-08-10T12:51:03.289961Z",
     "start_time": "2024-08-10T12:51:03.287673Z"
    }
   },
   "cell_type": "code",
   "source": [
    "u = np.array([4, 5, 6])\n",
    "w = v + u\n",
    "\n",
    "print(\"Vector v + u:\")\n",
    "print(w)"
   ],
   "id": "dc149d092efa813b",
   "outputs": [
    {
     "name": "stdout",
     "output_type": "stream",
     "text": [
      "Vector v + u:\n",
      "[5 7 9]\n"
     ]
    }
   ],
   "execution_count": 7
  },
  {
   "metadata": {},
   "cell_type": "markdown",
   "source": [
    "The dot product of two vectors $\\mathbf{u}$ and $\\mathbf{v}$ is defined as:\n",
    "\n",
    "$$\\mathbf{u} \\cdot \\mathbf{v} = u_1v_1 + u_2v_2 + \\cdots + u_nv_n$$"
   ],
   "id": "7e69beda3beb0a95"
  },
  {
   "metadata": {
    "ExecuteTime": {
     "end_time": "2024-08-10T12:51:24.794864Z",
     "start_time": "2024-08-10T12:51:24.792630Z"
    }
   },
   "cell_type": "code",
   "source": [
    "dot_product = np.dot(v, u)\n",
    "\n",
    "print(\"Dot product of v and u:\")\n",
    "print(dot_product)"
   ],
   "id": "f53c8d34fcfc0a69",
   "outputs": [
    {
     "name": "stdout",
     "output_type": "stream",
     "text": [
      "Dot product of v and u:\n",
      "32\n"
     ]
    }
   ],
   "execution_count": 8
  },
  {
   "metadata": {},
   "cell_type": "markdown",
   "source": [
    "The Euclidean norm (length) of a vector $\\mathbf{v}$ is:\n",
    "\n",
    "$$\\|\\mathbf{v}\\| = \\sqrt{v_1^2 + v_2^2 + \\cdots + v_n^2}$$"
   ],
   "id": "34a5dad224c153eb"
  },
  {
   "metadata": {
    "ExecuteTime": {
     "end_time": "2024-08-10T12:56:16.496175Z",
     "start_time": "2024-08-10T12:56:16.493828Z"
    }
   },
   "cell_type": "code",
   "source": [
    "norm_v = np.linalg.norm(v)\n",
    "print(\"Norm of v:\", norm_v)"
   ],
   "id": "32e79d0b6a6224ee",
   "outputs": [
    {
     "name": "stdout",
     "output_type": "stream",
     "text": [
      "Norm of v: 3.7416573867739413\n"
     ]
    }
   ],
   "execution_count": 9
  },
  {
   "metadata": {},
   "cell_type": "markdown",
   "source": [
    "The projection of $\\mathbf{u}$ onto $\\mathbf{v}$ is:\n",
    "\n",
    "$$\\text{proj}_\\mathbf{v}\\mathbf{u} = \\frac{\\mathbf{u} \\cdot \\mathbf{v}}{\\|\\mathbf{v}\\|^2}\\mathbf{v}$$"
   ],
   "id": "6b957aa1c70cd796"
  },
  {
   "metadata": {
    "ExecuteTime": {
     "end_time": "2024-08-10T12:56:52.994647Z",
     "start_time": "2024-08-10T12:56:52.992329Z"
    }
   },
   "cell_type": "code",
   "source": [
    "def vector_projection(u, v):\n",
    "    return (np.dot(u, v) / np.dot(v, v)) * v\n",
    "\n",
    "proj = vector_projection(u, v)\n",
    "print(\"Projection of u onto v:\", proj)"
   ],
   "id": "8420207f417fb97b",
   "outputs": [
    {
     "name": "stdout",
     "output_type": "stream",
     "text": [
      "Projection of u onto v: [2.28571429 4.57142857 6.85714286]\n"
     ]
    }
   ],
   "execution_count": 10
  },
  {
   "metadata": {},
   "cell_type": "markdown",
   "source": [
    "Solving Systems of Linear Equations\n",
    "\n",
    "Matrices can be used to solve systems of linear equations. Consider the system:\n",
    "\n",
    "$$\n",
    "\\begin{cases}\n",
    "2x + y = 5 \\\\\n",
    "x + 3y = 7\n",
    "\\end{cases}\n",
    "$$\n",
    "\n",
    "We can represent this as a matrix equation $AX = B$:\n",
    "\n",
    "$$\n",
    "\\begin{bmatrix}\n",
    "2 & 1 \\\\\n",
    "1 & 3\n",
    "\\end{bmatrix}\n",
    "\\begin{bmatrix}\n",
    "x \\\\\n",
    "y\n",
    "\\end{bmatrix}\n",
    "=\n",
    "\\begin{bmatrix}\n",
    "5 \\\\\n",
    "7\n",
    "\\end{bmatrix}\n",
    "$$"
   ],
   "id": "c336ddb3f0e446ae"
  },
  {
   "metadata": {
    "ExecuteTime": {
     "end_time": "2024-08-10T12:57:29.277912Z",
     "start_time": "2024-08-10T12:57:29.275129Z"
    }
   },
   "cell_type": "code",
   "source": [
    "A = np.array([[2, 1], [1, 3]])\n",
    "B = np.array([5, 7])\n",
    "X = np.linalg.solve(A, B)\n",
    "\n",
    "print(\"Solution to the system:\")\n",
    "print(f\"x = {X[0]}, y = {X[1]}\")"
   ],
   "id": "3bf1aa16ca60bf4a",
   "outputs": [
    {
     "name": "stdout",
     "output_type": "stream",
     "text": [
      "Solution to the system:\n",
      "x = 1.6, y = 1.8\n"
     ]
    }
   ],
   "execution_count": 11
  },
  {
   "metadata": {},
   "cell_type": "markdown",
   "source": [
    "A 2D rotation matrix for angle $\\theta$ (in radians) is:\n",
    "\n",
    "$$\n",
    "R(\\theta) = \\begin{bmatrix}\n",
    "\\cos\\theta & -\\sin\\theta \\\\\n",
    "\\sin\\theta & \\cos\\theta\n",
    "\\end{bmatrix}\n",
    "$$"
   ],
   "id": "4fae595663a1f4a"
  },
  {
   "metadata": {
    "ExecuteTime": {
     "end_time": "2024-08-10T12:58:18.056850Z",
     "start_time": "2024-08-10T12:58:18.053580Z"
    }
   },
   "cell_type": "code",
   "source": [
    "# 2D rotation\n",
    "def rotate_2d(points, angle):\n",
    "    rotation_matrix = np.array([[np.cos(angle), -np.sin(angle)],\n",
    "                                [np.sin(angle), np.cos(angle)]])\n",
    "    return np.dot(points, rotation_matrix.T)\n",
    "\n",
    "# Create a simple shape\n",
    "t = np.linspace(0, 2*np.pi, 100)\n",
    "x = np.cos(t)\n",
    "y = np.sin(t)\n",
    "points = np.column_stack((x, y))"
   ],
   "id": "1fb56f2806054d20",
   "outputs": [],
   "execution_count": 12
  },
  {
   "metadata": {
    "ExecuteTime": {
     "end_time": "2024-08-10T12:58:51.664215Z",
     "start_time": "2024-08-10T12:58:51.064659Z"
    }
   },
   "cell_type": "code",
   "source": [
    "# Rotate the shape\n",
    "rotated_points = rotate_2d(points, np.pi/4)  # 45-degree rotation\n",
    "\n",
    "import matplotlib.pyplot as plt\n",
    "plt.figure(figsize=(10, 5))\n",
    "plt.subplot(121)\n",
    "plt.plot(x, y)\n",
    "plt.title(\"Original Shape\")\n",
    "plt.axis('equal')\n",
    "\n",
    "plt.subplot(122)\n",
    "plt.plot(rotated_points[:, 0], rotated_points[:, 1])\n",
    "plt.title(\"Rotated Shape (45 degrees)\")\n",
    "plt.axis('equal')\n",
    "\n",
    "plt.tight_layout()\n",
    "plt.show()"
   ],
   "id": "a31e3b2c9efaeb9f",
   "outputs": [
    {
     "data": {
      "text/plain": [
       "<Figure size 1000x500 with 2 Axes>"
      ],
      "image/png": "[encoded data removed]"
     },
     "metadata": {},
     "output_type": "display_data"
    }
   ],
   "execution_count": 13
  },
  {
   "metadata": {},
   "cell_type": "markdown",
   "source": [
    "## Practice Problems\n",
    "\n",
    "1. Create a 3x3 matrix $E$ with elements $E_{ij} = i + j$.\n",
    "2. Calculate $E^T + 2E$.\n",
    "3. Create two vectors $\\mathbf{x}$ and $\\mathbf{y}$, each with 4 elements.\n",
    "4. Calculate their dot product.\n"
   ],
   "id": "ee5f5feb70270752"
  },
  {
   "metadata": {},
   "cell_type": "markdown",
   "source": [
    "### Problem 1: Matrix Operations\n",
    "\n",
    "Given matrices:\n",
    "$$\n",
    "A = \\begin{bmatrix}\n",
    "1 & 2 \\\\\n",
    "3 & 4\n",
    "\\end{bmatrix},\n",
    "B = \\begin{bmatrix}\n",
    "5 & 6 \\\\\n",
    "7 & 8\n",
    "\\end{bmatrix}\n",
    "$$\n",
    "\n",
    "Calculate:\n",
    "a) $A + B$\n",
    "b) $A - B$\n",
    "c) $AB$\n",
    "d) $BA$\n",
    "e) $A^T$"
   ],
   "id": "aac586f165b8ff34"
  },
  {
   "metadata": {
    "ExecuteTime": {
     "end_time": "2024-08-10T13:00:13.423744Z",
     "start_time": "2024-08-10T13:00:13.420901Z"
    }
   },
   "cell_type": "code",
   "source": [
    "A = np.array([[1, 2], [3, 4]])\n",
    "B = np.array([[5, 6], [7, 8]])\n",
    "\n",
    "print(\"a) A + B:\\n\", A + B)\n",
    "print(\"\\nb) A - B:\\n\", A - B)\n",
    "print(\"\\nc) AB:\\n\", np.matmul(A, B))\n",
    "print(\"\\nd) BA:\\n\", np.matmul(B, A))\n",
    "print(\"\\ne) A^T:\\n\", A.T)"
   ],
   "id": "280ecd5ed356ffdb",
   "outputs": [
    {
     "name": "stdout",
     "output_type": "stream",
     "text": [
      "a) A + B:\n",
      " [[ 6  8]\n",
      " [10 12]]\n",
      "\n",
      "b) A - B:\n",
      " [[-4 -4]\n",
      " [-4 -4]]\n",
      "\n",
      "c) AB:\n",
      " [[19 22]\n",
      " [43 50]]\n",
      "\n",
      "d) BA:\n",
      " [[23 34]\n",
      " [31 46]]\n",
      "\n",
      "e) A^T:\n",
      " [[1 3]\n",
      " [2 4]]\n"
     ]
    }
   ],
   "execution_count": 14
  },
  {
   "metadata": {},
   "cell_type": "markdown",
   "source": [
    "### Problem 2: Vector Operations\n",
    "\n",
    "Given vectors $\\mathbf{u} = [1, 2, 3]$ and $\\mathbf{v} = [4, 5, 6]$, calculate:\n",
    "a) $\\mathbf{u} + \\mathbf{v}$\n",
    "b) $2\\mathbf{u} - \\mathbf{v}$\n",
    "c) $\\mathbf{u} \\cdot \\mathbf{v}$\n",
    "d) $\\|\\mathbf{u}\\|$\n",
    "e) $\\text{proj}_\\mathbf{v}\\mathbf{u}$"
   ],
   "id": "fcad2cce37301c8d"
  },
  {
   "metadata": {
    "ExecuteTime": {
     "end_time": "2024-08-10T13:00:53.507485Z",
     "start_time": "2024-08-10T13:00:53.505252Z"
    }
   },
   "cell_type": "code",
   "source": [
    "u = np.array([1, 2, 3])\n",
    "v = np.array([4, 5, 6])\n",
    "\n",
    "print(\"a) u + v:\", u + v)\n",
    "print(\"b) 2u - v:\", 2*u - v)\n",
    "print(\"c) u · v:\", np.dot(u, v))\n",
    "print(\"d) ||u||:\", np.linalg.norm(u))\n",
    "print(\"e) proj_v u:\", vector_projection(u, v))"
   ],
   "id": "fc01c849e4621d9e",
   "outputs": [
    {
     "name": "stdout",
     "output_type": "stream",
     "text": [
      "a) u + v: [5 7 9]\n",
      "b) 2u - v: [-2 -1  0]\n",
      "c) u · v: 32\n",
      "d) ||u||: 3.7416573867739413\n",
      "e) proj_v u: [1.66233766 2.07792208 2.49350649]\n"
     ]
    }
   ],
   "execution_count": 16
  },
  {
   "metadata": {},
   "cell_type": "markdown",
   "source": [
    "### Problem 3: Solving a System of Equations\n",
    "\n",
    "Solve the following system of equations using matrices:\n",
    "\n",
    "$$\n",
    "\\begin{cases}\n",
    "2x + y - z = 8 \\\\\n",
    "-3x + y + 2z = -11 \\\\\n",
    "-2x + y + 2z = -3\n",
    "\\end{cases}\n",
    "$$"
   ],
   "id": "1ddc6b8324de1fc"
  },
  {
   "metadata": {
    "ExecuteTime": {
     "end_time": "2024-08-10T13:01:21.046371Z",
     "start_time": "2024-08-10T13:01:21.044236Z"
    }
   },
   "cell_type": "code",
   "source": [
    "A = np.array([[2, 1, -1],\n",
    "              [-3, 1, 2],\n",
    "              [-2, 1, 2]])\n",
    "B = np.array([8, -11, -3])\n",
    "\n",
    "X = np.linalg.solve(A, B)\n",
    "\n",
    "print(\"Solution:\")\n",
    "print(f\"x = {X[0]}, y = {X[1]}, z = {X[2]}\")"
   ],
   "id": "6dd702149795b622",
   "outputs": [
    {
     "name": "stdout",
     "output_type": "stream",
     "text": [
      "Solution:\n",
      "x = 7.999999999999999, y = -0.9999999999999992, z = 6.999999999999998\n"
     ]
    }
   ],
   "execution_count": 18
  },
  {
   "metadata": {},
   "cell_type": "markdown",
   "source": [
    "### Problem 4: Matrix Transformation\n",
    "\n",
    "Given the points of a triangle:\n",
    "$$\n",
    "A = (0, 0), B = (2, 0), C = (1, 2)\n",
    "$$\n",
    "\n",
    "Apply the following transformations:\n",
    "a) Scale by a factor of 2\n",
    "b) Rotate by 45 degrees counterclockwise\n",
    "c) Translate by (1, 1)\n",
    "\n",
    "Plot the original and transformed triangles."
   ],
   "id": "55a517d1be9f655e"
  },
  {
   "metadata": {
    "ExecuteTime": {
     "end_time": "2024-08-10T13:01:49.827597Z",
     "start_time": "2024-08-10T13:01:49.703345Z"
    }
   },
   "cell_type": "code",
   "source": [
    "def scale(points, factor):\n",
    "    return points * factor\n",
    "\n",
    "def rotate(points, angle):\n",
    "    rotation_matrix = np.array([[np.cos(angle), -np.sin(angle)],\n",
    "                                [np.sin(angle), np.cos(angle)]])\n",
    "    return np.dot(points, rotation_matrix.T)\n",
    "\n",
    "def translate(points, translation):\n",
    "    return points + translation\n",
    "\n",
    "# Original triangle\n",
    "triangle = np.array([[0, 0], [2, 0], [1, 2]])\n",
    "\n",
    "# Transformations\n",
    "scaled = scale(triangle, 2)\n",
    "rotated = rotate(scaled, np.pi/4)\n",
    "translated = translate(rotated, [1, 1])\n",
    "\n",
    "# Plotting\n",
    "plt.figure(figsize=(12, 4))\n",
    "\n",
    "plt.subplot(131)\n",
    "plt.plot(triangle[:, 0], triangle[:, 1], 'bo-')\n",
    "plt.title(\"Original\")\n",
    "plt.axis('equal')\n",
    "\n",
    "plt.subplot(132)\n",
    "plt.plot(scaled[:, 0], scaled[:, 1], 'ro-')\n",
    "plt.title(\"Scaled\")\n",
    "plt.axis('equal')\n",
    "\n",
    "plt.subplot(133)\n",
    "plt.plot(translated[:, 0], translated[:, 1], 'go-')\n",
    "plt.title(\"Scaled, Rotated, Translated\")\n",
    "plt.axis('equal')\n",
    "\n",
    "plt.tight_layout()\n",
    "plt.show()\n",
    "\n",
    "print(\"Original points:\", triangle)\n",
    "print(\"Transformed points:\", translated)"
   ],
   "id": "8a3d537805ef10e9",
   "outputs": [
    {
     "data": {
      "text/plain": [
       "<Figure size 1200x400 with 3 Axes>"
      ],
      "image/png": "[encoded data removed]"
     },
     "metadata": {},
     "output_type": "display_data"
    },
    {
     "name": "stdout",
     "output_type": "stream",
     "text": [
      "Original points: [[0 0]\n",
      " [2 0]\n",
      " [1 2]]\n",
      "Transformed points: [[ 1.          1.        ]\n",
      " [ 3.82842712  3.82842712]\n",
      " [-0.41421356  5.24264069]]\n"
     ]
    }
   ],
   "execution_count": 19
  },
  {
   "metadata": {},
   "cell_type": "code",
   "outputs": [],
   "execution_count": null,
   "source": "",
   "id": "e65656849f915732"
  }
 ],
 "metadata": {
  "kernelspec": {
   "display_name": "Python 3",
   "language": "python",
   "name": "python3"
  },
  "language_info": {
   "codemirror_mode": {
    "name": "ipython",
    "version": 2
   },
   "file_extension": ".py",
   "mimetype": "text/x-python",
   "name": "python",
   "nbconvert_exporter": "python",
   "pygments_lexer": "ipython2",
   "version": "2.7.6"
  }
 },
 "nbformat": 4,
 "nbformat_minor": 5
}
