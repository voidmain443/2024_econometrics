{
 "cells": [
  {
   "cell_type": "code",
   "execution_count": null,
   "id": "initial_id",
   "metadata": {
    "collapsed": true
   },
   "outputs": [],
   "source": [
    ""
   ]
  },
  {
   "metadata": {},
   "cell_type": "markdown",
   "source": [
    "# Matrix Multiplication: Theory, Implementation, and Applications\n",
    "\n"
   ],
   "id": "642058c694746da7"
  },
  {
   "metadata": {
    "ExecuteTime": {
     "end_time": "2024-08-11T01:07:10.852096Z",
     "start_time": "2024-08-11T01:07:10.850436Z"
    }
   },
   "cell_type": "code",
   "source": [
    "import numpy as np\n",
    "import time\n",
    "import matplotlib.pyplot as plt\n",
    "from scipy import stats\n",
    "import pandas as pd"
   ],
   "id": "f4f87b8b3283723d",
   "outputs": [],
   "execution_count": 1
  },
  {
   "metadata": {},
   "cell_type": "markdown",
   "source": [
    "## 1. Theory of Matrix Multiplication (60 minutes)\n",
    "\n",
    "### 1.1 Definition and Basic Properties\n",
    "\n",
    "Matrix multiplication for matrices $A$ (m × n) and $B$ (n × p) is defined as:\n",
    "\n",
    "$$ C_{ij} = \\sum_{k=1}^n A_{ik}B_{kj} $$\n",
    "\n",
    "Properties:\n",
    "1. Not commutative: In general, $AB \\neq BA$\n",
    "2. Associative: $(AB)C = A(BC)$\n",
    "3. Distributive over addition: $A(B+C) = AB + AC$\n",
    "4. Identity matrix: For any matrix $A$, $AI = IA = A$\n",
    "\n",
    "### 1.2 Dimensions in Matrix Multiplication\n",
    "\n",
    "For $AB$ to be defined, the number of columns in $A$ must equal the number of rows in $B$."
   ],
   "id": "825d31583e7d88b2"
  },
  {
   "metadata": {},
   "cell_type": "code",
   "outputs": [],
   "execution_count": null,
   "source": "",
   "id": "e2b494a92a5f62e"
  },
  {
   "metadata": {
    "ExecuteTime": {
     "end_time": "2024-08-11T01:07:44.258855Z",
     "start_time": "2024-08-11T01:07:44.256104Z"
    }
   },
   "cell_type": "code",
   "source": [
    "A = np.array([[1, 2], [3, 4]])\n",
    "B = np.array([[5, 6], [7, 8]])\n",
    "C = np.dot(A, B)\n",
    "\n",
    "print(\"Matrix A:\")\n",
    "print(A)\n",
    "print(\"\\nMatrix B:\")\n",
    "print(B)\n",
    "print(\"\\nMatrix C = AB:\")\n",
    "print(C)"
   ],
   "id": "90c7fdc5d59998a7",
   "outputs": [
    {
     "name": "stdout",
     "output_type": "stream",
     "text": [
      "Matrix A:\n",
      "[[1 2]\n",
      " [3 4]]\n",
      "\n",
      "Matrix B:\n",
      "[[5 6]\n",
      " [7 8]]\n",
      "\n",
      "Matrix C = AB:\n",
      "[[19 22]\n",
      " [43 50]]\n"
     ]
    }
   ],
   "execution_count": 2
  },
  {
   "metadata": {},
   "cell_type": "markdown",
   "source": "Non-commutativity",
   "id": "a07f849c86d33c52"
  },
  {
   "metadata": {
    "ExecuteTime": {
     "end_time": "2024-08-11T01:24:57.165357Z",
     "start_time": "2024-08-11T01:24:57.162156Z"
    }
   },
   "cell_type": "code",
   "source": [
    "D = np.dot(B, A)\n",
    "print(\"\\nMatrix D = BA:\")\n",
    "print(D)\n",
    "print(\"\\nAB == BA:\", np.array_equal(C, D))"
   ],
   "id": "57ebd02a8f382b2a",
   "outputs": [
    {
     "name": "stdout",
     "output_type": "stream",
     "text": [
      "\n",
      "Matrix D = BA:\n",
      "[[23 34]\n",
      " [31 46]]\n",
      "\n",
      "AB == BA: False\n"
     ]
    }
   ],
   "execution_count": 3
  },
  {
   "metadata": {},
   "cell_type": "markdown",
   "source": "Matrix Multiplication Dimensions",
   "id": "d8628547162786bc"
  },
  {
   "metadata": {
    "ExecuteTime": {
     "end_time": "2024-08-11T01:25:24.031459Z",
     "start_time": "2024-08-11T01:25:24.028632Z"
    }
   },
   "cell_type": "code",
   "source": [
    "def can_multiply(shape1, shape2):\n",
    "    return shape1[1] == shape2[0]\n",
    "\n",
    "# Test cases\n",
    "print(can_multiply((2, 3), (3, 2)))  # Should return True\n",
    "print(can_multiply((3, 2), (2, 3)))  # Should return True\n",
    "print(can_multiply((2, 3), (2, 3)))  # Should return False"
   ],
   "id": "cf5f195a64108f6a",
   "outputs": [
    {
     "name": "stdout",
     "output_type": "stream",
     "text": [
      "True\n",
      "True\n",
      "False\n"
     ]
    }
   ],
   "execution_count": 4
  },
  {
   "metadata": {},
   "cell_type": "markdown",
   "source": [
    "\n",
    "### 1.3 Special Matrices in Multiplication\n",
    "1. Identity Matrix\n",
    "2. Zero Matrix\n",
    "3. Diagonal Matrix"
   ],
   "id": "34b41c7508a202a0"
  },
  {
   "metadata": {
    "ExecuteTime": {
     "end_time": "2024-08-11T01:27:11.636706Z",
     "start_time": "2024-08-11T01:27:11.633489Z"
    }
   },
   "cell_type": "code",
   "source": [
    "n = 3\n",
    "I = np.eye(n)\n",
    "zero = np.zeros((n, n))\n",
    "diagonal = np.diag([1, 2, 3])\n",
    "\n",
    "print(\"Identity Matrix:\")\n",
    "print(I)\n",
    "print(\"\\nZero Matrix:\")\n",
    "print(zero)\n",
    "print(\"\\nDiagonal Matrix:\")\n",
    "print(diagonal)"
   ],
   "id": "b6ad344b9b01ff17",
   "outputs": [
    {
     "name": "stdout",
     "output_type": "stream",
     "text": [
      "Identity Matrix:\n",
      "[[1. 0. 0.]\n",
      " [0. 1. 0.]\n",
      " [0. 0. 1.]]\n",
      "\n",
      "Zero Matrix:\n",
      "[[0. 0. 0.]\n",
      " [0. 0. 0.]\n",
      " [0. 0. 0.]]\n",
      "\n",
      "Diagonal Matrix:\n",
      "[[1 0 0]\n",
      " [0 2 0]\n",
      " [0 0 3]]\n"
     ]
    }
   ],
   "execution_count": 5
  },
  {
   "metadata": {
    "ExecuteTime": {
     "end_time": "2024-08-11T01:27:51.400089Z",
     "start_time": "2024-08-11T01:27:51.397213Z"
    }
   },
   "cell_type": "code",
   "source": [
    "### Properties of Special Matrices\n",
    "\n",
    "A = np.random.rand(3, 3)\n",
    "print(\"Random Matrix A:\")\n",
    "print(A)\n",
    "print(\"\\nA * I == A:\", np.allclose(np.dot(A, I), A))\n",
    "print(\"A * Zero == Zero:\", np.allclose(np.dot(A, zero), zero))\n"
   ],
   "id": "652b55b4fa565be3",
   "outputs": [
    {
     "name": "stdout",
     "output_type": "stream",
     "text": [
      "Random Matrix A:\n",
      "[[0.35764081 0.2361614  0.68382687]\n",
      " [0.46685723 0.65953188 0.72831683]\n",
      " [0.03804511 0.78311876 0.26611143]]\n",
      "\n",
      "A * I == A: True\n",
      "A * Zero == Zero: True\n"
     ]
    }
   ],
   "execution_count": 7
  },
  {
   "metadata": {},
   "cell_type": "markdown",
   "source": "## 2. Implementation and Performance Comparison",
   "id": "7baa1d9989e952a6"
  },
  {
   "metadata": {
    "ExecuteTime": {
     "end_time": "2024-08-11T01:28:25.372196Z",
     "start_time": "2024-08-11T01:28:18.864116Z"
    }
   },
   "cell_type": "code",
   "source": [
    "### 2.1 Pure Python Implementation\n",
    "\n",
    "def matrix_multiply_python(A, B):\n",
    "    if len(A[0]) != len(B):\n",
    "        raise ValueError(\"Matrix dimensions are not compatible for multiplication\")\n",
    "    \n",
    "    result = [[0 for _ in range(len(B[0]))] for _ in range(len(A))]\n",
    "    \n",
    "    for i in range(len(A)):\n",
    "        for j in range(len(B[0])):\n",
    "            for k in range(len(B)):\n",
    "                result[i][j] += A[i][k] * B[k][j]\n",
    "    \n",
    "    return result\n",
    "\n",
    "### 2.2 NumPy Implementation\n",
    "\n",
    "def matrix_multiply_numpy(A, B):\n",
    "    return np.dot(A, B)\n",
    "\n",
    "### 2.3 Performance Comparison\n",
    "\n",
    "def compare_performance(sizes):\n",
    "    python_times = []\n",
    "    numpy_times = []\n",
    "    \n",
    "    for n in sizes:\n",
    "        A = np.random.rand(n, n)\n",
    "        B = np.random.rand(n, n)\n",
    "        \n",
    "        A_list = A.tolist()\n",
    "        B_list = B.tolist()\n",
    "        \n",
    "        # Time pure Python implementation\n",
    "        start = time.time()\n",
    "        matrix_multiply_python(A_list, B_list)\n",
    "        python_time = time.time() - start\n",
    "        python_times.append(python_time)\n",
    "        \n",
    "        # Time NumPy implementation\n",
    "        start = time.time()\n",
    "        matrix_multiply_numpy(A, B)\n",
    "        numpy_time = time.time() - start\n",
    "        numpy_times.append(numpy_time)\n",
    "        \n",
    "        print(f\"Matrix size: {n}x{n}\")\n",
    "        print(f\"Pure Python time: {python_time:.6f} seconds\")\n",
    "        print(f\"NumPy time: {numpy_time:.6f} seconds\")\n",
    "        print(f\"NumPy is {python_time / numpy_time:.2f} times faster\")\n",
    "        print()\n",
    "    \n",
    "    return python_times, numpy_times\n",
    "\n",
    "sizes = [10, 50, 100, 200, 500]\n",
    "python_times, numpy_times = compare_performance(sizes)\n",
    "\n",
    "plt.figure(figsize=(10, 6))\n",
    "plt.plot(sizes, python_times, marker='o', label='Pure Python')\n",
    "plt.plot(sizes, numpy_times, marker='o', label='NumPy')\n",
    "plt.xlabel('Matrix Size (n x n)')\n",
    "plt.ylabel('Time (seconds)')\n",
    "plt.title('Matrix Multiplication Performance: Pure Python vs NumPy')\n",
    "plt.legend()\n",
    "plt.yscale('log')\n",
    "plt.grid(True)\n",
    "plt.show()\n"
   ],
   "id": "1e85f5195d5b0efe",
   "outputs": [
    {
     "name": "stdout",
     "output_type": "stream",
     "text": [
      "Matrix size: 10x10\n",
      "Pure Python time: 0.000060 seconds\n",
      "NumPy time: 0.000096 seconds\n",
      "NumPy is 0.62 times faster\n",
      "\n",
      "Matrix size: 50x50\n",
      "Pure Python time: 0.006461 seconds\n",
      "NumPy time: 0.000183 seconds\n",
      "NumPy is 35.29 times faster\n",
      "\n",
      "Matrix size: 100x100\n",
      "Pure Python time: 0.040367 seconds\n",
      "NumPy time: 0.000213 seconds\n",
      "NumPy is 189.60 times faster\n",
      "\n",
      "Matrix size: 200x200\n",
      "Pure Python time: 0.358980 seconds\n",
      "NumPy time: 0.010113 seconds\n",
      "NumPy is 35.50 times faster\n",
      "\n",
      "Matrix size: 500x500\n",
      "Pure Python time: 5.776426 seconds\n",
      "NumPy time: 0.004690 seconds\n",
      "NumPy is 1231.67 times faster\n",
      "\n"
     ]
    },
    {
     "data": {
      "text/plain": [
       "<Figure size 1000x600 with 1 Axes>"
      ],
      "image/png": "[encoded data removed]"
     },
     "metadata": {},
     "output_type": "display_data"
    }
   ],
   "execution_count": 8
  },
  {
   "metadata": {},
   "cell_type": "markdown",
   "source": "",
   "id": "fddf61b9b1466ac0"
  },
  {
   "metadata": {},
   "cell_type": "markdown",
   "source": " Implementation Techniques",
   "id": "46cba0d610e8e52a"
  },
  {
   "metadata": {},
   "cell_type": "code",
   "outputs": [],
   "execution_count": null,
   "source": [
    "def block_matrix_multiply(A, B, block_size=32):\n",
    "    n = len(A)\n",
    "    C = [[0 for _ in range(n)] for _ in range(n)]\n",
    "    \n",
    "    for i in range(0, n, block_size):\n",
    "        for j in range(0, n, block_size):\n",
    "            for k in range(0, n, block_size):\n",
    "                for ii in range(i, min(i + block_size, n)):\n",
    "                    for jj in range(j, min(j + block_size, n)):\n",
    "                        for kk in range(k, min(k + block_size, n)):\n",
    "                            C[ii][jj] += A[ii][kk] * B[kk][jj]\n",
    "    return C\n",
    "\n",
    "# Compare performance with block matrix multiplication\n",
    "n = 500\n",
    "A = np.random.rand(n, n).tolist()\n",
    "B = np.random.rand(n, n).tolist()\n",
    "\n",
    "start = time.time()\n",
    "C_standard = matrix_multiply_python(A, B)\n",
    "standard_time = time.time() - start\n",
    "\n",
    "start = time.time()\n",
    "C_block = block_matrix_multiply(A, B)\n",
    "block_time = time.time() - start\n",
    "\n",
    "print(f\"Standard multiplication time: {standard_time:.6f} seconds\")\n",
    "print(f\"Block multiplication time: {block_time:.6f} seconds\")\n",
    "print(f\"Speedup: {standard_time / block_time:.2f}x\")\n",
    "\n",
    "\n",
    "\n",
    "## Practice Problems\n",
    "\n",
    "1. Implement a function to check if two matrices can be multiplied.\n",
    "2. Create a function that performs element-wise matrix multiplication (Hadamard product).\n",
    "3. Implement matrix-vector multiplication and compare its performance with matrix-matrix multiplication.\n",
    "4. Create a function to calculate the trace of a matrix product AB without explicitly computing the product.\n",
    "\n",
    "# Your implementations here\n",
    "\n",
    "# 1. Check if matrices can be multiplied\n",
    "def can_multiply(A, B):\n",
    "    return len(A[0]) == len(B)\n",
    "\n",
    "# 2. Hadamard product\n",
    "def hadamard_product(A, B):\n",
    "    if len(A) != len(B) or len(A[0]) != len(B[0]):\n",
    "        raise ValueError(\"Matrices must have the same dimensions\")\n",
    "    return [[A[i][j] * B[i][j] for j in range(len(A[0]))] for i in range(len(A))]\n",
    "\n",
    "# 3. Matrix-vector multiplication\n",
    "def matrix_vector_multiply(A, v):\n",
    "    if len(A[0]) != len(v):\n",
    "        raise ValueError(\"Matrix columns must match vector length\")\n",
    "    return [sum(A[i][j] * v[j] for j in range(len(v))) for i in range(len(A))]\n",
    "\n",
    "# 4. Trace of matrix product without explicit multiplication\n",
    "def trace_of_product(A, B):\n",
    "    if len(A[0]) != len(B) or len(A) != len(B[0]):\n",
    "        raise ValueError(\"Matrix dimensions are not compatible\")\n",
    "    return sum(sum(A[i][k] * B[k][i] for k in range(len(B))) for i in range(len(A)))\n",
    "\n",
    "# Test the functions\n",
    "A = [[1, 2], [3, 4]]\n",
    "B = [[5, 6], [7, 8]]\n",
    "v = [1, 2]\n",
    "\n",
    "print(\"Can multiply A and B:\", can_multiply(A, B))\n",
    "print(\"Hadamard product of A and B:\", hadamard_product(A, B))\n",
    "print(\"A * v:\", matrix_vector_multiply(A, v))\n",
    "print(\"Trace of A * B:\", trace_of_product(A, B))"
   ],
   "id": "688d33d918761a26"
  },
  {
   "metadata": {},
   "cell_type": "markdown",
   "source": "Implement Strassen's Algorithm",
   "id": "a9b470d5c3b080b4"
  },
  {
   "metadata": {},
   "cell_type": "markdown",
   "source": [
    "### 3.2 Strassen Algorithm (Theoretical Overview)\n",
    "\n",
    "The Strassen algorithm is a divide-and-conquer algorithm for matrix multiplication.\n",
    "It reduces the number of recursive calls from 8 (in standard multiplication) to 7,\n",
    "resulting in a time complexity of O(n^log2(7)) ≈ O(n^2.8074).\n",
    "\n",
    "Steps of the Strassen algorithm:\n",
    "1. Divide input matrices A and B into four submatrices each.\n",
    "2. Calculate seven matrix products P1 to P7 using these submatrices.\n",
    "3. Calculate the four submatrices of the result C using P1 to P7.\n",
    "4. Combine these submatrices to get the final result.\n",
    "\n",
    "While theoretically faster for large matrices, the algorithm has higher constant factors\n",
    "and is more complex to implement, making it less practical for smaller matrices.\n",
    "\n",
    "\n",
    "The Strassen algorithm provides a theoretical improvement in time complexity for matrix multiplication, but its practical implementation can be complex.\n",
    "It's most beneficial for very large matrices where the asymptotic improvement.\n",
    "outweighs the increased constant factors and implementation complexity."
   ],
   "id": "4dce9b99921d9d59"
  },
  {
   "metadata": {},
   "cell_type": "code",
   "outputs": [],
   "execution_count": null,
   "source": "",
   "id": "8f40a4609ac84012"
  },
  {
   "metadata": {
    "ExecuteTime": {
     "end_time": "2024-08-11T01:29:29.633955Z",
     "start_time": "2024-08-11T01:29:29.627214Z"
    }
   },
   "cell_type": "code",
   "source": [
    "\n",
    "def strassen(A, B):\n",
    "    n = len(A)\n",
    "    if n <= 32:  # Base case: use standard multiplication for small matrices\n",
    "        return matrix_multiply_python(A, B)\n",
    "    \n",
    "    # Splitting matrices\n",
    "    n2 = n // 2\n",
    "    A11 = [row[:n2] for row in A[:n2]]\n",
    "    A12 = [row[n2:] for row in A[:n2]]\n",
    "    A21 = [row[:n2] for row in A[n2:]]\n",
    "    A22 = [row[n2:] for row in A[n2:]]\n",
    "    B11 = [row[:n2] for row in B[:n2]]\n",
    "    B12 = [row[n2:] for row in B[:n2]]\n",
    "    B21 = [row[:n2] for row in B[n2:]]\n",
    "    B22 = [row[n2:] for row in B[n2:]]\n",
    "\n",
    "    # Recursive steps\n",
    "    M1 = strassen(A11, [[B12[i][j] - B22[i][j] for j in range(len(B12))] for i in range(len(B12))])\n",
    "    M2 = strassen([[A11[i][j] + A12[i][j] for j in range(len(A11))] for i in range(len(A11))], B22)\n",
    "    M3 = strassen([[A21[i][j] + A22[i][j] for j in range(len(A21))] for i in range(len(A21))], B11)\n",
    "    M4 = strassen(A22, [[B21[i][j] - B11[i][j] for j in range(len(B21))] for i in range(len(B21))])\n",
    "    M5 = strassen([[A11[i][j] + A22[i][j] for j in range(len(A11))] for i in range(len(A11))],\n",
    "                   [[B11[i][j] + B22[i][j] for j in range(len(B11))] for i in range(len(B11))])\n",
    "    M6 = strassen([[A12[i][j] - A22[i][j] for j in range(len(A12))] for i in range(len(A12))],\n",
    "                   [[B21[i][j] + B22[i][j] for j in range(len(B21))] for i in range(len(B21))])\n",
    "    M7 = strassen([[A11[i][j] - A21[i][j] for j in range(len(A11))] for i in range(len(A11))],\n",
    "                   [[B11[i][j] + B12[i][j] for j in range(len(B11))] for i in range(len(B11))])\n",
    "\n",
    "    # Calculating result submatrices\n",
    "    C11 = [[M5[i][j] + M4[i][j] - M2[i][j] + M6[i][j] for j in range(len(M5))] for i in range(len(M5))]\n",
    "    C12 = [[M1[i][j] + M2[i][j] for j in range(len(M1))] for i in range(len(M1))]\n",
    "    C21 = [[M3[i][j] + M4[i][j] for j in range(len(M3))] for i in range(len(M3))]\n",
    "    C22 = [[M5[i][j] + M1[i][j] - M3[i][j] - M7[i][j] for j in range(len(M5))] for i in range(len(M5))]\n",
    "\n",
    "    # Combining result submatrices\n",
    "    C = [[0 for _ in range(n)] for _ in range(n)]\n",
    "    for i in range(n2):\n",
    "        for j in range(n2):\n",
    "            C[i][j] = C11[i][j]\n",
    "            C[i][j + n2] = C12[i][j]\n",
    "            C[i + n2][j] = C21[i][j]\n",
    "            C[i + n2][j + n2] = C22[i][j]\n",
    "\n",
    "    return C\n",
    "\n",
    "# Test Strassen's algorithm\n",
    "A = [[1, 2, 3, 4], [5, 6, 7, 8], [9, 10, 11, 12], [13, 14, 15, 16]]\n",
    "B = [[17, 18, 19, 20], [21, 22, 23, 24], [25, 26, 27, 28], [29, 30, 31, 32]]\n",
    "\n",
    "result_strassen = strassen(A, B)\n",
    "result_numpy = np.dot(A, B)\n",
    "\n",
    "print(\"Strassen's Algorithm Result:\")\n",
    "print(np.array(result_strassen))\n",
    "print(\"\\nNumPy Result:\")\n",
    "print(result_numpy)\n",
    "print(\"\\nResults match:\", np.allclose(result_strassen, result_numpy))"
   ],
   "id": "3024f90996c5a075",
   "outputs": [
    {
     "name": "stdout",
     "output_type": "stream",
     "text": [
      "Strassen's Algorithm Result:\n",
      "[[ 250  260  270  280]\n",
      " [ 618  644  670  696]\n",
      " [ 986 1028 1070 1112]\n",
      " [1354 1412 1470 1528]]\n",
      "\n",
      "NumPy Result:\n",
      "[[ 250  260  270  280]\n",
      " [ 618  644  670  696]\n",
      " [ 986 1028 1070 1112]\n",
      " [1354 1412 1470 1528]]\n",
      "\n",
      "Results match: True\n"
     ]
    }
   ],
   "execution_count": 9
  },
  {
   "metadata": {},
   "cell_type": "markdown",
   "source": [
    "## Practice Problems\n",
    "\n",
    "1. Implement a function to check if two matrices can be multiplied.\n",
    "2. Create a function that performs element-wise matrix multiplication (Hadamard product).\n",
    "3. Implement matrix-vector multiplication and compare its performance with matrix-matrix multiplication.\n",
    "4. Create a function to calculate the trace of a matrix product AB without explicitly computing the product.\n",
    "\n"
   ],
   "id": "b0f9b0744fbaf3a9"
  },
  {
   "metadata": {
    "ExecuteTime": {
     "end_time": "2024-08-11T01:36:21.950038Z",
     "start_time": "2024-08-11T01:36:21.945258Z"
    }
   },
   "cell_type": "code",
   "source": [
    "# 1. Check if matrices can be multiplied\n",
    "def can_multiply(A, B):\n",
    "    return len(A[0]) == len(B)\n",
    "\n",
    "# 2. Hadamard product\n",
    "def hadamard_product(A, B):\n",
    "    if len(A) != len(B) or len(A[0]) != len(B[0]):\n",
    "        raise ValueError(\"Matrices must have the same dimensions\")\n",
    "    return [[A[i][j] * B[i][j] for j in range(len(A[0]))] for i in range(len(A))]\n",
    "\n",
    "# 3. Matrix-vector multiplication\n",
    "def matrix_vector_multiply(A, v):\n",
    "    if len(A[0]) != len(v):\n",
    "        raise ValueError(\"Matrix columns must match vector length\")\n",
    "    return [sum(A[i][j] * v[j] for j in range(len(v))) for i in range(len(A))]\n",
    "\n",
    "# 4. Trace of matrix product without explicit multiplication\n",
    "def trace_of_product(A, B):\n",
    "    if len(A[0]) != len(B) or len(A) != len(B[0]):\n",
    "        raise ValueError(\"Matrix dimensions are not compatible\")\n",
    "    return sum(sum(A[i][k] * B[k][i] for k in range(len(B))) for i in range(len(A)))\n",
    "\n",
    "# Test the functions\n",
    "A = [[1, 2], [3, 4]]\n",
    "B = [[5, 6], [7, 8]]\n",
    "v = [1, 2]\n",
    "\n",
    "print(\"Can multiply A and B:\", can_multiply(A, B))\n",
    "print(\"Hadamard product of A and B:\", hadamard_product(A, B))\n",
    "print(\"A * v:\", matrix_vector_multiply(A, v))\n",
    "print(\"Trace of A * B:\", trace_of_product(A, B))"
   ],
   "id": "d2d5a618bece87cc",
   "outputs": [
    {
     "name": "stdout",
     "output_type": "stream",
     "text": [
      "Can multiply A and B: True\n",
      "Hadamard product of A and B: [[5, 12], [21, 32]]\n",
      "A * v: [5, 11]\n",
      "Trace of A * B: 69\n"
     ]
    }
   ],
   "execution_count": 10
  },
  {
   "metadata": {},
   "cell_type": "code",
   "outputs": [],
   "execution_count": null,
   "source": "",
   "id": "50add51cfc4070cc"
  }
 ],
 "metadata": {
  "kernelspec": {
   "display_name": "Python 3",
   "language": "python",
   "name": "python3"
  },
  "language_info": {
   "codemirror_mode": {
    "name": "ipython",
    "version": 2
   },
   "file_extension": ".py",
   "mimetype": "text/x-python",
   "name": "python",
   "nbconvert_exporter": "python",
   "pygments_lexer": "ipython2",
   "version": "2.7.6"
  }
 },
 "nbformat": 4,
 "nbformat_minor": 5
}
