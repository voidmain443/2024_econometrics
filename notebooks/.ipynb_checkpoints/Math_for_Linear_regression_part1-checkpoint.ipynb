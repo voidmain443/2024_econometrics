{
 "cells": [
  {
   "metadata": {},
   "cell_type": "markdown",
   "source": "# Mathematics for Economist (B.S.) ",
   "id": "a4560eb2a698f0ff"
  },
  {
   "cell_type": "code",
   "id": "initial_id",
   "metadata": {
    "collapsed": true,
    "ExecuteTime": {
     "end_time": "2024-06-30T12:57:41.293082Z",
     "start_time": "2024-06-30T12:57:40.606744Z"
    }
   },
   "source": [
    "import numpy as np\n",
    "import matplotlib.pyplot as plt"
   ],
   "outputs": [],
   "execution_count": 1
  },
  {
   "metadata": {
    "ExecuteTime": {
     "end_time": "2024-06-30T13:12:14.823542Z",
     "start_time": "2024-06-30T13:12:14.821278Z"
    }
   },
   "cell_type": "code",
   "source": [
    "# D1 = np.array([[1, 2, 3, 4, 5, 6, 7, 8, 9, 10],[1.5,2.4,3.5,2.6,7.6,6.7,9.1,10,10,9.2]])\n",
    "# D2 = np.array([[1, 2, 3, 4, 5, 6, 7, 8, 9, 10],[1.5,2.4,3.5,2.6,7.6,6.7,9.1,10,10,9.2]])\n",
    "D1 = np.array([[1.0, 1.2, 3, 4, 5, 6], [1.7, 3, 2.3, 5.3, 3.8, 5.5]])\n",
    "D2 = np.array([[-0.6, 1.0, 1.2, 3, 4, 5, 6], [2.9, 1.7, 3, 2.3, 5.3, 3.8, 5.5]])\n",
    "     "
   ],
   "id": "9f7e6ef072c0339e",
   "outputs": [],
   "execution_count": 19
  },
  {
   "metadata": {
    "ExecuteTime": {
     "end_time": "2024-06-30T13:12:15.208519Z",
     "start_time": "2024-06-30T13:12:15.192673Z"
    }
   },
   "cell_type": "code",
   "source": [
    "fig ,(ax1, ax2) = plt.subplot(1,2, sharex=True, sharey=True)\n",
    "fig.set_size_inches((15,6))\n",
    "\n",
    "ax1.plot(D1[0],D1[1],'ko', markersize=10)\n",
    "ax1.set_title('Linear Regression D1', fontsize=20)\n",
    "ax1.set_xlim([-1,11])\n",
    "ax1.set_ylim([-1,11])\n",
    "\n",
    "ax2.plot(D2[0],D2[1],'ko', markersize=10)\n",
    "ax2.set_xlim([-1,11])\n",
    "ax2.set_ylim([-1,11])\n",
    "ax2.set_title('Linear Regression D2', fontsize=20)\n",
    "\n",
    "plt.show()"
   ],
   "id": "5100578997e66e50",
   "outputs": [
    {
     "ename": "TypeError",
     "evalue": "subplot() takes 1 or 3 positional arguments but 2 were given",
     "output_type": "error",
     "traceback": [
      "\u001B[0;31m---------------------------------------------------------------------------\u001B[0m",
      "\u001B[0;31mTypeError\u001B[0m                                 Traceback (most recent call last)",
      "Cell \u001B[0;32mIn[20], line 1\u001B[0m\n\u001B[0;32m----> 1\u001B[0m fig ,(ax1, ax2) \u001B[38;5;241m=\u001B[39m plt\u001B[38;5;241m.\u001B[39msubplot(\u001B[38;5;241m1\u001B[39m,\u001B[38;5;241m2\u001B[39m, sharex\u001B[38;5;241m=\u001B[39m\u001B[38;5;28;01mTrue\u001B[39;00m, sharey\u001B[38;5;241m=\u001B[39m\u001B[38;5;28;01mTrue\u001B[39;00m)\n\u001B[1;32m      2\u001B[0m fig\u001B[38;5;241m.\u001B[39mset_size_inches((\u001B[38;5;241m15\u001B[39m,\u001B[38;5;241m6\u001B[39m))\n\u001B[1;32m      4\u001B[0m ax1\u001B[38;5;241m.\u001B[39mplot(D1[\u001B[38;5;241m0\u001B[39m],D1[\u001B[38;5;241m1\u001B[39m],\u001B[38;5;124m'\u001B[39m\u001B[38;5;124mko\u001B[39m\u001B[38;5;124m'\u001B[39m, markersize\u001B[38;5;241m=\u001B[39m\u001B[38;5;241m10\u001B[39m)\n",
      "File \u001B[0;32m~/miniconda3/lib/python3.12/site-packages/matplotlib/pyplot.py:1440\u001B[0m, in \u001B[0;36msubplot\u001B[0;34m(*args, **kwargs)\u001B[0m\n\u001B[1;32m   1437\u001B[0m fig \u001B[38;5;241m=\u001B[39m gcf()\n\u001B[1;32m   1439\u001B[0m \u001B[38;5;66;03m# First, search for an existing subplot with a matching spec.\u001B[39;00m\n\u001B[0;32m-> 1440\u001B[0m key \u001B[38;5;241m=\u001B[39m SubplotSpec\u001B[38;5;241m.\u001B[39m_from_subplot_args(fig, args)\n\u001B[1;32m   1442\u001B[0m \u001B[38;5;28;01mfor\u001B[39;00m ax \u001B[38;5;129;01min\u001B[39;00m fig\u001B[38;5;241m.\u001B[39maxes:\n\u001B[1;32m   1443\u001B[0m     \u001B[38;5;66;03m# If we found an Axes at the position, we can re-use it if the user passed no\u001B[39;00m\n\u001B[1;32m   1444\u001B[0m     \u001B[38;5;66;03m# kwargs or if the axes class and kwargs are identical.\u001B[39;00m\n\u001B[1;32m   1445\u001B[0m     \u001B[38;5;28;01mif\u001B[39;00m (ax\u001B[38;5;241m.\u001B[39mget_subplotspec() \u001B[38;5;241m==\u001B[39m key\n\u001B[1;32m   1446\u001B[0m         \u001B[38;5;129;01mand\u001B[39;00m (kwargs \u001B[38;5;241m==\u001B[39m {}\n\u001B[1;32m   1447\u001B[0m              \u001B[38;5;129;01mor\u001B[39;00m (ax\u001B[38;5;241m.\u001B[39m_projection_init\n\u001B[1;32m   1448\u001B[0m                  \u001B[38;5;241m==\u001B[39m fig\u001B[38;5;241m.\u001B[39m_process_projection_requirements(\u001B[38;5;241m*\u001B[39m\u001B[38;5;241m*\u001B[39mkwargs)))):\n",
      "File \u001B[0;32m~/miniconda3/lib/python3.12/site-packages/matplotlib/gridspec.py:586\u001B[0m, in \u001B[0;36mSubplotSpec._from_subplot_args\u001B[0;34m(figure, args)\u001B[0m\n\u001B[1;32m    584\u001B[0m     rows, cols, num \u001B[38;5;241m=\u001B[39m args\n\u001B[1;32m    585\u001B[0m \u001B[38;5;28;01melse\u001B[39;00m:\n\u001B[0;32m--> 586\u001B[0m     \u001B[38;5;28;01mraise\u001B[39;00m _api\u001B[38;5;241m.\u001B[39mnargs_error(\u001B[38;5;124m\"\u001B[39m\u001B[38;5;124msubplot\u001B[39m\u001B[38;5;124m\"\u001B[39m, takes\u001B[38;5;241m=\u001B[39m\u001B[38;5;124m\"\u001B[39m\u001B[38;5;124m1 or 3\u001B[39m\u001B[38;5;124m\"\u001B[39m, given\u001B[38;5;241m=\u001B[39m\u001B[38;5;28mlen\u001B[39m(args))\n\u001B[1;32m    588\u001B[0m gs \u001B[38;5;241m=\u001B[39m GridSpec\u001B[38;5;241m.\u001B[39m_check_gridspec_exists(figure, rows, cols)\n\u001B[1;32m    589\u001B[0m \u001B[38;5;28;01mif\u001B[39;00m gs \u001B[38;5;129;01mis\u001B[39;00m \u001B[38;5;28;01mNone\u001B[39;00m:\n",
      "\u001B[0;31mTypeError\u001B[0m: subplot() takes 1 or 3 positional arguments but 2 were given"
     ]
    },
    {
     "data": {
      "text/plain": [
       "<Figure size 640x480 with 0 Axes>"
      ]
     },
     "metadata": {},
     "output_type": "display_data"
    }
   ],
   "execution_count": 20
  },
  {
   "metadata": {
    "ExecuteTime": {
     "end_time": "2024-06-30T13:08:27.170427Z",
     "start_time": "2024-06-30T13:08:27.048910Z"
    }
   },
   "cell_type": "code",
   "source": [
    "\n",
    "fig, (ax1, ax2) = plt.subplots(1, 2, sharex=True, sharey=True)\n",
    "fig.set_size_inches((15,6))\n",
    "\n",
    "ax1.xaxis.set_tick_params(labelsize=18)\n",
    "ax1.yaxis.set_tick_params(labelsize=18)\n",
    "ax1.set_xlabel('', fontsize=25)\n",
    "ax1.set_ylabel('', fontsize=25)\n",
    "ax1.grid(False)\n",
    "\n",
    "ax2.xaxis.set_tick_params(labelsize=18)\n",
    "ax2.yaxis.set_tick_params(labelsize=18)\n",
    "ax2.set_xlabel('', fontsize=25)\n",
    "ax2.set_ylabel('', fontsize=25)\n",
    "ax2.grid(False)\n",
    "\n",
    "ax1.plot(D1[0], D1[1], 'ko', markersize=10)\n",
    "ax1.set_xlim([-1,7])\n",
    "ax1.set_ylim([1,6])\n",
    "ax1.set_title('D1', fontsize=18)\n",
    "\n",
    "ax2.plot(D2[0], D2[1], 'ko', markersize=10)\n",
    "ax2.set_xlim([-1,7])\n",
    "ax2.set_ylim([1,6])\n",
    "ax2.set_title('D2', fontsize=18)\n",
    "\n",
    "plt.show()"
   ],
   "id": "7a83df44ac8e5032",
   "outputs": [
    {
     "data": {
      "text/plain": [
       "<Figure size 1500x600 with 2 Axes>"
      ],
      "image/png": "[encoded data removed]"
     },
     "metadata": {},
     "output_type": "display_data"
    }
   ],
   "execution_count": 14
  },
  {
   "metadata": {},
   "cell_type": "markdown",
   "source": "기획자를 위한 python",
   "id": "8d07c520a2e625a9"
  },
  {
   "metadata": {
    "ExecuteTime": {
     "end_time": "2024-07-24T11:18:40.392599Z",
     "start_time": "2024-07-24T11:18:29.957833Z"
    }
   },
   "cell_type": "code",
   "source": "# !conda install graphviz matplotlib networkx numpy pandas plotly pydot schemdraw",
   "id": "ede41130d2ff4358",
   "outputs": [
    {
     "name": "stdout",
     "output_type": "stream",
     "text": [
      "Retrieving notices: ...working... done\r\n",
      "Channels:\r\n",
      " - defaults\r\n",
      " - conda-forge\r\n",
      " - pytorch\r\n",
      "Platform: osx-arm64\r\n",
      "Collecting package metadata (repodata.json): done\r\n",
      "Solving environment: failed\r\n",
      "\r\n",
      "PackagesNotFoundError: The following packages are not available from current channels:\r\n",
      "\r\n",
      "  - padas\r\n",
      "\r\n",
      "Current channels:\r\n",
      "\r\n",
      "  - defaults\r\n",
      "  - https://conda.anaconda.org/conda-forge/osx-arm64\r\n",
      "  - https://conda.anaconda.org/conda-forge/noarch\r\n",
      "  - https://conda.anaconda.org/pytorch/osx-arm64\r\n",
      "\r\n",
      "To search for alternate channels that may provide the conda package you're\r\n",
      "looking for, navigate to\r\n",
      "\r\n",
      "    https://anaconda.org\r\n",
      "\r\n",
      "and use the search bar at the top of the page.\r\n",
      "\r\n",
      "\r\n"
     ]
    }
   ],
   "execution_count": 2
  },
  {
   "metadata": {
    "ExecuteTime": {
     "end_time": "2024-07-24T11:28:41.748373Z",
     "start_time": "2024-07-24T11:28:41.746870Z"
    }
   },
   "cell_type": "code",
   "source": [
    "import schemdraw \n",
    "from schemdraw import flow"
   ],
   "id": "8b4165d77246814",
   "outputs": [],
   "execution_count": 7
  },
  {
   "metadata": {},
   "cell_type": "code",
   "outputs": [],
   "execution_count": null,
   "source": [
    "with schemdraw.Drawing() as d:\n",
    "    d.config(fontsize=10, unit=.5)\n",
    "    flow.Terminal().label('Start')\n",
    "    flow.Arrow()\n",
    "    flow.Process().label('Do something').drop('E')\n",
    "    flow.Arrow().right()\n",
    "    flow.Process().label('Do something\\nelse')"
   ],
   "id": "efda83fe6bdbaf04"
  }
 ],
 "metadata": {
  "kernelspec": {
   "display_name": "Python 3",
   "language": "python",
   "name": "python3"
  },
  "language_info": {
   "codemirror_mode": {
    "name": "ipython",
    "version": 2
   },
   "file_extension": ".py",
   "mimetype": "text/x-python",
   "name": "python",
   "nbconvert_exporter": "python",
   "pygments_lexer": "ipython2",
   "version": "2.7.6"
  }
 },
 "nbformat": 4,
 "nbformat_minor": 5
}
